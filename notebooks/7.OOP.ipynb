{
 "cells": [
  {
   "cell_type": "markdown",
   "id": "8bd5aaaa",
   "metadata": {},
   "source": [
    "\n",
    "---\n",
    "# 📓 Python Programming - Object-Oriented Programming (OOP)\n",
    "---"
   ]
  },
  {
   "cell_type": "markdown",
   "id": "92c0021a",
   "metadata": {
    "vscode": {
     "languageId": "plaintext"
    }
   },
   "source": [
    "## 1. Classes & Objects"
   ]
  },
  {
   "cell_type": "markdown",
   "id": "0c1060bb",
   "metadata": {
    "vscode": {
     "languageId": "plaintext"
    }
   },
   "source": [
    "**What is OOP?**\n",
    "\n",
    "- Organizes code around real-world entities (objects).\n",
    "\n",
    "- **Class**: Blueprint for creating objects.\n",
    "\n",
    "- **Object**: An instance of a class."
   ]
  },
  {
   "cell_type": "code",
   "execution_count": null,
   "id": "a15c91fb",
   "metadata": {},
   "outputs": [],
   "source": [
    "# Defining a class\n",
    "class Student:\n",
    "    pass\n",
    "\n",
    "# Creating an object\n",
    "s1 = Student()\n",
    "print(type(s1))"
   ]
  },
  {
   "cell_type": "markdown",
   "id": "18dccc56",
   "metadata": {},
   "source": [
    "## 2. Class vs Object Attributes"
   ]
  },
  {
   "cell_type": "markdown",
   "id": "a55eab10",
   "metadata": {},
   "source": [
    "- **Class attributes**: Shared by all objects.\n",
    "\n",
    "- **Object attributes**: Unique to each object.\n",
    "\n",
    "**➤ Example:**"
   ]
  },
  {
   "cell_type": "code",
   "execution_count": null,
   "id": "10133b35",
   "metadata": {},
   "outputs": [],
   "source": [
    "class Student:\n",
    "    college = \"Westcliff University\"  # Class attribute\n",
    "\n",
    "    def __init__(self, name, age):\n",
    "        self.name = name  # Object attribute\n",
    "        self.age = age\n",
    "\n",
    "s1 = Student(\"Alice\", 20)\n",
    "s2 = Student(\"Bob\", 22)\n",
    "\n",
    "print(s1.name, s1.college)\n",
    "print(s2.name, s2.college)\n"
   ]
  },
  {
   "cell_type": "markdown",
   "id": "d357d624",
   "metadata": {},
   "source": [
    "## 3. Initializing Object Attributes with `__init__()`"
   ]
  },
  {
   "cell_type": "markdown",
   "id": "500ec324",
   "metadata": {},
   "source": [
    "`__init__()` is a special method that runs when an object is created. *(Like Constructor)*\n",
    "\n",
    "**➤ Example:**"
   ]
  },
  {
   "cell_type": "code",
   "execution_count": null,
   "metadata": {},
   "outputs": [],
   "source": [
    "class Car:\n",
    "    def __init__(self, brand, year):\n",
    "        self.brand = brand\n",
    "        self.year = year\n",
    "\n",
    "c1 = Car(\"Toyota\", 2020)\n",
    "print(c1.brand, c1.year)"
   ]
  },
  {
   "cell_type": "markdown",
   "id": "827d605f",
   "metadata": {},
   "source": [
    "## 4. The `self` Keyword"
   ]
  },
  {
   "cell_type": "markdown",
   "id": "887d78f1",
   "metadata": {},
   "source": [
    "- Refers to the current object.\n",
    "\n",
    "- Used to access object attributes and methods.\n",
    "\n",
    "**➤ Example:**"
   ]
  },
  {
   "cell_type": "code",
   "execution_count": null,
   "id": "6f9bf60b",
   "metadata": {},
   "outputs": [],
   "source": [
    "class Dog:\n",
    "    def __init__(self, name):\n",
    "        self.name = name\n",
    "\n",
    "    def speak(self):\n",
    "        print(f\"{self.name} says Woof!\")\n",
    "\n",
    "d = Dog(\"Buddy\")\n",
    "d.speak()"
   ]
  },
  {
   "cell_type": "markdown",
   "id": "5669fb7f",
   "metadata": {},
   "source": [
    "## 5. Inheritance"
   ]
  },
  {
   "cell_type": "markdown",
   "id": "6813d961",
   "metadata": {},
   "source": [
    "*Inheritance allows a class to use properties and methods of another class.*\n",
    "\n",
    "**Types:**\n",
    "- Single Inheritance\n",
    "\n",
    "- Multiple Inheritance\n",
    "\n",
    "- Multi-Level Inheritance\n"
   ]
  },
  {
   "cell_type": "markdown",
   "id": "367331f8",
   "metadata": {},
   "source": [
    "**➤ Single Inheritance:**"
   ]
  },
  {
   "cell_type": "code",
   "execution_count": null,
   "id": "cce91cae",
   "metadata": {},
   "outputs": [],
   "source": [
    "class Animal:\n",
    "    def speak(self):\n",
    "        print(\"Animal sound\")\n",
    "\n",
    "class Dog(Animal):\n",
    "    def bark(self):\n",
    "        print(\"Woof!\")\n",
    "\n",
    "d = Dog()\n",
    "d.speak()\n",
    "d.bark()"
   ]
  },
  {
   "cell_type": "markdown",
   "id": "f6b7df9b",
   "metadata": {},
   "source": [
    "**➤ Multiple Inheritance:**"
   ]
  },
  {
   "cell_type": "code",
   "execution_count": null,
   "id": "b81389f3",
   "metadata": {},
   "outputs": [],
   "source": [
    "class A:\n",
    "    def show_a(self):\n",
    "        print(\"A\")\n",
    "\n",
    "class B:\n",
    "    def show_b(self):\n",
    "        print(\"B\")\n",
    "\n",
    "class C(A, B):\n",
    "    pass\n",
    "\n",
    "c = C()\n",
    "c.show_a()\n",
    "c.show_b()\n"
   ]
  },
  {
   "cell_type": "markdown",
   "id": "f36291e0",
   "metadata": {},
   "source": [
    "**➤ Multi-Level Inheritance:**"
   ]
  },
  {
   "cell_type": "code",
   "execution_count": null,
   "id": "9cc8a263",
   "metadata": {},
   "outputs": [],
   "source": [
    "class Grandparent:\n",
    "    def grandparent_func(self):\n",
    "        print(\"Grandparent\")\n",
    "\n",
    "class Parent(Grandparent):\n",
    "    def parent_func(self):\n",
    "        print(\"Parent\")\n",
    "\n",
    "class Child(Parent):\n",
    "    def child_func(self):\n",
    "        print(\"Child\")\n",
    "\n",
    "c = Child()\n",
    "c.grandparent_func()\n",
    "c.parent_func()\n",
    "c.child_func()"
   ]
  },
  {
   "cell_type": "markdown",
   "id": "8e68c057",
   "metadata": {},
   "source": [
    "## 6. Polymorphism & Operator Overloading"
   ]
  },
  {
   "cell_type": "markdown",
   "id": "a4010947",
   "metadata": {},
   "source": [
    "### Polymorphism:\n",
    "- Same function name but different behaviors.\n",
    "\n",
    "### Operator Overloading:\n",
    "- Using special methods to define how operators behave for custom objects.\n",
    "\n",
    "**➤ Polymorphism Example:**"
   ]
  },
  {
   "cell_type": "code",
   "execution_count": null,
   "id": "fe4a06ab",
   "metadata": {},
   "outputs": [],
   "source": [
    "class Cat:\n",
    "    def sound(self):\n",
    "        print(\"Meow\")\n",
    "\n",
    "class Dog:\n",
    "    def sound(self):\n",
    "        print(\"Woof\")\n",
    "\n",
    "animals = [Cat(), Dog()]\n",
    "for animal in animals:\n",
    "    animal.sound()"
   ]
  },
  {
   "cell_type": "markdown",
   "id": "5d10db83",
   "metadata": {},
   "source": [
    "`Traditional Overloading Does Not Work in Python`"
   ]
  },
  {
   "cell_type": "code",
   "execution_count": null,
   "id": "ecd22af5",
   "metadata": {},
   "outputs": [],
   "source": [
    "def greet(name):\n",
    "    print(f\"Hello, {name}!\")\n",
    "\n",
    "def greet(name, age):\n",
    "    print(f\"Hello, {name}! You are {age} years old.\")\n",
    "\n",
    "greet(\"Alice\")  # ❌ TypeError: greet() missing 1 required positional argument: 'age'"
   ]
  },
  {
   "cell_type": "markdown",
   "id": "c3b63ae5",
   "metadata": {},
   "source": [
    "**➤ Python's Way of Function Overloading:**\n",
    "\n",
    "Python does not support function overloading in the traditional sense, as seen in languages like C++ or Java. In those languages, you can have multiple functions with the same name but different parameters (type or number). Python, however, allows you to define a function only once. If you define it again, it simply overwrites the previous definition.\n",
    "\n",
    "But there is some work around this. Discuss how to implement function overloading in Python using default arguments or variable-length arguments."
   ]
  },
  {
   "cell_type": "code",
   "execution_count": null,
   "id": "b774fa75",
   "metadata": {},
   "outputs": [],
   "source": [
    "# Using default arguments for overloading-like behavior\n",
    "def greet(name, age=None):\n",
    "    if age is None:\n",
    "        print(f\"Hello, {name}!\")\n",
    "    else:\n",
    "        print(f\"Hello, {name}! You are {age} years old.\")\n",
    "\n",
    "greet(\"Alice\")      # Works!\n",
    "greet(\"Bob\", 25)    # Also works!\n",
    "\n",
    "# Using *args for variable arguments\n",
    "def add(*numbers):\n",
    "    return sum(numbers)\n",
    "\n",
    "print(add(1, 2))        # 3\n",
    "print(add(1, 2, 3, 4))  # 10"
   ]
  },
  {
   "cell_type": "markdown",
   "id": "8cb35492",
   "metadata": {},
   "source": [
    "**➤ Operator Overloading Example:**"
   ]
  },
  {
   "cell_type": "code",
   "execution_count": null,
   "id": "a1f63a11",
   "metadata": {},
   "outputs": [],
   "source": [
    "class Point:\n",
    "    def __init__(self, x):\n",
    "        self.x = x\n",
    "\n",
    "    def __add__(self, other):\n",
    "        return Point(self.x + other.x)\n",
    "\n",
    "p1 = Point(5)\n",
    "p2 = Point(10)\n",
    "result = p1 + p2\n",
    "print(result.x)"
   ]
  },
  {
   "cell_type": "markdown",
   "id": "a231af95",
   "metadata": {},
   "source": [
    "## 7. Function Overriding & Encapsulation"
   ]
  },
  {
   "cell_type": "markdown",
   "id": "480b0e43",
   "metadata": {},
   "source": [
    "### Function Overriding:\n",
    "- Child class redefines a method from the parent class.\n",
    "\n",
    "### Encapsulation:\n",
    "- Restricts direct access to variables using private/protected attributes."
   ]
  },
  {
   "cell_type": "markdown",
   "id": "b078982d",
   "metadata": {},
   "source": [
    "**➤ Function Overriding Example:**"
   ]
  },
  {
   "cell_type": "code",
   "execution_count": null,
   "id": "0d2be18c",
   "metadata": {},
   "outputs": [],
   "source": [
    "class Animal:\n",
    "    def speak(self):\n",
    "        print(\"Animal sound\")\n",
    "\n",
    "class Dog(Animal):\n",
    "    def speak(self):\n",
    "        print(\"Woof!\")\n",
    "\n",
    "d = Dog()\n",
    "d.speak()\n"
   ]
  },
  {
   "cell_type": "markdown",
   "id": "0649c919",
   "metadata": {},
   "source": [
    "**➤ Encapsulation Example:**"
   ]
  },
  {
   "cell_type": "code",
   "execution_count": null,
   "id": "ddf7c5e2",
   "metadata": {},
   "outputs": [],
   "source": [
    "class BankAccount:\n",
    "    def __init__(self, balance):\n",
    "        self.__balance = balance  # Private attribute\n",
    "\n",
    "    def get_balance(self):\n",
    "        return self.__balance\n",
    "\n",
    "    def deposit(self, amount):\n",
    "        self.__balance += amount\n",
    "\n",
    "acc = BankAccount(1000)\n",
    "acc.deposit(500)\n",
    "print(acc.get_balance())"
   ]
  },
  {
   "cell_type": "markdown",
   "id": "d959ee5a",
   "metadata": {},
   "source": [
    "**➤ Using Properties (Getters & Setters):**"
   ]
  },
  {
   "cell_type": "code",
   "execution_count": null,
   "id": "340dc832",
   "metadata": {},
   "outputs": [],
   "source": [
    "class Temperature:\n",
    "    def __init__(self):\n",
    "        self._celsius = 0\n",
    "    \n",
    "    @property\n",
    "    def celsius(self):\n",
    "        return self._celsius\n",
    "    \n",
    "    @celsius.setter\n",
    "    def celsius(self, value):\n",
    "        if value < -273.15:\n",
    "            raise ValueError(\"Temperature below absolute zero is not possible\")\n",
    "        self._celsius = value\n",
    "    \n",
    "    @property\n",
    "    def fahrenheit(self):\n",
    "        return (self._celsius * 9/5) + 32\n",
    "\n",
    "# Usage\n",
    "temp = Temperature()\n",
    "temp.celsius = 25\n",
    "print(f\"Celsius: {temp.celsius}\")\n",
    "print(f\"Fahrenheit: {temp.fahrenheit}\")"
   ]
  },
  {
   "cell_type": "markdown",
   "id": "46818cf4",
   "metadata": {},
   "source": [
    "## 8. Class Methods & Static Methods"
   ]
  },
  {
   "cell_type": "markdown",
   "id": "4e0ae64d",
   "metadata": {},
   "source": [
    "**Class Methods & Static Methods:**\n",
    "\n",
    "- **Instance Method**: Needs `self`, works with object data\n",
    "- **Class Method**: Uses `@classmethod`, gets `cls` parameter\n",
    "- **Static Method**: Uses `@staticmethod`, independent function inside class\n",
    "\n",
    "**➤ Example:**"
   ]
  },
  {
   "cell_type": "code",
   "execution_count": null,
   "id": "90d3d64e",
   "metadata": {},
   "outputs": [],
   "source": [
    "class Person:\n",
    "    species = \"Homo sapiens\"  # Class attribute\n",
    "    \n",
    "    def __init__(self, name, age):\n",
    "        self.name = name        # Instance attribute\n",
    "        self.age = age\n",
    "    \n",
    "    # Instance method\n",
    "    def introduce(self):\n",
    "        return f\"Hi, I'm {self.name}, {self.age} years old\"\n",
    "    \n",
    "    # Class method\n",
    "    @classmethod\n",
    "    def get_species(cls):\n",
    "        return cls.species\n",
    "    \n",
    "    @classmethod\n",
    "    def create_baby(cls, name):\n",
    "        return cls(name, 0)  # Alternative constructor\n",
    "    \n",
    "    # Static method\n",
    "    @staticmethod\n",
    "    def is_adult(age):\n",
    "        return age >= 18\n",
    "\n",
    "# Usage examples\n",
    "p1 = Person(\"Alice\", 25)\n",
    "print(p1.introduce())           # Instance method\n",
    "\n",
    "print(Person.get_species())     # Class method\n",
    "baby = Person.create_baby(\"Bob\") # Class method as constructor\n",
    "print(baby.introduce())\n",
    "\n",
    "print(Person.is_adult(17))      # Static method\n",
    "print(Person.is_adult(20))"
   ]
  },
  {
   "cell_type": "markdown",
   "id": "87477500",
   "metadata": {},
   "source": [
    "## 9. Special Methods (Magic Methods)"
   ]
  },
  {
   "cell_type": "markdown",
   "id": "7d51c2c3",
   "metadata": {},
   "source": [
    "**Special methods start and end with double underscores `__`**\n",
    "\n",
    "**Common ones:**\n",
    "- `__str__()` → What users see when printing\n",
    "- `__repr__()` → Developer representation  \n",
    "- `__len__()` → Makes objects work with `len()`\n",
    "- `__eq__()` → Custom equality comparison\n",
    "\n",
    "**➤ Example:**"
   ]
  },
  {
   "cell_type": "code",
   "execution_count": null,
   "id": "67a5c891",
   "metadata": {},
   "outputs": [],
   "source": [
    "class Book:\n",
    "    def __init__(self, title, pages):\n",
    "        self.title = title\n",
    "        self.pages = pages\n",
    "    \n",
    "    def __str__(self):\n",
    "        return f\"Book: {self.title}\"\n",
    "    \n",
    "    def __repr__(self):\n",
    "        return f\"Book('{self.title}', {self.pages})\"\n",
    "    \n",
    "    def __len__(self):\n",
    "        return self.pages\n",
    "    \n",
    "    def __eq__(self, other):\n",
    "        return self.title == other.title\n",
    "\n",
    "# Testing special methods\n",
    "book1 = Book(\"Python Guide\", 300)\n",
    "book2 = Book(\"Python Guide\", 350)\n",
    "\n",
    "print(book1)                    # Uses __str__\n",
    "print(repr(book1))              # Uses __repr__\n",
    "print(len(book1))               # Uses __len__\n",
    "print(book1 == book2)           # Uses __eq__\n",
    "\n",
    "# Create a list of books\n",
    "books = [book1, Book(\"Java Guide\", 400)]\n",
    "print(f\"Total pages: {sum(len(book) for book in books)}\")"
   ]
  },
  {
   "cell_type": "markdown",
   "id": "2a60c297",
   "metadata": {},
   "source": [
    "## 10. Composition vs Inheritance"
   ]
  },
  {
   "cell_type": "markdown",
   "id": "0055ae3b",
   "metadata": {},
   "source": [
    "**Two ways to reuse code:**\n",
    "\n",
    "- **Inheritance**: \"IS-A\" relationship (Dog IS-A Animal)\n",
    "- **Composition**: \"HAS-A\" relationship (Car HAS-A Engine)\n",
    "\n",
    "**➤ Composition Example:**"
   ]
  },
  {
   "cell_type": "code",
   "execution_count": null,
   "id": "abfc9bdc",
   "metadata": {},
   "outputs": [],
   "source": [
    "# Composition example\n",
    "class Engine:\n",
    "    def __init__(self, horsepower):\n",
    "        self.horsepower = horsepower\n",
    "    \n",
    "    def start(self):\n",
    "        return f\"Engine with {self.horsepower}hp started!\"\n",
    "\n",
    "class Car:\n",
    "    def __init__(self, brand, engine):\n",
    "        self.brand = brand\n",
    "        self.engine = engine  # Car HAS-A Engine\n",
    "    \n",
    "    def start_car(self):\n",
    "        return f\"{self.brand}: {self.engine.start()}\"\n",
    "\n",
    "# Usage\n",
    "engine = Engine(200)\n",
    "car = Car(\"Toyota\", engine)\n",
    "print(car.start_car())\n",
    "\n",
    "# Compare with inheritance approach\n",
    "class Animal:\n",
    "    def breathe(self):\n",
    "        return \"Breathing...\"\n",
    "\n",
    "class Dog(Animal):  # Dog IS-A Animal\n",
    "    def bark(self):\n",
    "        return \"Woof!\"\n",
    "\n",
    "dog = Dog()\n",
    "print(dog.breathe())  # Inherited method\n",
    "print(dog.bark())     # Own method"
   ]
  },
  {
   "cell_type": "markdown",
   "id": "487a8522",
   "metadata": {},
   "source": [
    "### **🎯 Quick Recap**"
   ]
  },
  {
   "cell_type": "markdown",
   "id": "595033e2",
   "metadata": {},
   "source": [
    "✅ OOP models real-world entities with classes and objects\n",
    "\n",
    "✅ Class attributes shared, object attributes unique\n",
    "\n",
    "✅ Inheritance promotes code reuse (IS-A relationship)\n",
    "\n",
    "✅ Composition provides flexibility (HAS-A relationship)\n",
    "\n",
    "✅ Polymorphism enables flexibility through method overriding\n",
    "\n",
    "✅ Properties provide clean encapsulation with getters/setters\n",
    "\n",
    "✅ Class methods and static methods offer different functionality levels\n",
    "\n",
    "✅ Special methods make objects work with built-in functions\n",
    "\n",
    "✅ Function overriding & encapsulation provide safety and control"
   ]
  },
  {
   "cell_type": "markdown",
   "id": "1f91dbf2",
   "metadata": {},
   "source": [
    "### **📝 Practice Exercises**\n",
    "\n",
    "**Basic Level:**\n",
    "\n",
    "1. Create a `Car` class with brand and year, and display details using a method.\n",
    "\n",
    "2. Demonstrate single inheritance with `Animal` → `Bird`.\n",
    "\n",
    "3. Create a class `Rectangle` that overloads `+` to add areas of two rectangles.\n",
    "\n",
    "4. Use encapsulation to hide a bank account's balance and provide methods to deposit/withdraw.\n",
    "\n",
    "5. Demonstrate function overriding using a parent-child class structure.\n",
    "\n",
    "**Intermediate Level:**\n",
    "\n",
    "6. Create a `Person` class with properties for name and age validation.\n",
    "\n",
    "7. Build a `Calculator` class with static methods for basic operations.\n",
    "\n",
    "8. Create a `Book` class with special methods (`__str__`, `__len__`, `__eq__`).\n",
    "\n",
    "9. Use composition to create a `Computer` class that HAS-A `Processor`.\n",
    "\n",
    "10. Create a class method that works as an alternative constructor.\n",
    "\n",
    "**Advanced Level:**\n",
    "\n",
    "11. Build a complete `BankAccount` system with properties and validation.\n",
    "\n",
    "12. Create a polymorphic system with different `Shape` classes.\n",
    "\n",
    "13. Implement a `Library` class that manages `Book` objects using composition.\n",
    "\n",
    "14. Design a class hierarchy for different types of vehicles with proper inheritance.\n",
    "\n",
    "15. Create a `Temperature` class with property decorators for Celsius/Fahrenheit conversion."
   ]
  }
 ],
 "metadata": {
  "kernelspec": {
   "display_name": "Python 3",
   "language": "python",
   "name": "python3"
  },
  "language_info": {
   "codemirror_mode": {
    "name": "ipython",
    "version": 3
   },
   "file_extension": ".py",
   "mimetype": "text/x-python",
   "name": "python",
   "nbconvert_exporter": "python",
   "pygments_lexer": "ipython3",
   "version": "3.12.10"
  }
 },
 "nbformat": 4,
 "nbformat_minor": 5
}
