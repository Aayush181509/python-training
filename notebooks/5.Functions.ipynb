{
 "cells": [
  {
   "cell_type": "markdown",
   "id": "96b2cc55",
   "metadata": {},
   "source": [
    "---\n",
    "# **📓 Python Programming - Functions**\n",
    "\n",
    "---"
   ]
  },
  {
   "cell_type": "markdown",
   "id": "4ec0858e",
   "metadata": {
    "vscode": {
     "languageId": "plaintext"
    }
   },
   "source": [
    "## 🟢 1. Defining Functions with def Keyword\n",
    "\n",
    "Functions allow us to group reusable pieces of code.\n",
    "\n",
    "**Syntax:**\n",
    "\n",
    "```python\n",
    "def function_name(parameters):\n",
    "    # code block\n",
    "    return value\n",
    "```"
   ]
  },
  {
   "cell_type": "markdown",
   "id": "efa44d56",
   "metadata": {
    "vscode": {
     "languageId": "plaintext"
    }
   },
   "source": [
    "**➤ Example:**"
   ]
  },
  {
   "cell_type": "code",
   "execution_count": null,
   "id": "bc61c61a",
   "metadata": {},
   "outputs": [],
   "source": [
    "# Simple function\n",
    "def greet():\n",
    "    print(\"Hello, welcome to Python class!\")\n",
    "\n",
    "greet()"
   ]
  },
  {
   "cell_type": "markdown",
   "id": "b5cc1583",
   "metadata": {
    "vscode": {
     "languageId": "plaintext"
    }
   },
   "source": [
    "## 🟢 2. Parameters, Arguments & Return Statements\n",
    "- **Parameter:** The variable listed inside parentheses in function definition.\n",
    "\n",
    "- **Argument:** The value passed to the function.\n",
    "\n",
    "- `return` sends a result back to the caller.\n"
   ]
  },
  {
   "cell_type": "code",
   "execution_count": null,
   "id": "055ce5f9",
   "metadata": {},
   "outputs": [],
   "source": [
    "def add(a, b):\n",
    "    return a + b\n",
    "\n",
    "result = add(5, 3)\n",
    "print(\"Sum:\", result)"
   ]
  },
  {
   "cell_type": "markdown",
   "id": "7807a058",
   "metadata": {},
   "source": [
    "## 🟢 3. Returning Multiple Values\n",
    "\n",
    "**You can return multiple values as a tuple.**"
   ]
  },
  {
   "cell_type": "code",
   "execution_count": null,
   "id": "e309df1d",
   "metadata": {},
   "outputs": [],
   "source": [
    "def calculate(x, y):\n",
    "    sum_ = x + y\n",
    "    diff = x - y\n",
    "    multiply = x * y\n",
    "    return sum_, diff, multiply\n",
    "\n",
    "s, d, m = calculate(10, 4)\n",
    "print(\"Sum:\", s)\n",
    "print(\"Difference:\", d)\n",
    "print(\"Multiplication:\", m)"
   ]
  },
  {
   "cell_type": "markdown",
   "id": "05884d11",
   "metadata": {},
   "source": [
    "## 🟢 4. Default & Keyword Arguments"
   ]
  },
  {
   "cell_type": "markdown",
   "id": "a15c47cd",
   "metadata": {},
   "source": [
    "**Default arguments:** Provide default values if no argument is passed.\n",
    "\n",
    "**Keyword arguments:** Specify arguments by name during function call."
   ]
  },
  {
   "cell_type": "code",
   "execution_count": null,
   "id": "4854b5b6",
   "metadata": {},
   "outputs": [],
   "source": [
    "# Default argument\n",
    "def greet(name=\"Guest\"):\n",
    "    print(f\"Hello, {name}!\")\n",
    "\n",
    "greet()\n",
    "greet(\"Alice\")\n",
    "\n",
    "# Keyword argument\n",
    "def student(name, age):\n",
    "    print(f\"Name: {name}, Age: {age}\")\n",
    "\n",
    "student(age=21, name=\"Bob\")"
   ]
  },
  {
   "cell_type": "markdown",
   "id": "97164e85",
   "metadata": {},
   "source": [
    "## 🟢 5. Anonymous Functions (lambda)\n",
    "\n",
    "`lambda` functions are small, one-line anonymous functions."
   ]
  },
  {
   "cell_type": "code",
   "execution_count": null,
   "id": "4bc7992d",
   "metadata": {},
   "outputs": [],
   "source": [
    "# Lambda function for square\n",
    "square = lambda x: x ** 2\n",
    "print(square(5))\n",
    "\n",
    "# Lambda with multiple arguments\n",
    "add = lambda a, b: a + b\n",
    "print(add(3, 4))"
   ]
  },
  {
   "cell_type": "markdown",
   "id": "c1e29463",
   "metadata": {},
   "source": [
    "## 🟢 6. Nested Functions & Closures\n",
    "You can define functions inside other functions.\n",
    "\n",
    "**Closure:** Inner function remembers variables from the outer function.\n"
   ]
  },
  {
   "cell_type": "code",
   "execution_count": null,
   "id": "50cbae62",
   "metadata": {},
   "outputs": [],
   "source": [
    "def outer():\n",
    "    msg = \"Python is fun!\"\n",
    "\n",
    "    def inner():\n",
    "        print(msg)\n",
    "    \n",
    "    return inner\n",
    "\n",
    "my_func = outer()\n",
    "my_func()"
   ]
  },
  {
   "cell_type": "markdown",
   "id": "9a91b907",
   "metadata": {},
   "source": [
    "## 🟢 7. Scopes in Python: Local & Global\n",
    "- **Local Scope:** Variables defined inside a function.\n",
    "\n",
    "- **Global Scope:** Variables defined outside all functions.\n"
   ]
  },
  {
   "cell_type": "markdown",
   "id": "48106be7",
   "metadata": {},
   "source": [
    "**➤ Example:**"
   ]
  },
  {
   "cell_type": "code",
   "execution_count": null,
   "id": "5803b9b4",
   "metadata": {},
   "outputs": [],
   "source": [
    "x = 10  # Global variable\n",
    "\n",
    "def show():\n",
    "    x = 5  # Local variable\n",
    "    print(\"Inside function:\", x)\n",
    "\n",
    "show()\n",
    "print(\"Outside function:\", x)"
   ]
  },
  {
   "cell_type": "markdown",
   "id": "f02468ab",
   "metadata": {},
   "source": [
    "**➤ Global Keyword Example:**"
   ]
  },
  {
   "cell_type": "code",
   "execution_count": null,
   "id": "0045b940",
   "metadata": {},
   "outputs": [
    {
     "name": "stdout",
     "output_type": "stream",
     "text": [
      "After modification: 20\n"
     ]
    }
   ],
   "source": [
    "x = 10\n",
    "\n",
    "def modify():\n",
    "    global x\n",
    "    x = 20\n",
    "\n",
    "modify()\n",
    "print(\"After modification:\", x)"
   ]
  },
  {
   "cell_type": "markdown",
   "id": "9fd2ff21",
   "metadata": {},
   "source": [
    "### **🎯 Quick Recap**"
   ]
  },
  {
   "cell_type": "markdown",
   "id": "df1ef4a3",
   "metadata": {},
   "source": [
    "✅ Functions are reusable code blocks.  \n",
    "\n",
    "✅ Can return multiple values.  \n",
    "\n",
    "✅ Default and keyword arguments improve flexibility.  \n",
    "\n",
    "✅ Lambda functions create simple anonymous functions.  \n",
    "\n",
    "✅ Nested functions & closures allow for advanced design.  \n",
    "\n",
    "✅ Understand local vs global scope.  "
   ]
  },
  {
   "cell_type": "markdown",
   "id": "e5b63fc4",
   "metadata": {},
   "source": [
    "## 📝 Practice Exercises\n",
    "\n",
    "1. Write a function to find the maximum of two numbers.\n",
    "\n",
    "2. Create a lambda function to calculate the cube of a number.\n",
    "\n",
    "3. Write a function that returns the sum, product, and difference of two numbers.\n",
    "\n",
    "4. Use a default argument to greet a user if no name is provided.\n",
    "\n",
    "5. Demonstrate variable scope by defining a global variable and modifying it inside a function.\n"
   ]
  }
 ],
 "metadata": {
  "kernelspec": {
   "display_name": "Python 3",
   "language": "python",
   "name": "python3"
  },
  "language_info": {
   "codemirror_mode": {
    "name": "ipython",
    "version": 3
   },
   "file_extension": ".py",
   "mimetype": "text/x-python",
   "name": "python",
   "nbconvert_exporter": "python",
   "pygments_lexer": "ipython3",
   "version": "3.12.10"
  }
 },
 "nbformat": 4,
 "nbformat_minor": 5
}
