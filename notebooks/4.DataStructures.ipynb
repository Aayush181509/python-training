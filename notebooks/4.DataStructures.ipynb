{
 "cells": [
  {
   "cell_type": "markdown",
   "id": "19d86367",
   "metadata": {
    "vscode": {
     "languageId": "plaintext"
    }
   },
   "source": [
    "---\n",
    "# 📓 **Python Programming - Data Structures**\n",
    "---"
   ]
  },
  {
   "cell_type": "markdown",
   "id": "8dc70473",
   "metadata": {
    "vscode": {
     "languageId": "plaintext"
    }
   },
   "source": [
    "## 🟢 1. Lists"
   ]
  },
  {
   "cell_type": "markdown",
   "id": "ae1856b1",
   "metadata": {
    "vscode": {
     "languageId": "plaintext"
    }
   },
   "source": [
    "**Lists in Python:**\n",
    "- Ordered, mutable (can be changed) collection of items.\n",
    "\n",
    "- Can store mixed data types."
   ]
  },
  {
   "cell_type": "code",
   "execution_count": null,
   "id": "c74f33d3",
   "metadata": {},
   "outputs": [],
   "source": [
    "# Creating a list\n",
    "fruits = [\"apple\", \"banana\", \"cherry\"]\n",
    "print(fruits)"
   ]
  },
  {
   "cell_type": "markdown",
   "id": "c7d29530",
   "metadata": {},
   "source": [
    "**➤ Indexing, Slicing & Negative Indexing:**"
   ]
  },
  {
   "cell_type": "code",
   "execution_count": null,
   "id": "80629508",
   "metadata": {},
   "outputs": [],
   "source": [
    "# Indexing\n",
    "print(fruits[0])  # First item\n",
    "print(fruits[-1])  # Last item\n",
    "\n",
    "# Slicing\n",
    "print(fruits[0:2])  # First two items\n"
   ]
  },
  {
   "cell_type": "markdown",
   "id": "01a52c02",
   "metadata": {},
   "source": [
    "**➤ Looping Through Lists & Conditions:**"
   ]
  },
  {
   "cell_type": "code",
   "execution_count": null,
   "id": "bc668beb",
   "metadata": {},
   "outputs": [],
   "source": [
    "for fruit in fruits:\n",
    "    if fruit.startswith(\"b\"):\n",
    "        print(f\"{fruit} starts with 'b'\")"
   ]
  },
  {
   "cell_type": "markdown",
   "id": "892268f1",
   "metadata": {},
   "source": [
    "**➤ Useful List Methods:**"
   ]
  },
  {
   "cell_type": "code",
   "execution_count": null,
   "id": "546bfac3",
   "metadata": {},
   "outputs": [],
   "source": [
    "# Adding items\n",
    "fruits.append(\"orange\")\n",
    "print(fruits)\n",
    "\n",
    "fruits.insert(1, \"mango\")\n",
    "print(fruits)\n",
    "\n",
    "# Removing items\n",
    "fruits.remove(\"banana\")\n",
    "print(fruits)\n",
    "\n",
    "# Sorting\n",
    "fruits.sort()\n",
    "print(fruits)"
   ]
  },
  {
   "cell_type": "markdown",
   "id": "db43d45a",
   "metadata": {},
   "source": [
    "**➤ List Comprehension with Conditions:**"
   ]
  },
  {
   "cell_type": "code",
   "execution_count": null,
   "id": "827afa7b",
   "metadata": {},
   "outputs": [],
   "source": [
    "# Create list of squares for even numbers from 0 to 10\n",
    "squares = [x**2 for x in range(11) if x % 2 == 0]\n",
    "print(squares)"
   ]
  },
  {
   "cell_type": "markdown",
   "id": "3a188a62",
   "metadata": {},
   "source": [
    "## 🟢 2. Tuples"
   ]
  },
  {
   "cell_type": "markdown",
   "id": "7f1dedc9",
   "metadata": {},
   "source": [
    "**Tuples:**\n",
    "- Ordered, immutable collection.\n",
    "\n",
    "- Faster than lists.\n",
    "\n",
    "- Suitable for fixed data.\n"
   ]
  },
  {
   "cell_type": "code",
   "execution_count": null,
   "id": "2ed5d769",
   "metadata": {},
   "outputs": [],
   "source": [
    "# Creating a tuple\n",
    "dimensions = (10, 20, 30)\n",
    "print(dimensions)\n",
    "\n",
    "# Indexing and Slicing\n",
    "print(dimensions[1])\n",
    "print(dimensions[:2])\n",
    "\n",
    "# Looping\n",
    "for dim in dimensions:\n",
    "    print(dim)\n"
   ]
  },
  {
   "cell_type": "markdown",
   "id": "4836640a",
   "metadata": {},
   "source": [
    "**➤ List vs Tuple:**\n",
    "\n",
    "- List: **Mutable** → You can modify contents.\n",
    "\n",
    "- Tuple: **Immutable** → Contents cannot be changed.\n",
    "\n",
    "- Lists have more built-in methods compared to tuples.\n",
    "\n",
    "- Use lists for homogeneous items and tuples for heterogeneous items.\n",
    "\n",
    "\n"
   ]
  },
  {
   "cell_type": "markdown",
   "id": "d6ebd6a3",
   "metadata": {},
   "source": [
    "**➤ Switching Between Lists and Tuples:**"
   ]
  },
  {
   "cell_type": "code",
   "execution_count": null,
   "id": "dff06bf8",
   "metadata": {},
   "outputs": [],
   "source": [
    "# List to Tuple\n",
    "my_list = [1, 2, 3]\n",
    "my_tuple = tuple(my_list)\n",
    "print(my_tuple)\n",
    "\n",
    "# Tuple to List\n",
    "new_list = list(my_tuple)\n",
    "print(new_list)"
   ]
  },
  {
   "cell_type": "markdown",
   "id": "c80fcd45",
   "metadata": {},
   "source": [
    "**➤ Tuple Unpacking:**"
   ]
  },
  {
   "cell_type": "code",
   "execution_count": null,
   "id": "b614cfe1",
   "metadata": {},
   "outputs": [],
   "source": [
    "person = (\"Alice\", 25, \"Engineer\")\n",
    "name, age, profession = person\n",
    "print(name, age, profession)"
   ]
  },
  {
   "cell_type": "markdown",
   "id": "957a79cc",
   "metadata": {},
   "source": [
    "## 🟢 3. Sets"
   ]
  },
  {
   "cell_type": "markdown",
   "id": "45e6d13a",
   "metadata": {},
   "source": [
    "**Sets:**\n",
    "- Unordered collection of unique items.\n",
    "\n",
    "- Used for mathematical operations like union, intersection, etc."
   ]
  },
  {
   "cell_type": "markdown",
   "id": "2aba64d7",
   "metadata": {},
   "source": [
    "**➤ Basic Set Operations:**"
   ]
  },
  {
   "cell_type": "code",
   "execution_count": null,
   "id": "6e93caba",
   "metadata": {},
   "outputs": [],
   "source": [
    "# Creating sets\n",
    "colors = {\"red\", \"green\", \"blue\"}\n",
    "print(colors)\n",
    "\n",
    "# Adding, Removing, Discarding\n",
    "colors.add(\"yellow\")\n",
    "print(colors)\n",
    "\n",
    "colors.remove(\"green\")  # Raises error if not present\n",
    "print(colors)\n",
    "\n",
    "colors.discard(\"purple\")  # No error if not present\n",
    "print(colors)\n"
   ]
  },
  {
   "cell_type": "markdown",
   "id": "18965c8e",
   "metadata": {},
   "source": [
    "**➤ Set Operations:**"
   ]
  },
  {
   "cell_type": "code",
   "execution_count": null,
   "id": "049010fd",
   "metadata": {},
   "outputs": [],
   "source": [
    "a = {1, 2, 3, 4}\n",
    "b = {3, 4, 5, 6}\n",
    "\n",
    "print(\"Union:\", a | b)\n",
    "print(\"Intersection:\", a & b)\n",
    "print(\"Difference:\", a - b)"
   ]
  },
  {
   "cell_type": "markdown",
   "id": "212209fa",
   "metadata": {},
   "source": [
    "**➤ Frozenset vs Set:**\n",
    "\n",
    "- `set` → Mutable  \n",
    "\n",
    "- `frozenset` → Immutable  "
   ]
  },
  {
   "cell_type": "code",
   "execution_count": null,
   "id": "f52b41bc",
   "metadata": {},
   "outputs": [],
   "source": [
    "fs = frozenset([1, 2, 3])\n",
    "print(fs)"
   ]
  },
  {
   "cell_type": "markdown",
   "id": "b3efa586",
   "metadata": {},
   "source": [
    "## 🟢 4. Dictionaries"
   ]
  },
  {
   "cell_type": "markdown",
   "id": "2d4c5c18",
   "metadata": {},
   "source": [
    "**Dictionaries:**\n",
    "- Collection of key-value pairs.\n",
    "\n",
    "- Keys must be unique.\n"
   ]
  },
  {
   "cell_type": "markdown",
   "id": "cf919026",
   "metadata": {},
   "source": [
    "**➤ Creating & Accessing:**"
   ]
  },
  {
   "cell_type": "code",
   "execution_count": null,
   "id": "9575beab",
   "metadata": {},
   "outputs": [],
   "source": [
    "student = {\"name\": \"Alice\", \"age\": 22, \"grade\": \"A\"}\n",
    "print(student[\"name\"])"
   ]
  },
  {
   "cell_type": "markdown",
   "id": "7e52efc5",
   "metadata": {},
   "source": [
    "**➤ Useful Dictionary Methods:**"
   ]
  },
  {
   "cell_type": "code",
   "execution_count": null,
   "id": "35da13ba",
   "metadata": {},
   "outputs": [],
   "source": [
    "# Get with default\n",
    "print(student.get(\"age\"))\n",
    "print(student.get(\"major\", \"Not specified\"))\n",
    "\n",
    "# Update\n",
    "student.update({\"grade\": \"A+\", \"major\": \"CS\"})\n",
    "print(student)\n",
    "\n",
    "# Keys, Values\n",
    "print(student.keys())\n",
    "print(student.values())\n",
    "\n",
    "# Pop\n",
    "student.pop(\"age\")\n",
    "print(student)\n"
   ]
  },
  {
   "cell_type": "markdown",
   "id": "5c93f727",
   "metadata": {},
   "source": [
    "**➤ Dictionary Comprehension:**"
   ]
  },
  {
   "cell_type": "code",
   "execution_count": null,
   "id": "f20b5fc8",
   "metadata": {},
   "outputs": [],
   "source": [
    "# Squares of numbers\n",
    "squares = {x: x**2 for x in range(5)}\n",
    "print(squares)\n",
    "\n",
    "# Filtering even squares\n",
    "even_squares = {k: v for k, v in squares.items() if v % 2 == 0}\n",
    "print(even_squares)\n"
   ]
  },
  {
   "cell_type": "markdown",
   "id": "64b65bc8",
   "metadata": {},
   "source": [
    "**➤ Nested Dictionaries:**"
   ]
  },
  {
   "cell_type": "code",
   "execution_count": null,
   "id": "5fae9f85",
   "metadata": {},
   "outputs": [],
   "source": [
    "# Student with nested details\n",
    "student = {\n",
    "    \"name\": \"Alice\",\n",
    "    \"subjects\": {\"Math\": 90, \"Science\": 95}\n",
    "}\n",
    "\n",
    "print(student[\"subjects\"][\"Math\"])"
   ]
  },
  {
   "cell_type": "markdown",
   "id": "ae6d343c",
   "metadata": {},
   "source": [
    "### 🎯 Quick Recap\n",
    "\n",
    "✅ Lists → Ordered, mutable  \n",
    "\n",
    "✅ Tuples → Ordered, immutable  \n",
    "\n",
    "✅ Sets → Unordered, unique items  \n",
    "\n",
    "✅ Dictionaries → Key-value pairs  \n",
    "\n",
    "✅ Use list/dictionary comprehension for concise code  "
   ]
  },
  {
   "cell_type": "markdown",
   "id": "ecbc41a0",
   "metadata": {},
   "source": [
    "### 📝 Practice Exercises\n",
    "\n",
    "1. Create a list of your favorite 5 movies and sort them.\n",
    "\n",
    "2. Convert a list of numbers to a tuple and unpack the first three numbers.\n",
    "\n",
    "3. Find common elements between two sets.\n",
    "\n",
    "4. Create a dictionary for a book with title, author, and year. Add a genre to it.\n",
    "\n",
    "5. Use dictionary comprehension to map numbers from 1 to 5 to their cubes.\n"
   ]
  }
 ],
 "metadata": {
  "kernelspec": {
   "display_name": "Python 3",
   "language": "python",
   "name": "python3"
  },
  "language_info": {
   "codemirror_mode": {
    "name": "ipython",
    "version": 3
   },
   "file_extension": ".py",
   "mimetype": "text/x-python",
   "name": "python",
   "nbconvert_exporter": "python",
   "pygments_lexer": "ipython3",
   "version": "3.12.10"
  }
 },
 "nbformat": 4,
 "nbformat_minor": 5
}
