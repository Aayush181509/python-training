{
 "cells": [
  {
   "cell_type": "markdown",
   "id": "19d86367",
   "metadata": {
    "vscode": {
     "languageId": "plaintext"
    }
   },
   "source": [
    "---\n",
    "# 📓 **Python Programming - Data Structures**\n",
    "---"
   ]
  },
  {
   "cell_type": "markdown",
   "id": "8dc70473",
   "metadata": {
    "vscode": {
     "languageId": "plaintext"
    }
   },
   "source": [
    "## 1. Lists"
   ]
  },
  {
   "cell_type": "markdown",
   "id": "ae1856b1",
   "metadata": {
    "vscode": {
     "languageId": "plaintext"
    }
   },
   "source": [
    "**Lists in Python:**\n",
    "- Ordered, mutable (can be changed) collection of items.\n",
    "\n",
    "- Can store mixed data types."
   ]
  },
  {
   "cell_type": "code",
   "execution_count": null,
   "id": "c74f33d3",
   "metadata": {},
   "outputs": [],
   "source": [
    "# Creating a list\n",
    "fruits = [\"apple\", \"banana\", \"cherry\"]\n",
    "print(fruits)"
   ]
  },
  {
   "cell_type": "markdown",
   "id": "c7d29530",
   "metadata": {},
   "source": [
    "**➤ Indexing, Slicing & Negative Indexing:**"
   ]
  },
  {
   "cell_type": "code",
   "execution_count": null,
   "id": "80629508",
   "metadata": {},
   "outputs": [],
   "source": [
    "# Indexing\n",
    "print(fruits[0])  # First item\n",
    "print(fruits[-1])  # Last item\n",
    "\n",
    "# Slicing\n",
    "print(fruits[0:2])  # First two items\n"
   ]
  },
  {
   "cell_type": "markdown",
   "id": "01a52c02",
   "metadata": {},
   "source": [
    "**➤ Looping Through Lists & Conditions:**"
   ]
  },
  {
   "cell_type": "code",
   "execution_count": null,
   "id": "bc668beb",
   "metadata": {},
   "outputs": [],
   "source": [
    "for fruit in fruits:\n",
    "    if fruit.startswith(\"b\"):\n",
    "        print(f\"{fruit} starts with 'b'\")"
   ]
  },
  {
   "cell_type": "markdown",
   "id": "892268f1",
   "metadata": {},
   "source": [
    "**➤ Useful List Methods:**"
   ]
  },
  {
   "cell_type": "code",
   "execution_count": null,
   "id": "546bfac3",
   "metadata": {},
   "outputs": [],
   "source": [
    "# Adding items\n",
    "fruits.append(\"orange\")\n",
    "print(fruits)\n",
    "\n",
    "fruits.insert(1, \"mango\")\n",
    "print(fruits)\n",
    "\n",
    "# Removing items\n",
    "fruits.remove(\"banana\")\n",
    "print(fruits)\n",
    "\n",
    "# Sorting\n",
    "fruits.sort()\n",
    "print(fruits)"
   ]
  },
  {
   "cell_type": "markdown",
   "id": "9edc5e3d",
   "metadata": {},
   "source": [
    "**➤ More List Methods & Operations:**"
   ]
  },
  {
   "cell_type": "code",
   "execution_count": null,
   "id": "fee1180e",
   "metadata": {},
   "outputs": [],
   "source": [
    "# More list methods\n",
    "numbers = [3, 1, 4, 1, 5, 9, 2, 6]\n",
    "print(\"Original list:\", numbers)\n",
    "\n",
    "# Count occurrences\n",
    "print(\"Count of 1:\", numbers.count(1))\n",
    "\n",
    "# Find index\n",
    "print(\"Index of 4:\", numbers.index(4))\n",
    "\n",
    "# Extend (vs append)\n",
    "numbers.extend([7, 8])  # Adds multiple items\n",
    "print(\"After extend:\", numbers)\n",
    "\n",
    "# Reverse\n",
    "numbers.reverse()\n",
    "print(\"After reverse:\", numbers)\n",
    "\n",
    "# Clear\n",
    "temp_list = [1, 2, 3]\n",
    "temp_list.clear()\n",
    "print(\"After clear:\", temp_list)\n",
    "\n",
    "# Copy (shallow vs deep)\n",
    "original = [1, [2, 3], 4]\n",
    "shallow_copy = original.copy()\n",
    "deep_copy = original[:]  # Simple way for lists\n",
    "print(\"Original:\", original)\n",
    "print(\"Shallow copy:\", shallow_copy)\n",
    "\n",
    "# List concatenation and repetition\n",
    "list1 = [1, 2, 3]\n",
    "list2 = [4, 5, 6]\n",
    "combined = list1 + list2\n",
    "print(\"Combined:\", combined)\n",
    "\n",
    "repeated = [0] * 5\n",
    "print(\"Repeated:\", repeated)"
   ]
  },
  {
   "cell_type": "markdown",
   "id": "db43d45a",
   "metadata": {},
   "source": [
    "**➤ List Comprehension with Conditions:**"
   ]
  },
  {
   "cell_type": "code",
   "execution_count": null,
   "id": "827afa7b",
   "metadata": {},
   "outputs": [],
   "source": [
    "# Create list of squares for even numbers from 0 to 10\n",
    "squares = [x**2 for x in range(11) if x % 2 == 0]\n",
    "print(squares)"
   ]
  },
  {
   "cell_type": "markdown",
   "id": "4616b11d",
   "metadata": {},
   "source": [
    "**➤ Nested Lists (2D Lists):**"
   ]
  },
  {
   "cell_type": "code",
   "execution_count": null,
   "id": "1d2ac3b8",
   "metadata": {},
   "outputs": [],
   "source": [
    "# Creating a 2D list (matrix)\n",
    "matrix = [[1, 2, 3], [4, 5, 6], [7, 8, 9]]\n",
    "print(\"Matrix:\", matrix)\n",
    "\n",
    "# Accessing elements\n",
    "print(\"Element at [1][2]:\", matrix[1][2])\n",
    "\n",
    "# Iterating through 2D list\n",
    "print(\"All elements:\")\n",
    "for row in matrix:\n",
    "    for element in row:\n",
    "        print(element, end=\" \")\n",
    "    print()  # New line after each row\n",
    "\n",
    "# Using enumerate for indices\n",
    "print(\"With indices:\")\n",
    "for i, row in enumerate(matrix):\n",
    "    for j, element in enumerate(row):\n",
    "        print(f\"[{i}][{j}] = {element}\")\n",
    "\n",
    "# List comprehension for 2D\n",
    "flattened = [element for row in matrix for element in row]\n",
    "print(\"Flattened:\", flattened)\n",
    "\n",
    "# Creating a 2D list with comprehension\n",
    "multiplication_table = [[i * j for j in range(1, 4)] for i in range(1, 4)]\n",
    "print(\"Multiplication table:\", multiplication_table)"
   ]
  },
  {
   "cell_type": "markdown",
   "id": "3a188a62",
   "metadata": {},
   "source": [
    "## 2. Tuples"
   ]
  },
  {
   "cell_type": "markdown",
   "id": "7f1dedc9",
   "metadata": {},
   "source": [
    "**Tuples:**\n",
    "- Ordered, immutable collection.\n",
    "\n",
    "- Faster than lists.\n",
    "\n",
    "- Suitable for fixed data.\n"
   ]
  },
  {
   "cell_type": "code",
   "execution_count": null,
   "id": "2ed5d769",
   "metadata": {},
   "outputs": [],
   "source": [
    "# Creating a tuple\n",
    "dimensions = (10, 20, 30)\n",
    "print(dimensions)\n",
    "\n",
    "# Indexing and Slicing\n",
    "print(dimensions[1])\n",
    "print(dimensions[:2])\n",
    "\n",
    "# Looping\n",
    "for dim in dimensions:\n",
    "    print(dim)\n"
   ]
  },
  {
   "cell_type": "markdown",
   "id": "7a247848",
   "metadata": {},
   "source": [
    "**➤ More Tuple Operations:**"
   ]
  },
  {
   "cell_type": "code",
   "execution_count": null,
   "id": "0780f743",
   "metadata": {},
   "outputs": [],
   "source": [
    "# Tuple methods\n",
    "numbers = (1, 2, 3, 2, 4, 2, 5)\n",
    "print(\"Original tuple:\", numbers)\n",
    "print(\"Count of 2:\", numbers.count(2))\n",
    "print(\"Index of 3:\", numbers.index(3))\n",
    "\n",
    "# Tuple concatenation\n",
    "tuple1 = (1, 2, 3)\n",
    "tuple2 = (4, 5, 6)\n",
    "combined = tuple1 + tuple2\n",
    "print(\"Combined tuple:\", combined)\n",
    "\n",
    "# Tuple repetition\n",
    "repeated = (0,) * 5  # Note the comma for single element tuple\n",
    "print(\"Repeated tuple:\", repeated)\n",
    "\n",
    "# Single element tuple (important!)\n",
    "single = (42,)  # Comma is required\n",
    "not_tuple = (42)  # This is just an integer\n",
    "print(\"Single element tuple:\", single, type(single))\n",
    "print(\"Not a tuple:\", not_tuple, type(not_tuple))\n",
    "\n",
    "# Nested tuples\n",
    "nested = ((1, 2), (3, 4), (5, 6))\n",
    "print(\"Nested tuple:\", nested)\n",
    "print(\"Access nested element:\", nested[1][0])\n",
    "\n",
    "# Named tuples (from collections module)\n",
    "from collections import namedtuple\n",
    "\n",
    "# Define a named tuple\n",
    "Point = namedtuple('Point', ['x', 'y'])\n",
    "Student = namedtuple('Student', ['name', 'age', 'grade'])\n",
    "\n",
    "# Create instances\n",
    "p = Point(10, 20)\n",
    "student = Student('Alice', 20, 'A')\n",
    "\n",
    "print(\"Point:\", p)\n",
    "print(\"Access by name:\", p.x, p.y)\n",
    "print(\"Student:\", student)\n",
    "print(\"Student name:\", student.name)"
   ]
  },
  {
   "cell_type": "markdown",
   "id": "4836640a",
   "metadata": {},
   "source": [
    "**➤ List vs Tuple:**\n",
    "\n",
    "- List: **Mutable** → You can modify contents.\n",
    "\n",
    "- Tuple: **Immutable** → Contents cannot be changed.\n",
    "\n",
    "- Lists have more built-in methods compared to tuples.\n",
    "\n",
    "- Use lists for homogeneous items and tuples for heterogeneous items.\n",
    "\n",
    "\n"
   ]
  },
  {
   "cell_type": "markdown",
   "id": "d6ebd6a3",
   "metadata": {},
   "source": [
    "**➤ Switching Between Lists and Tuples:**"
   ]
  },
  {
   "cell_type": "code",
   "execution_count": null,
   "id": "dff06bf8",
   "metadata": {},
   "outputs": [],
   "source": [
    "# List to Tuple\n",
    "my_list = [1, 2, 3]\n",
    "my_tuple = tuple(my_list)\n",
    "print(my_tuple)\n",
    "\n",
    "# Tuple to List\n",
    "new_list = list(my_tuple)\n",
    "print(new_list)"
   ]
  },
  {
   "cell_type": "markdown",
   "id": "c80fcd45",
   "metadata": {},
   "source": [
    "**➤ Tuple Unpacking:**"
   ]
  },
  {
   "cell_type": "code",
   "execution_count": null,
   "id": "b614cfe1",
   "metadata": {},
   "outputs": [],
   "source": [
    "person = (\"Alice\", 25, \"Engineer\")\n",
    "name, age, profession = person\n",
    "print(name, age, profession)"
   ]
  },
  {
   "cell_type": "markdown",
   "id": "957a79cc",
   "metadata": {},
   "source": [
    "## 3. Sets"
   ]
  },
  {
   "cell_type": "markdown",
   "id": "45e6d13a",
   "metadata": {},
   "source": [
    "**Sets:**\n",
    "- Unordered collection of unique items.\n",
    "\n",
    "- Used for mathematical operations like union, intersection, etc."
   ]
  },
  {
   "cell_type": "markdown",
   "id": "2aba64d7",
   "metadata": {},
   "source": [
    "**➤ Basic Set Operations:**"
   ]
  },
  {
   "cell_type": "code",
   "execution_count": null,
   "id": "6e93caba",
   "metadata": {},
   "outputs": [],
   "source": [
    "# Creating sets\n",
    "colors = {\"red\", \"green\", \"blue\"}\n",
    "print(colors)\n",
    "\n",
    "# Adding, Removing, Discarding\n",
    "colors.add(\"yellow\")\n",
    "print(colors)\n",
    "\n",
    "colors.remove(\"green\")  # Raises error if not present\n",
    "print(colors)\n",
    "\n",
    "colors.discard(\"purple\")  # No error if not present\n",
    "print(colors)\n"
   ]
  },
  {
   "cell_type": "markdown",
   "id": "35af70b9",
   "metadata": {},
   "source": [
    "**➤ More Set Operations & Methods:**"
   ]
  },
  {
   "cell_type": "code",
   "execution_count": null,
   "id": "aa067c43",
   "metadata": {},
   "outputs": [],
   "source": [
    "# Set from list (removes duplicates)\n",
    "numbers = [1, 2, 2, 3, 3, 3, 4, 5]\n",
    "unique_numbers = set(numbers)\n",
    "print(\"Original list:\", numbers)\n",
    "print(\"Unique set:\", unique_numbers)\n",
    "\n",
    "# Set methods\n",
    "set1 = {1, 2, 3, 4, 5}\n",
    "set2 = {4, 5, 6, 7, 8}\n",
    "\n",
    "print(\"Set1:\", set1)\n",
    "print(\"Set2:\", set2)\n",
    "\n",
    "# Union (all elements)\n",
    "print(\"Union (|):\", set1 | set2)\n",
    "print(\"Union method:\", set1.union(set2))\n",
    "\n",
    "# Intersection (common elements)\n",
    "print(\"Intersection (&):\", set1 & set2)\n",
    "print(\"Intersection method:\", set1.intersection(set2))\n",
    "\n",
    "# Difference (elements in set1 but not in set2)\n",
    "print(\"Difference (-):\", set1 - set2)\n",
    "print(\"Difference method:\", set1.difference(set2))\n",
    "\n",
    "# Symmetric difference (elements in either set, but not both)\n",
    "print(\"Symmetric difference (^):\", set1 ^ set2)\n",
    "print(\"Symmetric difference method:\", set1.symmetric_difference(set2))\n",
    "\n",
    "# Subset and superset checks\n",
    "small_set = {1, 2}\n",
    "print(\"Is {1, 2} subset of set1?\", small_set.issubset(set1))\n",
    "print(\"Is set1 superset of {1, 2}?\", set1.issuperset(small_set))\n",
    "\n",
    "# Disjoint sets (no common elements)\n",
    "set3 = {10, 11, 12}\n",
    "print(\"Are set1 and set3 disjoint?\", set1.isdisjoint(set3))\n",
    "\n",
    "# Set comprehension\n",
    "even_squares = {x**2 for x in range(10) if x % 2 == 0}\n",
    "print(\"Even squares:\", even_squares)"
   ]
  },
  {
   "cell_type": "markdown",
   "id": "18965c8e",
   "metadata": {},
   "source": [
    "**➤ Set Operations:**"
   ]
  },
  {
   "cell_type": "code",
   "execution_count": null,
   "id": "049010fd",
   "metadata": {},
   "outputs": [],
   "source": [
    "a = {1, 2, 3, 4}\n",
    "b = {3, 4, 5, 6}\n",
    "\n",
    "print(\"Union:\", a | b)\n",
    "print(\"Intersection:\", a & b)\n",
    "print(\"Difference:\", a - b)"
   ]
  },
  {
   "cell_type": "markdown",
   "id": "212209fa",
   "metadata": {},
   "source": [
    "**➤ Frozenset vs Set:**\n",
    "\n",
    "- `set` → Mutable  \n",
    "\n",
    "- `frozenset` → Immutable  "
   ]
  },
  {
   "cell_type": "code",
   "execution_count": null,
   "id": "f52b41bc",
   "metadata": {},
   "outputs": [],
   "source": [
    "fs = frozenset([1, 2, 3])\n",
    "print(fs)"
   ]
  },
  {
   "cell_type": "markdown",
   "id": "b3efa586",
   "metadata": {},
   "source": [
    "## 4. Dictionaries"
   ]
  },
  {
   "cell_type": "markdown",
   "id": "2d4c5c18",
   "metadata": {},
   "source": [
    "**Dictionaries:**\n",
    "- Collection of key-value pairs.\n",
    "\n",
    "- Keys must be unique.\n"
   ]
  },
  {
   "cell_type": "markdown",
   "id": "cf919026",
   "metadata": {},
   "source": [
    "**➤ Creating & Accessing:**"
   ]
  },
  {
   "cell_type": "code",
   "execution_count": null,
   "id": "9575beab",
   "metadata": {},
   "outputs": [],
   "source": [
    "student = {\"name\": \"Alice\", \"age\": 22, \"grade\": \"A\"}\n",
    "print(student[\"name\"])"
   ]
  },
  {
   "cell_type": "markdown",
   "id": "7e52efc5",
   "metadata": {},
   "source": [
    "**➤ Useful Dictionary Methods:**"
   ]
  },
  {
   "cell_type": "code",
   "execution_count": null,
   "id": "35da13ba",
   "metadata": {},
   "outputs": [],
   "source": [
    "# Get with default\n",
    "print(student.get(\"age\"))\n",
    "print(student.get(\"major\", \"Not specified\"))\n",
    "\n",
    "# Update\n",
    "student.update({\"grade\": \"A+\", \"major\": \"CS\"})\n",
    "print(student)\n",
    "\n",
    "# Keys, Values\n",
    "print(student.keys())\n",
    "print(student.values())\n",
    "\n",
    "# Pop\n",
    "student.pop(\"age\")\n",
    "print(student)\n"
   ]
  },
  {
   "cell_type": "markdown",
   "id": "34b0867c",
   "metadata": {},
   "source": [
    "**➤ More Dictionary Methods & Operations:**"
   ]
  },
  {
   "cell_type": "code",
   "execution_count": null,
   "id": "d74963a2",
   "metadata": {},
   "outputs": [],
   "source": [
    "# Dictionary from lists\n",
    "keys = ['name', 'age', 'city']\n",
    "values = ['Bob', 25, 'London']\n",
    "person = dict(zip(keys, values))\n",
    "print(\"Dictionary from lists:\", person)\n",
    "\n",
    "# Dictionary methods\n",
    "inventory = {'apples': 50, 'bananas': 30, 'cherries': 20}\n",
    "print(\"Original inventory:\", inventory)\n",
    "\n",
    "# Items, keys, values iteration\n",
    "print(\"Items:\")\n",
    "for item in inventory.items():\n",
    "    print(item)\n",
    "\n",
    "print(\"Key-value pairs:\")\n",
    "for key, value in inventory.items():\n",
    "    print(f\"{key}: {value}\")\n",
    "\n",
    "# Popitem (removes and returns last item)\n",
    "last_item = inventory.popitem()\n",
    "print(\"Popped item:\", last_item)\n",
    "print(\"After popitem:\", inventory)\n",
    "\n",
    "# Setdefault (get or set default value)\n",
    "inventory.setdefault('oranges', 0)\n",
    "print(\"After setdefault:\", inventory)\n",
    "\n",
    "# Dictionary merging (Python 3.9+)\n",
    "dict1 = {'a': 1, 'b': 2}\n",
    "dict2 = {'c': 3, 'd': 4}\n",
    "# merged = dict1 | dict2  # Python 3.9+\n",
    "merged = {**dict1, **dict2}  # Works in older versions\n",
    "print(\"Merged dictionary:\", merged)\n",
    "\n",
    "# Dictionary with default values\n",
    "from collections import defaultdict\n",
    "dd = defaultdict(int)  # Default value is 0\n",
    "dd['a'] += 1\n",
    "dd['b'] += 2\n",
    "print(\"Default dict:\", dict(dd))\n",
    "\n",
    "# Counter (specialized dictionary)\n",
    "from collections import Counter\n",
    "text = \"hello world\"\n",
    "char_count = Counter(text)\n",
    "print(\"Character count:\", char_count)\n",
    "print(\"Most common:\", char_count.most_common(3))"
   ]
  },
  {
   "cell_type": "markdown",
   "id": "5c93f727",
   "metadata": {},
   "source": [
    "**➤ Dictionary Comprehension:**"
   ]
  },
  {
   "cell_type": "code",
   "execution_count": null,
   "id": "f20b5fc8",
   "metadata": {},
   "outputs": [],
   "source": [
    "# Squares of numbers\n",
    "squares = {x: x**2 for x in range(5)}\n",
    "print(squares)\n",
    "\n",
    "# Filtering even squares\n",
    "even_squares = {k: v for k, v in squares.items() if v % 2 == 0}\n",
    "print(even_squares)\n"
   ]
  },
  {
   "cell_type": "markdown",
   "id": "64b65bc8",
   "metadata": {},
   "source": [
    "**➤ Nested Dictionaries:**"
   ]
  },
  {
   "cell_type": "code",
   "execution_count": null,
   "id": "5fae9f85",
   "metadata": {},
   "outputs": [],
   "source": [
    "# Student with nested details\n",
    "student = {\n",
    "    \"name\": \"Alice\",\n",
    "    \"subjects\": {\"Math\": 90, \"Science\": 95}\n",
    "}\n",
    "\n",
    "print(student[\"subjects\"][\"Math\"])"
   ]
  },
  {
   "cell_type": "markdown",
   "id": "ae6d343c",
   "metadata": {},
   "source": [
    "### 🎯 Quick Recap\n",
    "\n",
    "✅ Lists → Ordered, mutable  \n",
    "\n",
    "✅ Tuples → Ordered, immutable  \n",
    "\n",
    "✅ Sets → Unordered, unique items  \n",
    "\n",
    "✅ Dictionaries → Key-value pairs  \n",
    "\n",
    "✅ Use list/dictionary comprehension for concise code  "
   ]
  },
  {
   "cell_type": "markdown",
   "id": "892a8ec4",
   "metadata": {},
   "source": [
    "## 5. Additional Data Structures\n",
    "\n",
    "**Python provides several specialized data structures in the `collections` module:**"
   ]
  },
  {
   "cell_type": "code",
   "execution_count": null,
   "id": "8b6eee17",
   "metadata": {},
   "outputs": [],
   "source": [
    "# Deque (double-ended queue)\n",
    "from collections import deque\n",
    "\n",
    "# Create a deque\n",
    "dq = deque([1, 2, 3, 4, 5])\n",
    "print(\"Original deque:\", dq)\n",
    "\n",
    "# Add to both ends\n",
    "dq.appendleft(0)\n",
    "dq.append(6)\n",
    "print(\"After adding to both ends:\", dq)\n",
    "\n",
    "# Remove from both ends\n",
    "left_item = dq.popleft()\n",
    "right_item = dq.pop()\n",
    "print(f\"Removed {left_item} from left, {right_item} from right\")\n",
    "print(\"After removal:\", dq)\n",
    "\n",
    "# Rotate\n",
    "dq.rotate(2)  # Rotate right by 2\n",
    "print(\"After rotating right by 2:\", dq)\n",
    "\n",
    "# OrderedDict (remembers insertion order)\n",
    "from collections import OrderedDict\n",
    "od = OrderedDict()\n",
    "od['first'] = 1\n",
    "od['second'] = 2\n",
    "od['third'] = 3\n",
    "print(\"OrderedDict:\", od)\n",
    "\n",
    "# Move to end\n",
    "od.move_to_end('first')\n",
    "print(\"After moving 'first' to end:\", od)\n",
    "\n",
    "# ChainMap (combines multiple dictionaries)\n",
    "from collections import ChainMap\n",
    "dict1 = {'a': 1, 'b': 2}\n",
    "dict2 = {'c': 3, 'd': 4}\n",
    "dict3 = {'e': 5, 'f': 6}\n",
    "\n",
    "chain = ChainMap(dict1, dict2, dict3)\n",
    "print(\"ChainMap:\", chain)\n",
    "print(\"Value of 'a':\", chain['a'])\n",
    "print(\"All keys:\", list(chain.keys()))"
   ]
  },
  {
   "cell_type": "markdown",
   "id": "1dc2918a",
   "metadata": {},
   "source": [
    "## 6. Performance & When to Use Each Structure\n",
    "\n",
    "**Time Complexity Comparison:**\n",
    "\n",
    "| Operation | List | Tuple | Set | Dictionary |\n",
    "|-----------|------|-------|-----|------------|\n",
    "| Access by index | O(1) | O(1) | N/A | N/A |\n",
    "| Access by key | N/A | N/A | N/A | O(1) |\n",
    "| Search | O(n) | O(n) | O(1) | O(1) |\n",
    "| Insert | O(n) | N/A | O(1) | O(1) |\n",
    "| Delete | O(n) | N/A | O(1) | O(1) |\n",
    "\n",
    "**When to Use Each:**\n",
    "- **List**: When you need ordered, mutable data with duplicates\n",
    "- **Tuple**: When you need ordered, immutable data (coordinates, database records)\n",
    "- **Set**: When you need unique elements and fast membership testing\n",
    "- **Dictionary**: When you need key-value mapping with fast lookups"
   ]
  },
  {
   "cell_type": "code",
   "execution_count": null,
   "id": "4edb3898",
   "metadata": {},
   "outputs": [],
   "source": [
    "# Practical examples of when to use each structure\n",
    "\n",
    "# Example 1: Shopping cart (List - ordered, allows duplicates)\n",
    "shopping_cart = ['apple', 'banana', 'apple', 'orange']\n",
    "print(\"Shopping cart:\", shopping_cart)\n",
    "\n",
    "# Example 2: GPS coordinates (Tuple - immutable, fixed structure)\n",
    "locations = [\n",
    "    ('New York', 40.7128, -74.0060),\n",
    "    ('London', 51.5074, -0.1278),\n",
    "    ('Tokyo', 35.6762, 139.6503)\n",
    "]\n",
    "print(\"Locations:\", locations)\n",
    "\n",
    "# Example 3: Unique visitors (Set - no duplicates)\n",
    "unique_visitors = {'user1', 'user2', 'user1', 'user3'}\n",
    "print(\"Unique visitors:\", unique_visitors)\n",
    "\n",
    "# Example 4: User profiles (Dictionary - key-value mapping)\n",
    "user_profiles = {\n",
    "    'user1': {'name': 'Alice', 'age': 25},\n",
    "    'user2': {'name': 'Bob', 'age': 30},\n",
    "    'user3': {'name': 'Charlie', 'age': 35}\n",
    "}\n",
    "print(\"User profiles:\", user_profiles)\n",
    "\n",
    "# Memory usage comparison\n",
    "import sys\n",
    "list_data = [1, 2, 3, 4, 5]\n",
    "tuple_data = (1, 2, 3, 4, 5)\n",
    "set_data = {1, 2, 3, 4, 5}\n",
    "dict_data = {1: 'a', 2: 'b', 3: 'c', 4: 'd', 5: 'e'}\n",
    "\n",
    "print(f\"List memory: {sys.getsizeof(list_data)} bytes\")\n",
    "print(f\"Tuple memory: {sys.getsizeof(tuple_data)} bytes\")\n",
    "print(f\"Set memory: {sys.getsizeof(set_data)} bytes\")\n",
    "print(f\"Dict memory: {sys.getsizeof(dict_data)} bytes\")"
   ]
  },
  {
   "cell_type": "markdown",
   "id": "104f3de5",
   "metadata": {},
   "source": [
    "## 7. Converting Between Data Structures\n",
    "\n",
    "**Converting between different data structures is often necessary:**"
   ]
  },
  {
   "cell_type": "code",
   "execution_count": null,
   "id": "ab6e44a8",
   "metadata": {},
   "outputs": [],
   "source": [
    "# Converting between data structures\n",
    "original_list = [1, 2, 3, 2, 4, 5]\n",
    "print(\"Original list:\", original_list)\n",
    "\n",
    "# List to other structures\n",
    "list_to_tuple = tuple(original_list)\n",
    "list_to_set = set(original_list)  # Removes duplicates\n",
    "print(\"List to tuple:\", list_to_tuple)\n",
    "print(\"List to set:\", list_to_set)\n",
    "\n",
    "# Tuple to other structures\n",
    "tuple_to_list = list(list_to_tuple)\n",
    "tuple_to_set = set(list_to_tuple)\n",
    "print(\"Tuple to list:\", tuple_to_list)\n",
    "print(\"Tuple to set:\", tuple_to_set)\n",
    "\n",
    "# Set to other structures\n",
    "set_to_list = list(list_to_set)\n",
    "set_to_tuple = tuple(list_to_set)\n",
    "print(\"Set to list:\", set_to_list)\n",
    "print(\"Set to tuple:\", set_to_tuple)\n",
    "\n",
    "# Dictionary conversions\n",
    "sample_dict = {'a': 1, 'b': 2, 'c': 3}\n",
    "print(\"Original dict:\", sample_dict)\n",
    "\n",
    "# Dictionary to lists/tuples/sets\n",
    "dict_keys = list(sample_dict.keys())\n",
    "dict_values = list(sample_dict.values())\n",
    "dict_items = list(sample_dict.items())\n",
    "print(\"Dict keys:\", dict_keys)\n",
    "print(\"Dict values:\", dict_values)\n",
    "print(\"Dict items:\", dict_items)\n",
    "\n",
    "# Lists to dictionary\n",
    "keys = ['name', 'age', 'city']\n",
    "values = ['Alice', 25, 'Boston']\n",
    "list_to_dict = dict(zip(keys, values))\n",
    "print(\"Lists to dict:\", list_to_dict)\n",
    "\n",
    "# List of tuples to dictionary\n",
    "tuple_list = [('x', 1), ('y', 2), ('z', 3)]\n",
    "tuples_to_dict = dict(tuple_list)\n",
    "print(\"Tuples to dict:\", tuples_to_dict)\n",
    "\n",
    "# String to other structures\n",
    "text = \"hello\"\n",
    "string_to_list = list(text)\n",
    "string_to_tuple = tuple(text)\n",
    "string_to_set = set(text)  # Removes duplicate characters\n",
    "print(\"String to list:\", string_to_list)\n",
    "print(\"String to tuple:\", string_to_tuple)\n",
    "print(\"String to set:\", string_to_set)"
   ]
  },
  {
   "cell_type": "markdown",
   "id": "ecbc41a0",
   "metadata": {},
   "source": [
    "### 📝 Practice Exercises\n",
    "\n",
    "**Basic Exercises:**\n",
    "\n",
    "1. Create a list of your favorite 5 movies and sort them.\n",
    "\n",
    "2. Convert a list of numbers to a tuple and unpack the first three numbers.\n",
    "\n",
    "3. Find common elements between two sets.\n",
    "\n",
    "4. Create a dictionary for a book with title, author, and year. Add a genre to it.\n",
    "\n",
    "5. Use dictionary comprehension to map numbers from 1 to 5 to their cubes.\n",
    "\n",
    "**Intermediate Exercises:**\n",
    "\n",
    "6. Create a 2D list representing a 3x3 matrix and print it row by row.\n",
    "\n",
    "7. Remove duplicates from a list while preserving order (without using set).\n",
    "\n",
    "8. Create a word frequency counter using a dictionary.\n",
    "\n",
    "9. Use set operations to find students taking both Math and Science courses.\n",
    "\n",
    "10. Implement a simple phone book using nested dictionaries.\n",
    "\n",
    "**Advanced Exercises:**\n",
    "\n",
    "11. Create a function that flattens a nested list of any depth.\n",
    "\n",
    "12. Build a simple inventory system using dictionaries and lists.\n",
    "\n",
    "13. Use collections.Counter to analyze text and find the most common words.\n",
    "\n",
    "14. Create a student grading system with multiple subjects and calculate averages.\n",
    "\n",
    "15. Implement a simple cache system using dictionaries.\n",
    "\n",
    "**Challenge Exercises:**\n",
    "\n",
    "16. Create a data structure to represent a family tree using nested dictionaries.\n",
    "\n",
    "17. Build a simple database system that can store and query student records.\n",
    "\n",
    "18. Implement a text-based menu system for a restaurant using data structures.\n",
    "\n",
    "19. Create a library management system with books, authors, and borrowers.\n",
    "\n",
    "20. Build a simple social network representation using dictionaries and sets.\n"
   ]
  }
 ],
 "metadata": {
  "kernelspec": {
   "display_name": "Python 3",
   "language": "python",
   "name": "python3"
  },
  "language_info": {
   "codemirror_mode": {
    "name": "ipython",
    "version": 3
   },
   "file_extension": ".py",
   "mimetype": "text/x-python",
   "name": "python",
   "nbconvert_exporter": "python",
   "pygments_lexer": "ipython3",
   "version": "3.12.10"
  }
 },
 "nbformat": 4,
 "nbformat_minor": 5
}
