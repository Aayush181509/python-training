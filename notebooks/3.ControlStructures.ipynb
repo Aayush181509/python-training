{
 "cells": [
  {
   "cell_type": "markdown",
   "id": "331be51b",
   "metadata": {},
   "source": [
    "# 📓 Python Programming - Control Structures\n"
   ]
  },
  {
   "cell_type": "markdown",
   "id": "bba4cc82",
   "metadata": {
    "vscode": {
     "languageId": "plaintext"
    }
   },
   "source": [
    "## 🟢 1. Conditional Statements"
   ]
  },
  {
   "cell_type": "markdown",
   "id": "dbc63fe1",
   "metadata": {
    "vscode": {
     "languageId": "plaintext"
    }
   },
   "source": [
    "**Conditional Statements in Python:**\n",
    "- Used to make decisions based on conditions.\n",
    "\n",
    "- Keywords: `if`, `elif`, `else`."
   ]
  },
  {
   "cell_type": "code",
   "execution_count": null,
   "id": "59b73021",
   "metadata": {},
   "outputs": [],
   "source": [
    "# Simple if-else\n",
    "age = 20\n",
    "\n",
    "if age >= 18:\n",
    "    print(\"You are eligible to vote.\")\n",
    "else:\n",
    "    print(\"You are not eligible to vote.\")\n",
    "\n",
    "# if-elif-else\n",
    "marks = 85\n",
    "\n",
    "if marks >= 90:\n",
    "    print(\"Grade: A+\")\n",
    "elif marks >= 75:\n",
    "    print(\"Grade: A\")\n",
    "elif marks >= 60:\n",
    "    print(\"Grade: B\")\n",
    "else:\n",
    "    print(\"Grade: C\")"
   ]
  },
  {
   "cell_type": "markdown",
   "id": "76ab3c34",
   "metadata": {},
   "source": [
    "## 🟢 2. Loops"
   ]
  },
  {
   "cell_type": "markdown",
   "id": "6c1c72ce",
   "metadata": {},
   "source": [
    "**Python supports two main types of loops:**\n",
    "1. `for` loop → Iterate over sequences (strings, lists, tuples, etc.)\n",
    "\n",
    "2. `while` loop → Repeats while a condition is True\n"
   ]
  },
  {
   "cell_type": "markdown",
   "id": "ad47529b",
   "metadata": {},
   "source": [
    "**➤ For Loop Example:**"
   ]
  },
  {
   "cell_type": "code",
   "execution_count": null,
   "id": "2f044c43",
   "metadata": {},
   "outputs": [],
   "source": [
    "# Loop over a range of numbers - For loop example\n",
    "for i in range(5):\n",
    "    print(i)"
   ]
  },
  {
   "cell_type": "code",
   "execution_count": null,
   "id": "c13f4fdd",
   "metadata": {},
   "outputs": [],
   "source": [
    "# Loop over a list - For loop example\n",
    "fruits = [\"apple\", \"banana\", \"cherry\"]\n",
    "for fruit in fruits:\n",
    "    print(fruit)"
   ]
  },
  {
   "cell_type": "markdown",
   "id": "0139b8c2",
   "metadata": {},
   "source": [
    "**➤ While Loop Example:**"
   ]
  },
  {
   "cell_type": "code",
   "execution_count": null,
   "id": "d6b10224",
   "metadata": {},
   "outputs": [],
   "source": [
    "# Print numbers 1 to 5 using while loop\n",
    "count = 1\n",
    "while count <= 5:\n",
    "    print(count)\n",
    "    count += 1"
   ]
  },
  {
   "cell_type": "code",
   "execution_count": null,
   "id": "84eb99ef",
   "metadata": {},
   "outputs": [],
   "source": [
    "# Print even numbers from 1 to 10 using while loop\n",
    "count = 1\n",
    "while count <= 10:\n",
    "    if count % 2 == 0:\n",
    "        print(count)\n",
    "    count += 1"
   ]
  },
  {
   "cell_type": "markdown",
   "id": "65fce491",
   "metadata": {},
   "source": [
    "## 🟢 3. Looping Over Tuples, Strings, & Dictionaries"
   ]
  },
  {
   "cell_type": "code",
   "execution_count": null,
   "id": "d6eb60ac",
   "metadata": {},
   "outputs": [],
   "source": [
    "# Tuple\n",
    "colors = (\"red\", \"green\", \"blue\")\n",
    "for color in colors:\n",
    "    print(color)\n",
    "\n",
    "# String\n",
    "for char in \"Python\":\n",
    "    print(char)\n",
    "\n",
    "# Dictionary\n",
    "student = {\"name\": \"Alice\", \"age\": 21}\n",
    "for key, value in student.items():\n",
    "    print(f\"{key}: {value}\")"
   ]
  },
  {
   "cell_type": "markdown",
   "id": "a10d5335",
   "metadata": {},
   "source": [
    "## 🟢 4. Special Loops: for/else\n",
    "\n",
    "#### The `else` block after a `for` loop executes if the loop completes normally (no `break`).\n"
   ]
  },
  {
   "cell_type": "code",
   "execution_count": null,
   "id": "708d919b",
   "metadata": {},
   "outputs": [],
   "source": [
    "# Check if a number is prime\n",
    "num = 7\n",
    "for i in range(2, num):\n",
    "    if num % i == 0:\n",
    "        print(f\"{num} is not prime.\")\n",
    "        break\n",
    "else:\n",
    "    print(f\"{num} is prime.\")"
   ]
  },
  {
   "cell_type": "markdown",
   "id": "57c57a10",
   "metadata": {},
   "source": [
    "## 🟢 5. Nested Loops and Flow Control"
   ]
  },
  {
   "cell_type": "code",
   "execution_count": null,
   "id": "51113bfb",
   "metadata": {},
   "outputs": [],
   "source": [
    "# Nested loop for multiplication table\n",
    "for i in range(1, 4):\n",
    "    for j in range(1, 4):\n",
    "        print(f\"{i} x {j} = {i * j}\")\n",
    "    print(\"---\")"
   ]
  },
  {
   "cell_type": "markdown",
   "id": "b417a471",
   "metadata": {},
   "source": [
    "## 🟢 6. Special Statements: pass, continue, break"
   ]
  },
  {
   "cell_type": "code",
   "execution_count": null,
   "id": "fb5ada90",
   "metadata": {},
   "outputs": [],
   "source": [
    "# pass - placeholder\n",
    "for i in range(3):\n",
    "    pass  # Does nothing, placeholder for future code\n",
    "\n",
    "print(\"=\"*5)\n",
    "# continue - skip current iteration\n",
    "for i in range(5):\n",
    "    if i == 2:\n",
    "        continue\n",
    "    print(i)\n",
    "print(\"=\"*5)\n",
    "# break - exit loop\n",
    "for i in range(5):\n",
    "    if i == 3:\n",
    "        break\n",
    "    print(i)\n",
    "print(\"=\"*5)"
   ]
  },
  {
   "cell_type": "markdown",
   "id": "3783dca5",
   "metadata": {},
   "source": [
    "## 🟢 7. Resolving Real-World Problems\n",
    "\n",
    "**Let's solve a simple real-world problem using control structures.**\n"
   ]
  },
  {
   "cell_type": "code",
   "execution_count": null,
   "id": "bd1f6141",
   "metadata": {},
   "outputs": [],
   "source": [
    "# Simple password validation\n",
    "correct_password = \"python123\"\n",
    "attempts = 3\n",
    "\n",
    "while attempts > 0:\n",
    "    pwd = input(\"Enter password: \")\n",
    "    if pwd == correct_password:\n",
    "        print(\"Access granted!\")\n",
    "        break\n",
    "    else:\n",
    "        print(\"Incorrect password. Try again.\")\n",
    "        attempts -= 1\n",
    "\n",
    "if attempts == 0:\n",
    "    print(\"Access denied. Too many failed attempts.\")\n"
   ]
  },
  {
   "cell_type": "markdown",
   "id": "2743b58e",
   "metadata": {},
   "source": [
    "### **🛠️ AI Tool:** Google Colab - Gemini Or Github Copilot"
   ]
  },
  {
   "cell_type": "markdown",
   "id": "e66d15cc",
   "metadata": {},
   "source": [
    "You can explore AI tools like **Gemini** inside Google Colab to assist with understanding Python code, generating examples, or debugging.\n",
    "\n",
    "**Example:**\n",
    "- Use Google Colab's built-in chat assistant for hints or suggestions.\n",
    "\n",
    "- Explore AI code completion to speed up your coding.\n",
    "\n",
    "- Alternative: Github Copilot\n"
   ]
  },
  {
   "cell_type": "markdown",
   "id": "0b35c43a",
   "metadata": {},
   "source": [
    "## 🎯 Quick Recap"
   ]
  },
  {
   "cell_type": "markdown",
   "id": "d95fb7dd",
   "metadata": {},
   "source": [
    "✅ Use `if`, `elif`, `else` for decision-making  \n",
    "\n",
    "✅ `for` and `while` loops help with repetition  \n",
    "\n",
    "✅ Loop over sequences like tuples, strings, dictionaries  \n",
    "\n",
    "✅ Special loop structures: `for/else`  \n",
    "\n",
    "✅ Use `pass`, `continue`, `break` for flow control  \n",
    "\n",
    "✅ Practice solving real-world problems  "
   ]
  },
  {
   "cell_type": "markdown",
   "id": "0ff86222",
   "metadata": {},
   "source": [
    "## 📝 Practice Exercises"
   ]
  },
  {
   "cell_type": "markdown",
   "id": "2a07ac25",
   "metadata": {},
   "source": [
    "1. Write a program that checks whether a number is positive, negative, or zero.\n",
    "\n",
    "2. Print all even numbers from 1 to 20 using a `for` loop.\n",
    "\n",
    "3. Create a simple calculator using `if-elif-else`.\n",
    "\n",
    "4. Use nested loops to print a pattern like:\n",
    "```\n",
    "*\n",
    "**\n",
    "***\n",
    "****\n",
    "*****\n",
    "\n",
    "******\n",
    "*****\n",
    "****\n",
    "***\n",
    "**\n",
    "*\n",
    "\n",
    "     *\n",
    "    ***\n",
    "   *****\n",
    "  *******\n",
    " *********\n",
    "***********\n",
    "```\n",
    "5. Write a program to validate password input with a maximum of 3 attempts."
   ]
  }
 ],
 "metadata": {
  "kernelspec": {
   "display_name": "Python 3",
   "language": "python",
   "name": "python3"
  },
  "language_info": {
   "codemirror_mode": {
    "name": "ipython",
    "version": 3
   },
   "file_extension": ".py",
   "mimetype": "text/x-python",
   "name": "python",
   "nbconvert_exporter": "python",
   "pygments_lexer": "ipython3",
   "version": "3.12.10"
  }
 },
 "nbformat": 4,
 "nbformat_minor": 5
}
