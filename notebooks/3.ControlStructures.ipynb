{
 "cells": [
  {
   "cell_type": "markdown",
   "id": "331be51b",
   "metadata": {},
   "source": [
    "---\n",
    "# 📓 Python Programming - Control Structures\n",
    "---"
   ]
  },
  {
   "cell_type": "markdown",
   "id": "bba4cc82",
   "metadata": {
    "vscode": {
     "languageId": "plaintext"
    }
   },
   "source": [
    "## 1. Conditional Statements"
   ]
  },
  {
   "cell_type": "markdown",
   "id": "dbc63fe1",
   "metadata": {
    "vscode": {
     "languageId": "plaintext"
    }
   },
   "source": [
    "**Conditional Statements in Python:**\n",
    "- Used to make decisions based on conditions.\n",
    "\n",
    "- Keywords: `if`, `elif`, `else`."
   ]
  },
  {
   "cell_type": "code",
   "execution_count": null,
   "id": "59b73021",
   "metadata": {},
   "outputs": [],
   "source": [
    "# Simple if-else\n",
    "age = 20\n",
    "\n",
    "if age >= 18:\n",
    "    print(\"You are eligible to vote.\")\n",
    "else:\n",
    "    print(\"You are not eligible to vote.\")\n",
    "\n",
    "# if-elif-else\n",
    "marks = 85\n",
    "\n",
    "if marks >= 90:\n",
    "    print(\"Grade: A+\")\n",
    "elif marks >= 75:\n",
    "    print(\"Grade: A\")\n",
    "elif marks >= 60:\n",
    "    print(\"Grade: B\")\n",
    "else:\n",
    "    print(\"Grade: C\")"
   ]
  },
  {
   "cell_type": "markdown",
   "id": "b51ed3d4",
   "metadata": {},
   "source": [
    "**Nested Conditionals & Ternary Operator:**"
   ]
  },
  {
   "cell_type": "code",
   "execution_count": null,
   "id": "b1dedb0e",
   "metadata": {},
   "outputs": [],
   "source": [
    "# Nested conditionals\n",
    "age = 25\n",
    "has_license = True\n",
    "\n",
    "if age >= 18:\n",
    "    if has_license:\n",
    "        print(\"You can drive!\")\n",
    "    else:\n",
    "        print(\"You need a license to drive.\")\n",
    "else:\n",
    "    print(\"You're too young to drive.\")\n",
    "\n",
    "# Ternary operator (conditional expression)\n",
    "result = \"Pass\" if marks >= 60 else \"Fail\"\n",
    "print(f\"Result: {result}\")\n",
    "\n",
    "# Multiple conditions with logical operators\n",
    "temperature = 25\n",
    "weather = \"sunny\"\n",
    "\n",
    "if temperature > 20 and weather == \"sunny\":\n",
    "    print(\"Perfect weather for outdoor activities!\")\n",
    "elif temperature > 20 or weather == \"cloudy\":\n",
    "    print(\"Good weather for a walk.\")\n",
    "else:\n",
    "    print(\"Stay indoors!\")"
   ]
  },
  {
   "cell_type": "markdown",
   "id": "76ab3c34",
   "metadata": {},
   "source": [
    "## 2. Loops"
   ]
  },
  {
   "cell_type": "markdown",
   "id": "6c1c72ce",
   "metadata": {},
   "source": [
    "**Python supports two main types of loops:**\n",
    "1. `for` loop → Iterate over sequences (strings, lists, tuples, etc.)\n",
    "\n",
    "2. `while` loop → Repeats while a condition is True\n"
   ]
  },
  {
   "cell_type": "markdown",
   "id": "ad47529b",
   "metadata": {},
   "source": [
    "**➤ For Loop Example:**"
   ]
  },
  {
   "cell_type": "code",
   "execution_count": null,
   "id": "2f044c43",
   "metadata": {},
   "outputs": [],
   "source": [
    "# Loop over a range of numbers - For loop example\n",
    "for i in range(5):\n",
    "    print(i)"
   ]
  },
  {
   "cell_type": "markdown",
   "id": "0fc101e5",
   "metadata": {},
   "source": [
    "**Understanding range() and enumerate():**"
   ]
  },
  {
   "cell_type": "code",
   "execution_count": null,
   "id": "440cc9f0",
   "metadata": {},
   "outputs": [],
   "source": [
    "# Different ways to use range()\n",
    "print(\"range(5):\")\n",
    "for i in range(5):\n",
    "    print(i, end=\" \")\n",
    "print()\n",
    "\n",
    "print(\"range(2, 8):\")\n",
    "for i in range(2, 8):\n",
    "    print(i, end=\" \")\n",
    "print()\n",
    "\n",
    "print(\"range(0, 10, 2):\")\n",
    "for i in range(0, 10, 2):\n",
    "    print(i, end=\" \")\n",
    "print()\n",
    "\n",
    "print(\"range(10, 0, -2):\")\n",
    "for i in range(10, 0, -2):\n",
    "    print(i, end=\" \")\n",
    "print()\n",
    "\n",
    "# Using enumerate() to get index and value\n",
    "fruits = [\"apple\", \"banana\", \"cherry\", \"date\"]\n",
    "print(\"\\nUsing enumerate():\")\n",
    "for index, fruit in enumerate(fruits):\n",
    "    print(f\"{index}: {fruit}\")\n",
    "\n",
    "# Starting enumerate from a different number\n",
    "print(\"\\nEnumerate starting from 1:\")\n",
    "for index, fruit in enumerate(fruits, 1):\n",
    "    print(f\"{index}. {fruit}\")"
   ]
  },
  {
   "cell_type": "code",
   "execution_count": null,
   "id": "c13f4fdd",
   "metadata": {},
   "outputs": [],
   "source": [
    "# Loop over a list - For loop example\n",
    "fruits = [\"apple\", \"banana\", \"cherry\"]\n",
    "for fruit in fruits:\n",
    "    print(fruit)"
   ]
  },
  {
   "cell_type": "markdown",
   "id": "0139b8c2",
   "metadata": {},
   "source": [
    "**➤ While Loop Example:**"
   ]
  },
  {
   "cell_type": "code",
   "execution_count": null,
   "id": "d6b10224",
   "metadata": {},
   "outputs": [],
   "source": [
    "# Print numbers 1 to 5 using while loop\n",
    "count = 1\n",
    "while count <= 5:\n",
    "    print(count)\n",
    "    count += 1"
   ]
  },
  {
   "cell_type": "markdown",
   "id": "9c191aad",
   "metadata": {},
   "source": [
    "**While/Else Loop & Infinite Loop Prevention:**"
   ]
  },
  {
   "cell_type": "code",
   "execution_count": null,
   "id": "993c21fe",
   "metadata": {},
   "outputs": [],
   "source": [
    "# While-else loop\n",
    "count = 1\n",
    "while count <= 3:\n",
    "    print(f\"Count: {count}\")\n",
    "    count += 1\n",
    "else:\n",
    "    print(\"Loop completed successfully!\")\n",
    "\n",
    "# Infinite loop prevention with safety counter\n",
    "safety_counter = 0\n",
    "MAX_ITERATIONS = 1000\n",
    "\n",
    "while True:\n",
    "    safety_counter += 1\n",
    "    # Your loop logic here\n",
    "    if safety_counter >= MAX_ITERATIONS:\n",
    "        print(\"Safety break: Maximum iterations reached\")\n",
    "        break\n",
    "    # Simulating some condition that would normally break the loop\n",
    "    if safety_counter >= 5:\n",
    "        print(\"Normal break condition met\")\n",
    "        break\n",
    "    print(f\"Iteration {safety_counter}\")\n",
    "\n",
    "# Common infinite loop mistake (commented to prevent actual infinite loop)\n",
    "# x = 10\n",
    "# while x > 0:\n",
    "#     print(x)\n",
    "#     # Forgot to decrement x - this would run forever!"
   ]
  },
  {
   "cell_type": "code",
   "execution_count": null,
   "id": "84eb99ef",
   "metadata": {},
   "outputs": [],
   "source": [
    "# Print even numbers from 1 to 10 using while loop\n",
    "count = 1\n",
    "while count <= 10:\n",
    "    if count % 2 == 0:\n",
    "        print(count)\n",
    "    count += 1"
   ]
  },
  {
   "cell_type": "markdown",
   "id": "65fce491",
   "metadata": {},
   "source": [
    "## 3. Looping Over Tuples, Strings, & Dictionaries"
   ]
  },
  {
   "cell_type": "code",
   "execution_count": null,
   "id": "d6eb60ac",
   "metadata": {},
   "outputs": [],
   "source": [
    "# Tuple\n",
    "colors = (\"red\", \"green\", \"blue\")\n",
    "for color in colors:\n",
    "    print(color)\n",
    "\n",
    "# String\n",
    "for char in \"Python\":\n",
    "    print(char)\n",
    "\n",
    "# Dictionary\n",
    "student = {\"name\": \"Alice\", \"age\": 21}\n",
    "for key, value in student.items():\n",
    "    print(f\"{key}: {value}\")"
   ]
  },
  {
   "cell_type": "markdown",
   "id": "75c4c4e6",
   "metadata": {},
   "source": [
    "**Advanced Looping Techniques:**"
   ]
  },
  {
   "cell_type": "code",
   "execution_count": null,
   "id": "e9bbfe01",
   "metadata": {},
   "outputs": [],
   "source": [
    "# Using zip() to iterate over multiple sequences\n",
    "names = [\"Alice\", \"Bob\", \"Charlie\"]\n",
    "ages = [25, 30, 35]\n",
    "cities = [\"New York\", \"London\", \"Tokyo\"]\n",
    "\n",
    "print(\"Using zip():\")\n",
    "for name, age, city in zip(names, ages, cities):\n",
    "    print(f\"{name} is {age} years old and lives in {city}\")\n",
    "\n",
    "# Using reversed() to iterate backwards\n",
    "print(\"\\nUsing reversed():\")\n",
    "for fruit in reversed([\"apple\", \"banana\", \"cherry\"]):\n",
    "    print(fruit)\n",
    "\n",
    "# List comprehensions (brief introduction)\n",
    "print(\"\\nList comprehensions:\")\n",
    "numbers = [1, 2, 3, 4, 5]\n",
    "squares = [x**2 for x in numbers]\n",
    "print(f\"Squares: {squares}\")\n",
    "\n",
    "even_squares = [x**2 for x in numbers if x % 2 == 0]\n",
    "print(f\"Even squares: {even_squares}\")\n",
    "\n",
    "# Nested list comprehension\n",
    "matrix = [[1, 2, 3], [4, 5, 6], [7, 8, 9]]\n",
    "flat_list = [item for row in matrix for item in row]\n",
    "print(f\"Flattened matrix: {flat_list}\")"
   ]
  },
  {
   "cell_type": "markdown",
   "id": "a10d5335",
   "metadata": {},
   "source": [
    "## 4. Special Loops: for/else\n",
    "\n",
    "#### The `else` block after a `for` loop executes if the loop completes normally (no `break`).\n"
   ]
  },
  {
   "cell_type": "code",
   "execution_count": null,
   "id": "708d919b",
   "metadata": {},
   "outputs": [],
   "source": [
    "# Check if a number is prime\n",
    "num = 7\n",
    "for i in range(2, num):\n",
    "    if num % i == 0:\n",
    "        print(f\"{num} is not prime.\")\n",
    "        break\n",
    "else:\n",
    "    print(f\"{num} is prime.\")"
   ]
  },
  {
   "cell_type": "markdown",
   "id": "57c57a10",
   "metadata": {},
   "source": [
    "## 5. Nested Loops and Flow Control"
   ]
  },
  {
   "cell_type": "code",
   "execution_count": null,
   "id": "51113bfb",
   "metadata": {},
   "outputs": [],
   "source": [
    "# Nested loop for multiplication table\n",
    "for i in range(1, 4):\n",
    "    for j in range(1, 4):\n",
    "        print(f\"{i} x {j} = {i * j}\")\n",
    "    print(\"---\")"
   ]
  },
  {
   "cell_type": "markdown",
   "id": "b417a471",
   "metadata": {},
   "source": [
    "## 6. Special Statements: pass, continue, break"
   ]
  },
  {
   "cell_type": "code",
   "execution_count": null,
   "id": "fb5ada90",
   "metadata": {},
   "outputs": [],
   "source": [
    "# pass - placeholder\n",
    "for i in range(3):\n",
    "    pass  # Does nothing, placeholder for future code\n",
    "\n",
    "print(\"=\" * 5)\n",
    "# continue - skip current iteration\n",
    "for i in range(5):\n",
    "    if i == 2:\n",
    "        continue\n",
    "    print(i)\n",
    "print(\"=\" * 5)\n",
    "# break - exit loop\n",
    "for i in range(5):\n",
    "    if i == 3:\n",
    "        break\n",
    "    print(i)\n",
    "print(\"=\" * 5)"
   ]
  },
  {
   "cell_type": "markdown",
   "id": "b363a44c",
   "metadata": {},
   "source": [
    "**Error Handling in Loops:**"
   ]
  },
  {
   "cell_type": "code",
   "execution_count": null,
   "id": "02976cd0",
   "metadata": {},
   "outputs": [],
   "source": [
    "# Handling errors in loops\n",
    "numbers = [\"1\", \"2\", \"three\", \"4\", \"5\"]\n",
    "\n",
    "print(\"Processing numbers with error handling:\")\n",
    "for num_str in numbers:\n",
    "    try:\n",
    "        num = int(num_str)\n",
    "        print(f\"Number: {num}, Square: {num**2}\")\n",
    "    except ValueError:\n",
    "        print(f\"'{num_str}' is not a valid number, skipping...\")\n",
    "\n",
    "# Using flags to control loop behavior\n",
    "print(\"\\nUsing flags:\")\n",
    "found = False\n",
    "target = 3\n",
    "numbers = [1, 2, 3, 4, 5]\n",
    "\n",
    "for num in numbers:\n",
    "    if num == target:\n",
    "        print(f\"Found {target}!\")\n",
    "        found = True\n",
    "        break\n",
    "\n",
    "if not found:\n",
    "    print(f\"{target} not found in the list\")\n",
    "\n",
    "# Breaking out of nested loops using functions\n",
    "def find_in_matrix(matrix, target):\n",
    "    for i, row in enumerate(matrix):\n",
    "        for j, value in enumerate(row):\n",
    "            if value == target:\n",
    "                return i, j\n",
    "    return None\n",
    "\n",
    "matrix = [[1, 2, 3], [4, 5, 6], [7, 8, 9]]\n",
    "result = find_in_matrix(matrix, 5)\n",
    "if result:\n",
    "    print(f\"Found at position: {result}\")\n",
    "else:\n",
    "    print(\"Not found\")"
   ]
  },
  {
   "cell_type": "markdown",
   "id": "3783dca5",
   "metadata": {},
   "source": [
    "## 7. Resolving Real-World Problems\n",
    "\n",
    "**Let's solve a simple real-world problem using control structures.**\n"
   ]
  },
  {
   "cell_type": "code",
   "execution_count": null,
   "id": "bd1f6141",
   "metadata": {},
   "outputs": [],
   "source": [
    "# Simple password validation\n",
    "correct_password = \"python123\"\n",
    "attempts = 3\n",
    "\n",
    "while attempts > 0:\n",
    "    pwd = input(\"Enter password: \")\n",
    "    if pwd == correct_password:\n",
    "        print(\"Access granted!\")\n",
    "        break\n",
    "    else:\n",
    "        print(\"Incorrect password. Try again.\")\n",
    "        attempts -= 1\n",
    "\n",
    "if attempts == 0:\n",
    "    print(\"Access denied. Too many failed attempts.\")\n"
   ]
  },
  {
   "cell_type": "markdown",
   "id": "18579c73",
   "metadata": {},
   "source": [
    "## 8. Match/Case Statement (Python 3.10+)\n",
    "\n",
    "**The `match/case` statement is Python's version of switch-case from other languages.**"
   ]
  },
  {
   "cell_type": "code",
   "execution_count": null,
   "id": "17764e0a",
   "metadata": {},
   "outputs": [],
   "source": [
    "# Basic match/case example\n",
    "day = \"Monday\"\n",
    "\n",
    "match day:\n",
    "    case \"Monday\":\n",
    "        print(\"Start of the work week!\")\n",
    "    case \"Tuesday\" | \"Wednesday\" | \"Thursday\":\n",
    "        print(\"Midweek days\")\n",
    "    case \"Friday\":\n",
    "        print(\"TGIF!\")\n",
    "    case \"Saturday\" | \"Sunday\":\n",
    "        print(\"Weekend!\")\n",
    "    case _:\n",
    "        print(\"Invalid day\")\n",
    "\n",
    "# Match with conditions\n",
    "score = 85\n",
    "\n",
    "match score:\n",
    "    case x if x >= 90:\n",
    "        grade = \"A\"\n",
    "    case x if x >= 80:\n",
    "        grade = \"B\"\n",
    "    case x if x >= 70:\n",
    "        grade = \"C\"\n",
    "    case x if x >= 60:\n",
    "        grade = \"D\"\n",
    "    case _:\n",
    "        grade = \"F\"\n",
    "\n",
    "print(f\"Score: {score}, Grade: {grade}\")\n",
    "\n",
    "# Match with data structures\n",
    "def process_data(data):\n",
    "    match data:\n",
    "        case {\"type\": \"user\", \"name\": str(name)}:\n",
    "            return f\"Hello, {name}!\"\n",
    "        case {\"type\": \"product\", \"name\": str(name), \"price\": float(price)}:\n",
    "            return f\"Product: {name}, Price: ${price}\"\n",
    "        case list() if len(data) > 0:\n",
    "            return f\"List with {len(data)} items\"\n",
    "        case _:\n",
    "            return \"Unknown data format\"\n",
    "\n",
    "# Test the function\n",
    "print(process_data({\"type\": \"user\", \"name\": \"Alice\"}))\n",
    "print(process_data({\"type\": \"product\", \"name\": \"Laptop\", \"price\": 999.99}))\n",
    "print(process_data([1, 2, 3, 4, 5]))"
   ]
  },
  {
   "cell_type": "markdown",
   "id": "2743b58e",
   "metadata": {},
   "source": [
    "**🛠️ AI Tool:** Google Colab - Gemini Or Github Copilot"
   ]
  },
  {
   "cell_type": "markdown",
   "id": "e66d15cc",
   "metadata": {},
   "source": [
    "You can explore AI tools like **Gemini** inside Google Colab to assist with understanding Python code, generating examples, or debugging.\n",
    "\n",
    "**Example:**\n",
    "- Use Google Colab's built-in chat assistant for hints or suggestions.\n",
    "\n",
    "- Explore AI code completion to speed up your coding.\n",
    "\n",
    "- Alternative: Github Copilot\n"
   ]
  },
  {
   "cell_type": "markdown",
   "id": "0b35c43a",
   "metadata": {},
   "source": [
    "**🎯 Quick Recap**"
   ]
  },
  {
   "cell_type": "markdown",
   "id": "d95fb7dd",
   "metadata": {},
   "source": [
    "* Use `if`, `elif`, `else` for decision-making  \n",
    "\n",
    "* `for` and `while` loops help with repetition  \n",
    "\n",
    "* Loop over sequences like tuples, strings, dictionaries  \n",
    "\n",
    "* Special loop structures: `for/else`  \n",
    "\n",
    "* Use `pass`, `continue`, `break` for flow control  \n",
    "\n",
    "* Practice solving real-world problems  "
   ]
  },
  {
   "cell_type": "markdown",
   "id": "0ff86222",
   "metadata": {},
   "source": [
    "### **📝 Practice Exercises**"
   ]
  },
  {
   "cell_type": "markdown",
   "id": "2a07ac25",
   "metadata": {},
   "source": [
    "**Basic Exercises:**\n",
    "\n",
    "1. Write a program that checks whether a number is positive, negative, or zero.\n",
    "\n",
    "2. Print all even numbers from 1 to 20 using a `for` loop.\n",
    "\n",
    "3. Create a simple calculator using `if-elif-else`.\n",
    "\n",
    "4. Write a program to validate password input with a maximum of 3 attempts.\n",
    "\n",
    "**Intermediate Exercises:**\n",
    "\n",
    "5. Create a number guessing game where the computer picks a random number and the user has to guess it.\n",
    "\n",
    "6. Write a program that prints the multiplication table for any given number.\n",
    "\n",
    "7. Use nested loops to print patterns like triangles and diamonds.\n",
    "\n",
    "8. Create a menu-driven program using match/case (if available) or if-elif-else.\n",
    "\n",
    "**Advanced Exercises:**\n",
    "\n",
    "9. Write a program that finds all prime numbers up to a given number using nested loops.\n",
    "\n",
    "10. Create a simple ATM system with balance checking, withdrawal, and deposit features.\n",
    "\n",
    "11. Build a word frequency counter that counts how many times each word appears in a sentence.\n",
    "\n",
    "12. Write a program that validates user input and keeps asking until valid data is entered.\n",
    "\n",
    "**Challenge Exercises:**\n",
    "\n",
    "13. Create a simple text-based adventure game using control structures.\n",
    "\n",
    "14. Build a grade management system that can add, remove, and calculate average grades.\n",
    "\n",
    "15. Write a program that simulates a simple voting system with candidate validation.\n",
    "\n",
    "16. Create a loan eligibility checker based on multiple criteria (age, income, credit score)."
   ]
  }
 ],
 "metadata": {
  "kernelspec": {
   "display_name": "Python 3",
   "language": "python",
   "name": "python3"
  },
  "language_info": {
   "codemirror_mode": {
    "name": "ipython",
    "version": 3
   },
   "file_extension": ".py",
   "mimetype": "text/x-python",
   "name": "python",
   "nbconvert_exporter": "python",
   "pygments_lexer": "ipython3",
   "version": "3.12.10"
  }
 },
 "nbformat": 4,
 "nbformat_minor": 5
}
