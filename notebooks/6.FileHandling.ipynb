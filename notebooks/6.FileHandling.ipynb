{
 "cells": [
  {
   "cell_type": "markdown",
   "id": "d2c32912",
   "metadata": {},
   "source": [
    "---\n",
    "# 📓 **Python Programming -** File Handling\n",
    "---"
   ]
  },
  {
   "cell_type": "markdown",
   "id": "b58030b9",
   "metadata": {
    "vscode": {
     "languageId": "plaintext"
    }
   },
   "source": [
    "## 1. Text File Operations"
   ]
  },
  {
   "cell_type": "markdown",
   "id": "c5b79d28",
   "metadata": {
    "vscode": {
     "languageId": "plaintext"
    }
   },
   "source": [
    "### Python provides easy ways to handle files for reading and writing.\n",
    "\n",
    "**Common File Modes:**\n",
    "- `'r'` → Read (default)\n",
    "\n",
    "- `'w'` → Write (overwrites existing file or creates new)\n",
    "\n",
    "- `'a'` → Append (adds to existing file)\n",
    "\n",
    "- `'rb'` / `'wb'` → Read/Write binary files"
   ]
  },
  {
   "cell_type": "markdown",
   "id": "c2f6b0e7",
   "metadata": {
    "vscode": {
     "languageId": "plaintext"
    }
   },
   "source": [
    "**➤ Reading a Text File:**"
   ]
  },
  {
   "cell_type": "code",
   "execution_count": null,
   "id": "43387e9e",
   "metadata": {},
   "outputs": [],
   "source": [
    "# Writing sample content for demonstration\n",
    "with open(\"../files/sample.txt\", \"w\") as file:\n",
    "    file.write(\"Hello, this is a text file.\\nSecond line of text.\")\n",
    "\n",
    "# Reading file\n",
    "with open(\"../files/sample.txt\", \"r\") as file:\n",
    "    content = file.read()\n",
    "    print(content)"
   ]
  },
  {
   "cell_type": "markdown",
   "id": "a9dde253",
   "metadata": {},
   "source": [
    "**➤ Writing to a Text File:**"
   ]
  },
  {
   "cell_type": "code",
   "execution_count": null,
   "id": "c56c7a50",
   "metadata": {},
   "outputs": [],
   "source": [
    "with open(\"../files/output.txt\", \"w\") as file:\n",
    "    file.write(\"This is a new file.\\nFile handling in Python is easy!\")"
   ]
  },
  {
   "cell_type": "markdown",
   "id": "e62e75ca",
   "metadata": {},
   "source": [
    "**➤ Reading Files Line by Line:**"
   ]
  },
  {
   "cell_type": "code",
   "execution_count": null,
   "id": "6adbb9d0",
   "metadata": {},
   "outputs": [],
   "source": [
    "# Method 1: Using readlines()\n",
    "with open(\"../files/sample.txt\", \"r\") as file:\n",
    "    lines = file.readlines()\n",
    "    for i, line in enumerate(lines, 1):\n",
    "        print(f\"Line {i}: {line.strip()}\")\n",
    "\n",
    "print(\"\\n\" + \"=\"*30 + \"\\n\")\n",
    "\n",
    "# Method 2: Using for loop (memory efficient)\n",
    "with open(\"../files/sample.txt\", \"r\") as file:\n",
    "    for line_num, line in enumerate(file, 1):\n",
    "        print(f\"Line {line_num}: {line.strip()}\")\n",
    "\n",
    "print(\"\\n\" + \"=\"*30 + \"\\n\")\n",
    "\n",
    "# Method 3: Using readline() - one line at a time\n",
    "with open(\"../files/sample.txt\", \"r\") as file:\n",
    "    line = file.readline()\n",
    "    while line:\n",
    "        print(f\"Read: {line.strip()}\")\n",
    "        line = file.readline()"
   ]
  },
  {
   "cell_type": "markdown",
   "id": "36533993",
   "metadata": {},
   "source": [
    "**➤ Error Handling in File Operations:**"
   ]
  },
  {
   "cell_type": "code",
   "execution_count": null,
   "id": "2d9e03af",
   "metadata": {},
   "outputs": [],
   "source": [
    "# Handling FileNotFoundError\n",
    "try:\n",
    "    with open(\"../files/nonexistent.txt\", \"r\") as file:\n",
    "        content = file.read()\n",
    "        print(content)\n",
    "except FileNotFoundError:\n",
    "    print(\"Error: File not found!\")\n",
    "except PermissionError:\n",
    "    print(\"Error: Permission denied!\")\n",
    "except Exception as e:\n",
    "    print(f\"Unexpected error: {e}\")\n",
    "\n",
    "# Safe file writing with error handling\n",
    "def safe_write_file(filename, content):\n",
    "    try:\n",
    "        with open(filename, \"w\") as file:\n",
    "            file.write(content)\n",
    "        print(f\"Successfully wrote to {filename}\")\n",
    "    except PermissionError:\n",
    "        print(f\"Error: No permission to write to {filename}\")\n",
    "    except Exception as e:\n",
    "        print(f\"Error writing file: {e}\")\n",
    "\n",
    "# Test the function\n",
    "safe_write_file(\"../files/test_write.txt\", \"Hello, World!\")\n",
    "\n",
    "# Safe file reading function\n",
    "def safe_read_file(filename):\n",
    "    try:\n",
    "        with open(filename, \"r\") as file:\n",
    "            return file.read()\n",
    "    except FileNotFoundError:\n",
    "        return f\"Error: File '{filename}' not found\"\n",
    "    except PermissionError:\n",
    "        return f\"Error: No permission to read '{filename}'\"\n",
    "    except Exception as e:\n",
    "        return f\"Error reading file: {e}\"\n",
    "\n",
    "# Test the function\n",
    "content = safe_read_file(\"../files/test_write.txt\")\n",
    "print(content)"
   ]
  },
  {
   "cell_type": "markdown",
   "id": "46289952",
   "metadata": {},
   "source": [
    "## 2. File Path Handling with os Module"
   ]
  },
  {
   "cell_type": "markdown",
   "id": "3515b25d",
   "metadata": {},
   "source": [
    "**The `os` module helps work with file paths in a platform-independent way.**"
   ]
  },
  {
   "cell_type": "code",
   "execution_count": null,
   "id": "77ca91f4",
   "metadata": {},
   "outputs": [],
   "source": [
    "import os\n",
    "\n",
    "# Current working directory\n",
    "print(\"Current Directory:\", os.getcwd())\n",
    "\n",
    "# Create a file path\n",
    "file_path = os.path.join(os.getcwd(), \"output.txt\")\n",
    "print(\"File Path:\", file_path)"
   ]
  },
  {
   "cell_type": "markdown",
   "id": "55c8f613",
   "metadata": {},
   "source": [
    "**➤ Checking File Existence & Operations:**"
   ]
  },
  {
   "cell_type": "code",
   "execution_count": null,
   "id": "6741a7d3",
   "metadata": {},
   "outputs": [],
   "source": [
    "# Check if file exists\n",
    "if os.path.exists(\"../files/sample.txt\"):\n",
    "    print(\"File exists!\")\n",
    "else:\n",
    "    print(\"File does not exist.\")\n",
    "\n",
    "# Get file size\n",
    "if os.path.exists(\"../files/sample.txt\"):\n",
    "    file_size = os.path.getsize(\"../files/sample.txt\")\n",
    "    print(f\"File size: {file_size} bytes\")\n",
    "\n",
    "# List files in directory\n",
    "files = os.listdir(\"../files/\")\n",
    "print(\"Files in directory:\", files)\n",
    "\n",
    "# Create directory if it doesn't exist\n",
    "if not os.path.exists(\"../files/new_folder\"):\n",
    "    os.makedirs(\"../files/new_folder\")\n",
    "    print(\"Directory created!\")\n",
    "else:\n",
    "    print(\"Directory already exists!\")"
   ]
  },
  {
   "cell_type": "markdown",
   "id": "6e2c45ec",
   "metadata": {},
   "source": [
    "## 3. Working with CSV Files"
   ]
  },
  {
   "cell_type": "markdown",
   "id": "9aeb212c",
   "metadata": {},
   "source": [
    "**CSV (Comma-Separated Values):**\n",
    "- Simple format for storing tabular data.\n",
    "    \n",
    "- Python provides the `csv` module to work with CSV files.\n"
   ]
  },
  {
   "cell_type": "markdown",
   "id": "538ca1eb",
   "metadata": {},
   "source": [
    "**➤ Reading a CSV File:**"
   ]
  },
  {
   "cell_type": "code",
   "execution_count": null,
   "id": "236e1784",
   "metadata": {},
   "outputs": [],
   "source": [
    "import csv\n",
    "\n",
    "# Creating a sample CSV file\n",
    "with open(\"../files/data.csv\", \"w\", newline=\"\") as file:\n",
    "    writer = csv.writer(file)\n",
    "    writer.writerow([\"Name\", \"Age\"])\n",
    "    writer.writerow([\"Alice\", 23])\n",
    "    writer.writerow([\"Bob\", 28])\n",
    "\n",
    "# Reading the CSV file\n",
    "with open(\"../files/data.csv\", \"r\") as file:\n",
    "    reader = csv.reader(file)\n",
    "    for row in reader:\n",
    "        print(row)\n"
   ]
  },
  {
   "cell_type": "markdown",
   "id": "141eac7c",
   "metadata": {},
   "source": [
    "**➤ Using Dictionaries in CSV Files:**"
   ]
  },
  {
   "cell_type": "code",
   "execution_count": null,
   "id": "54245cc5",
   "metadata": {},
   "outputs": [],
   "source": [
    "# Writing using DictWriter\n",
    "with open(\"../files/data_dict.csv\", \"w\", newline=\"\") as file:\n",
    "    fieldnames = [\"Name\", \"Age\"]\n",
    "    writer = csv.DictWriter(file, fieldnames=fieldnames)\n",
    "    writer.writeheader()\n",
    "    writer.writerow({\"Name\": \"Charlie\", \"Age\": 30})\n",
    "    writer.writerow({\"Name\": \"Dana\", \"Age\": 26})\n",
    "\n",
    "# Reading using DictReader\n",
    "with open(\"../files/data_dict.csv\", \"r\") as file:\n",
    "    reader = csv.DictReader(file)\n",
    "    for row in reader:\n",
    "        print(row)"
   ]
  },
  {
   "cell_type": "markdown",
   "id": "bae74d81",
   "metadata": {},
   "source": [
    "## 4. Working with JSON\n",
    "\n",
    "**JSON (JavaScript Object Notation):**\n",
    "- Popular data format for exchanging data.\n",
    "\n",
    "- Similar to Python dictionaries.\n"
   ]
  },
  {
   "cell_type": "markdown",
   "id": "799520ae",
   "metadata": {},
   "source": [
    "**➤ Reading & Writing JSON:**"
   ]
  },
  {
   "cell_type": "code",
   "execution_count": null,
   "id": "a388a9bd",
   "metadata": {},
   "outputs": [],
   "source": [
    "import json\n",
    "\n",
    "# Python dictionary\n",
    "person = {\"name\": \"Eve\", \"age\": 29, \"skills\": [\"Python\", \"Data Science\"]}\n",
    "\n",
    "# Writing to JSON file\n",
    "with open(\"../files/person.json\", \"w\") as file:\n",
    "    json.dump(person, file)\n",
    "\n",
    "# Reading JSON file\n",
    "with open(\"../files/person.json\", \"r\") as file:\n",
    "    data = json.load(file)\n",
    "    print(data)\n"
   ]
  },
  {
   "cell_type": "markdown",
   "id": "41838808",
   "metadata": {},
   "source": [
    "**➤ Parsing JSON Strings:**"
   ]
  },
  {
   "cell_type": "code",
   "execution_count": null,
   "id": "b8fc497a",
   "metadata": {},
   "outputs": [],
   "source": [
    "# JSON string\n",
    "json_str = '{\"name\": \"Frank\", \"age\": 32}'\n",
    "\n",
    "# Converting JSON string to dictionary\n",
    "person = json.loads(json_str)\n",
    "print(person[\"name\"])"
   ]
  },
  {
   "cell_type": "markdown",
   "id": "e594acb5",
   "metadata": {},
   "source": [
    "## 5. Binary File Handling"
   ]
  },
  {
   "cell_type": "markdown",
   "id": "54e38213",
   "metadata": {},
   "source": [
    "**Binary files store data in binary format (images, videos, executables, etc.)**\n",
    "\n",
    "**➤ Reading & Writing Binary Files:**"
   ]
  },
  {
   "cell_type": "code",
   "execution_count": null,
   "id": "1ab2ad28",
   "metadata": {},
   "outputs": [],
   "source": [
    "# Write binary data\n",
    "binary_data = b\"Hello, this is binary data!\\x00\\x01\\x02\"\n",
    "\n",
    "with open(\"../files/binary_file.bin\", \"wb\") as file:\n",
    "    file.write(binary_data)\n",
    "\n",
    "# Read binary data\n",
    "with open(\"../files/binary_file.bin\", \"rb\") as file:\n",
    "    data = file.read()\n",
    "    print(f\"Binary data: {data}\")\n",
    "    print(f\"Data type: {type(data)}\")\n",
    "\n",
    "# Copy a file using binary mode (useful for images, videos, etc.)\n",
    "def copy_file(source, destination):\n",
    "    try:\n",
    "        with open(source, \"rb\") as src:\n",
    "            with open(destination, \"wb\") as dst:\n",
    "                dst.write(src.read())\n",
    "        print(f\"File copied from {source} to {destination}\")\n",
    "    except FileNotFoundError:\n",
    "        print(f\"Source file {source} not found\")\n",
    "    except Exception as e:\n",
    "        print(f\"Error copying file: {e}\")\n",
    "\n",
    "# Create a test file and copy it\n",
    "with open(\"../files/test_source.txt\", \"w\") as file:\n",
    "    file.write(\"This is a test file to copy.\")\n",
    "\n",
    "copy_file(\"../files/test_source.txt\", \"../files/test_copy.txt\")"
   ]
  },
  {
   "cell_type": "markdown",
   "id": "81ccea28",
   "metadata": {},
   "source": [
    "## 6. Modern File Handling with pathlib"
   ]
  },
  {
   "cell_type": "markdown",
   "id": "330cca77",
   "metadata": {},
   "source": [
    "**`pathlib` is a modern, object-oriented way to handle file paths (Python 3.4+)**\n",
    "\n",
    "**➤ Using pathlib for File Operations:**"
   ]
  },
  {
   "cell_type": "code",
   "execution_count": null,
   "id": "c006d3ba",
   "metadata": {},
   "outputs": [],
   "source": [
    "from pathlib import Path\n",
    "\n",
    "# Create Path objects\n",
    "current_dir = Path.cwd()\n",
    "print(f\"Current directory: {current_dir}\")\n",
    "\n",
    "# Create file path\n",
    "file_path = Path(\"../files/pathlib_test.txt\")\n",
    "print(f\"File path: {file_path}\")\n",
    "\n",
    "# Check if file exists\n",
    "print(f\"File exists: {file_path.exists()}\")\n",
    "\n",
    "# Create parent directories if they don't exist\n",
    "file_path.parent.mkdir(parents=True, exist_ok=True)\n",
    "\n",
    "# Write to file using pathlib\n",
    "file_path.write_text(\"Hello from pathlib!\")\n",
    "\n",
    "# Read from file using pathlib\n",
    "content = file_path.read_text()\n",
    "print(f\"File content: {content}\")\n",
    "\n",
    "# Get file information\n",
    "if file_path.exists():\n",
    "    print(f\"File size: {file_path.stat().st_size} bytes\")\n",
    "    print(f\"File name: {file_path.name}\")\n",
    "    print(f\"File extension: {file_path.suffix}\")\n",
    "    print(f\"Parent directory: {file_path.parent}\")\n",
    "\n",
    "# List files in directory\n",
    "files_dir = Path(\"../files\")\n",
    "if files_dir.exists():\n",
    "    print(\"\\nFiles in directory:\")\n",
    "    for file in files_dir.iterdir():\n",
    "        if file.is_file():\n",
    "            print(f\"  📄 {file.name}\")\n",
    "        elif file.is_dir():\n",
    "            print(f\"  📁 {file.name}/\")\n",
    "\n",
    "# Find files by pattern\n",
    "print(\"\\nText files:\")\n",
    "for txt_file in files_dir.glob(\"*.txt\"):\n",
    "    print(f\"  📄 {txt_file.name}\")\n",
    "\n",
    "# Working with different path parts\n",
    "sample_path = Path(\"/home/user/documents/file.txt\")\n",
    "print(f\"\\nPath parts:\")\n",
    "print(f\"  Root: {sample_path.root}\")\n",
    "print(f\"  Parts: {sample_path.parts}\")\n",
    "print(f\"  Parent: {sample_path.parent}\")\n",
    "print(f\"  Name: {sample_path.name}\")\n",
    "print(f\"  Stem: {sample_path.stem}\")\n",
    "print(f\"  Suffix: {sample_path.suffix}\")"
   ]
  },
  {
   "cell_type": "markdown",
   "id": "37f53ce2",
   "metadata": {},
   "source": [
    "## 7. Practical File Handling Examples"
   ]
  },
  {
   "cell_type": "markdown",
   "id": "010af941",
   "metadata": {},
   "source": [
    "**➤ Log File Processing:**"
   ]
  },
  {
   "cell_type": "code",
   "execution_count": null,
   "id": "bef0b968",
   "metadata": {},
   "outputs": [],
   "source": [
    "# Create a sample log file\n",
    "log_content = \"\"\"2024-01-15 10:30:25 INFO User logged in\n",
    "2024-01-15 10:31:15 ERROR Failed to connect to database\n",
    "2024-01-15 10:32:45 INFO Database connection restored\n",
    "2024-01-15 10:33:20 WARNING High memory usage detected\n",
    "2024-01-15 10:34:10 INFO User logged out\"\"\"\n",
    "\n",
    "with open(\"../files/app.log\", \"w\") as file:\n",
    "    file.write(log_content)\n",
    "\n",
    "# Process log file\n",
    "def analyze_log_file(filename):\n",
    "    log_stats = {\"INFO\": 0, \"ERROR\": 0, \"WARNING\": 0}\n",
    "    \n",
    "    try:\n",
    "        with open(filename, \"r\") as file:\n",
    "            for line in file:\n",
    "                if \"INFO\" in line:\n",
    "                    log_stats[\"INFO\"] += 1\n",
    "                elif \"ERROR\" in line:\n",
    "                    log_stats[\"ERROR\"] += 1\n",
    "                elif \"WARNING\" in line:\n",
    "                    log_stats[\"WARNING\"] += 1\n",
    "        \n",
    "        return log_stats\n",
    "    except FileNotFoundError:\n",
    "        return \"Log file not found\"\n",
    "\n",
    "# Analyze the log\n",
    "stats = analyze_log_file(\"../files/app.log\")\n",
    "print(\"Log Analysis:\")\n",
    "for level, count in stats.items():\n",
    "    print(f\"  {level}: {count} messages\")\n",
    "\n",
    "# Filter errors from log\n",
    "def extract_errors(log_file, error_file):\n",
    "    try:\n",
    "        with open(log_file, \"r\") as infile, open(error_file, \"w\") as outfile:\n",
    "            for line in infile:\n",
    "                if \"ERROR\" in line:\n",
    "                    outfile.write(line)\n",
    "        print(f\"Errors extracted to {error_file}\")\n",
    "    except FileNotFoundError:\n",
    "        print(f\"Log file {log_file} not found\")\n",
    "\n",
    "extract_errors(\"../files/app.log\", \"../files/errors.log\")"
   ]
  },
  {
   "cell_type": "markdown",
   "id": "93df2fc1",
   "metadata": {},
   "source": [
    "**➤ Configuration File Handling:**"
   ]
  },
  {
   "cell_type": "code",
   "execution_count": null,
   "id": "c6d57173",
   "metadata": {},
   "outputs": [],
   "source": [
    "# Create a configuration file\n",
    "config = {\n",
    "    \"database\": {\n",
    "        \"host\": \"localhost\",\n",
    "        \"port\": 5432,\n",
    "        \"username\": \"admin\"\n",
    "    },\n",
    "    \"app\": {\n",
    "        \"name\": \"MyApp\",\n",
    "        \"version\": \"1.0.0\",\n",
    "        \"debug\": True\n",
    "    }\n",
    "}\n",
    "\n",
    "# Save configuration\n",
    "with open(\"../files/config.json\", \"w\") as file:\n",
    "    json.dump(config, file, indent=2)\n",
    "\n",
    "# Load and use configuration\n",
    "def load_config(filename):\n",
    "    try:\n",
    "        with open(filename, \"r\") as file:\n",
    "            return json.load(file)\n",
    "    except FileNotFoundError:\n",
    "        print(f\"Config file {filename} not found\")\n",
    "        return None\n",
    "    except json.JSONDecodeError:\n",
    "        print(f\"Invalid JSON in {filename}\")\n",
    "        return None\n",
    "\n",
    "# Load configuration\n",
    "app_config = load_config(\"../files/config.json\")\n",
    "if app_config:\n",
    "    print(f\"App Name: {app_config['app']['name']}\")\n",
    "    print(f\"Database Host: {app_config['database']['host']}\")\n",
    "    print(f\"Debug Mode: {app_config['app']['debug']}\")\n",
    "\n",
    "# Update configuration\n",
    "def update_config(filename, section, key, value):\n",
    "    config = load_config(filename)\n",
    "    if config:\n",
    "        config[section][key] = value\n",
    "        with open(filename, \"w\") as file:\n",
    "            json.dump(config, file, indent=2)\n",
    "        print(f\"Updated {section}.{key} = {value}\")\n",
    "\n",
    "# Update debug mode\n",
    "update_config(\"../files/config.json\", \"app\", \"debug\", False)"
   ]
  },
  {
   "cell_type": "markdown",
   "id": "ea61a1ff",
   "metadata": {},
   "source": [
    "**Example Prompt to ChatGPT:**\n",
    "```\n",
    "\"Generate Python code to read a JSON file containing student records and print their names.\"\n",
    "\n"
   ]
  },
  {
   "cell_type": "markdown",
   "id": "757903fd",
   "metadata": {},
   "source": [
    "### **🎯 Quick Recap**"
   ]
  },
  {
   "cell_type": "markdown",
   "id": "8832e88f",
   "metadata": {},
   "source": [
    "✅ File operations: reading, writing, appending, line-by-line processing\n",
    "\n",
    "✅ Error handling: try-except blocks for robust file operations\n",
    "\n",
    "✅ Use `os` module for file path handling and file system operations\n",
    "\n",
    "✅ CSV files: `csv.reader`, `csv.writer`, and dictionaries\n",
    "\n",
    "✅ JSON: Read, write, parse structured data\n",
    "\n",
    "✅ Binary files: handling images, executables, and other binary data\n",
    "\n",
    "✅ Modern `pathlib`: object-oriented file path handling\n",
    "\n",
    "✅ Practical examples: log processing, configuration files"
   ]
  },
  {
   "cell_type": "markdown",
   "id": "04979ede",
   "metadata": {},
   "source": [
    "### **📝 Practice Exercises**"
   ]
  },
  {
   "cell_type": "markdown",
   "id": "24cca08d",
   "metadata": {},
   "source": [
    "**Basic Level:**\n",
    "\n",
    "1. Write a program to create a text file with your name and age.\n",
    "\n",
    "2. Read the file you just created and print its contents.\n",
    "\n",
    "3. Create a CSV file with three student records (name, age, grade).\n",
    "\n",
    "4. Read and print all names from the CSV file.\n",
    "\n",
    "5. Write a program to save a dictionary as a JSON file and read it back.\n",
    "\n",
    "**Intermediate Level:**\n",
    "\n",
    "6. Write a program that reads a text file line by line and counts the number of lines.\n",
    "\n",
    "7. Create a program that handles FileNotFoundError when trying to read a non-existent file.\n",
    "\n",
    "8. Write a function that copies a file from one location to another using binary mode.\n",
    "\n",
    "9. Use pathlib to create a directory and list all .txt files in it.\n",
    "\n",
    "10. Create a log analyzer that counts different log levels (INFO, ERROR, WARNING).\n",
    "\n",
    "**Advanced Level:**\n",
    "\n",
    "11. Write a program that reads a large file efficiently without loading it entirely into memory.\n",
    "\n",
    "12. Create a configuration manager that loads, updates, and saves JSON configuration files.\n",
    "\n",
    "13. Write a file backup system that creates timestamped backups of important files.\n",
    "\n",
    "14. Build a CSV data processor that filters and transforms data before saving.\n",
    "\n",
    "15. Create a file monitor that tracks changes in a directory and logs them."
   ]
  }
 ],
 "metadata": {
  "kernelspec": {
   "display_name": "Python 3",
   "language": "python",
   "name": "python3"
  },
  "language_info": {
   "codemirror_mode": {
    "name": "ipython",
    "version": 3
   },
   "file_extension": ".py",
   "mimetype": "text/x-python",
   "name": "python",
   "nbconvert_exporter": "python",
   "pygments_lexer": "ipython3",
   "version": "3.12.10"
  }
 },
 "nbformat": 4,
 "nbformat_minor": 5
}
