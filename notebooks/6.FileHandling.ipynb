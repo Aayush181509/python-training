{
 "cells": [
  {
   "cell_type": "markdown",
   "id": "d2c32912",
   "metadata": {},
   "source": [
    "---\n",
    "# 📓 **Python Programming -** File Handling\n",
    "---"
   ]
  },
  {
   "cell_type": "markdown",
   "id": "b58030b9",
   "metadata": {
    "vscode": {
     "languageId": "plaintext"
    }
   },
   "source": [
    "## 1. Text File Operations"
   ]
  },
  {
   "cell_type": "markdown",
   "id": "c5b79d28",
   "metadata": {
    "vscode": {
     "languageId": "plaintext"
    }
   },
   "source": [
    "### Python provides easy ways to handle files for reading and writing.\n",
    "\n",
    "**Common File Modes:**\n",
    "- `'r'` → Read (default)\n",
    "\n",
    "- `'w'` → Write (overwrites existing file or creates new)\n",
    "\n",
    "- `'a'` → Append (adds to existing file)\n",
    "\n",
    "- `'rb'` / `'wb'` → Read/Write binary files"
   ]
  },
  {
   "cell_type": "markdown",
   "id": "c2f6b0e7",
   "metadata": {
    "vscode": {
     "languageId": "plaintext"
    }
   },
   "source": [
    "**➤ Reading a Text File:**"
   ]
  },
  {
   "cell_type": "code",
   "execution_count": null,
   "id": "43387e9e",
   "metadata": {},
   "outputs": [],
   "source": [
    "# Writing sample content for demonstration\n",
    "with open(\"../files/sample.txt\", \"w\") as file:\n",
    "    file.write(\"Hello, this is a text file.\\nSecond line of text.\")\n",
    "\n",
    "# Reading file\n",
    "with open(\"../files/sample.txt\", \"r\") as file:\n",
    "    content = file.read()\n",
    "    print(content)"
   ]
  },
  {
   "cell_type": "markdown",
   "id": "a9dde253",
   "metadata": {},
   "source": [
    "**➤ Writing to a Text File:**"
   ]
  },
  {
   "cell_type": "code",
   "execution_count": null,
   "id": "c56c7a50",
   "metadata": {},
   "outputs": [],
   "source": [
    "with open(\"../files/output.txt\", \"w\") as file:\n",
    "    file.write(\"This is a new file.\\nFile handling in Python is easy!\")"
   ]
  },
  {
   "cell_type": "markdown",
   "id": "46289952",
   "metadata": {},
   "source": [
    "## 2. File Path Handling with os Module"
   ]
  },
  {
   "cell_type": "markdown",
   "id": "3515b25d",
   "metadata": {},
   "source": [
    "**The `os` module helps work with file paths in a platform-independent way.**"
   ]
  },
  {
   "cell_type": "code",
   "execution_count": null,
   "id": "77ca91f4",
   "metadata": {},
   "outputs": [],
   "source": [
    "import os\n",
    "\n",
    "# Current working directory\n",
    "print(\"Current Directory:\", os.getcwd())\n",
    "\n",
    "# Create a file path\n",
    "file_path = os.path.join(os.getcwd(), \"output.txt\")\n",
    "print(\"File Path:\", file_path)"
   ]
  },
  {
   "cell_type": "markdown",
   "id": "6e2c45ec",
   "metadata": {},
   "source": [
    "## 3. Working with CSV Files"
   ]
  },
  {
   "cell_type": "markdown",
   "id": "9aeb212c",
   "metadata": {},
   "source": [
    "**CSV (Comma-Separated Values):**\n",
    "- Simple format for storing tabular data.\n",
    "    \n",
    "- Python provides the `csv` module to work with CSV files.\n"
   ]
  },
  {
   "cell_type": "markdown",
   "id": "538ca1eb",
   "metadata": {},
   "source": [
    "**➤ Reading a CSV File:**"
   ]
  },
  {
   "cell_type": "code",
   "execution_count": null,
   "id": "236e1784",
   "metadata": {},
   "outputs": [],
   "source": [
    "import csv\n",
    "\n",
    "# Creating a sample CSV file\n",
    "with open(\"../files/data.csv\", \"w\", newline=\"\") as file:\n",
    "    writer = csv.writer(file)\n",
    "    writer.writerow([\"Name\", \"Age\"])\n",
    "    writer.writerow([\"Alice\", 23])\n",
    "    writer.writerow([\"Bob\", 28])\n",
    "\n",
    "# Reading the CSV file\n",
    "with open(\"../files/data.csv\", \"r\") as file:\n",
    "    reader = csv.reader(file)\n",
    "    for row in reader:\n",
    "        print(row)\n"
   ]
  },
  {
   "cell_type": "markdown",
   "id": "141eac7c",
   "metadata": {},
   "source": [
    "**➤ Using Dictionaries in CSV Files:**"
   ]
  },
  {
   "cell_type": "code",
   "execution_count": null,
   "id": "54245cc5",
   "metadata": {},
   "outputs": [],
   "source": [
    "# Writing using DictWriter\n",
    "with open(\"../files/data_dict.csv\", \"w\", newline=\"\") as file:\n",
    "    fieldnames = [\"Name\", \"Age\"]\n",
    "    writer = csv.DictWriter(file, fieldnames=fieldnames)\n",
    "    writer.writeheader()\n",
    "    writer.writerow({\"Name\": \"Charlie\", \"Age\": 30})\n",
    "    writer.writerow({\"Name\": \"Dana\", \"Age\": 26})\n",
    "\n",
    "# Reading using DictReader\n",
    "with open(\"../files/data_dict.csv\", \"r\") as file:\n",
    "    reader = csv.DictReader(file)\n",
    "    for row in reader:\n",
    "        print(row)"
   ]
  },
  {
   "cell_type": "markdown",
   "id": "bae74d81",
   "metadata": {},
   "source": [
    "## 4. Working with JSON\n",
    "\n",
    "**JSON (JavaScript Object Notation):**\n",
    "- Popular data format for exchanging data.\n",
    "\n",
    "- Similar to Python dictionaries.\n"
   ]
  },
  {
   "cell_type": "markdown",
   "id": "799520ae",
   "metadata": {},
   "source": [
    "**➤ Reading & Writing JSON:**"
   ]
  },
  {
   "cell_type": "code",
   "execution_count": null,
   "id": "a388a9bd",
   "metadata": {},
   "outputs": [],
   "source": [
    "import json\n",
    "\n",
    "# Python dictionary\n",
    "person = {\"name\": \"Eve\", \"age\": 29, \"skills\": [\"Python\", \"Data Science\"]}\n",
    "\n",
    "# Writing to JSON file\n",
    "with open(\"../files/person.json\", \"w\") as file:\n",
    "    json.dump(person, file)\n",
    "\n",
    "# Reading JSON file\n",
    "with open(\"../files/person.json\", \"r\") as file:\n",
    "    data = json.load(file)\n",
    "    print(data)\n"
   ]
  },
  {
   "cell_type": "markdown",
   "id": "41838808",
   "metadata": {},
   "source": [
    "**➤ Parsing JSON Strings:**"
   ]
  },
  {
   "cell_type": "code",
   "execution_count": null,
   "id": "b8fc497a",
   "metadata": {},
   "outputs": [],
   "source": [
    "# JSON string\n",
    "json_str = '{\"name\": \"Frank\", \"age\": 32}'\n",
    "\n",
    "# Converting JSON string to dictionary\n",
    "person = json.loads(json_str)\n",
    "print(person[\"name\"])"
   ]
  },
  {
   "cell_type": "markdown",
   "id": "ea61a1ff",
   "metadata": {},
   "source": [
    "**Example Prompt to ChatGPT:**\n",
    "```\n",
    "\"Generate Python code to read a JSON file containing student records and print their names.\"\n",
    "\n"
   ]
  },
  {
   "cell_type": "markdown",
   "id": "757903fd",
   "metadata": {},
   "source": [
    "### **🎯 Quick Recap**"
   ]
  },
  {
   "cell_type": "markdown",
   "id": "8832e88f",
   "metadata": {},
   "source": [
    "✅ File operations: reading, writing, appending  \n",
    "\n",
    "✅ Use `os` module for file path handling  \n",
    "\n",
    "✅ CSV files: `csv.reader`, `csv.writer`, and dictionaries  \n",
    "\n",
    "✅ JSON: Read, write, parse structured data  "
   ]
  },
  {
   "cell_type": "markdown",
   "id": "04979ede",
   "metadata": {},
   "source": [
    "### **📝 Practice Exercises**"
   ]
  },
  {
   "cell_type": "markdown",
   "id": "24cca08d",
   "metadata": {},
   "source": [
    "1. Write a program to create a text file with your name and age.\n",
    "\n",
    "2. Read the file you just created and print its contents.\n",
    "\n",
    "3. Create a CSV file with three student records (name, age).\n",
    "\n",
    "4. Read and print all names from the CSV file.\n",
    "\n",
    "5. Write a program to save a dictionary as a JSON file and read it back."
   ]
  }
 ],
 "metadata": {
  "kernelspec": {
   "display_name": "Python 3",
   "language": "python",
   "name": "python3"
  },
  "language_info": {
   "codemirror_mode": {
    "name": "ipython",
    "version": 3
   },
   "file_extension": ".py",
   "mimetype": "text/x-python",
   "name": "python",
   "nbconvert_exporter": "python",
   "pygments_lexer": "ipython3",
   "version": "3.12.10"
  }
 },
 "nbformat": 4,
 "nbformat_minor": 5
}
