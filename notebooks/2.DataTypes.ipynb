{
 "cells": [
  {
   "cell_type": "markdown",
   "id": "4b35c601",
   "metadata": {},
   "source": [
    "# 📓 Python Programming - Python Basics"
   ]
  },
  {
   "cell_type": "markdown",
   "id": "e851fc79",
   "metadata": {
    "vscode": {
     "languageId": "plaintext"
    }
   },
   "source": [
    "## 🟢 1. Data Types & Variables"
   ]
  },
  {
   "cell_type": "markdown",
   "id": "2614c4f1",
   "metadata": {
    "vscode": {
     "languageId": "plaintext"
    }
   },
   "source": [
    "### What are Variables?\n",
    "- Variables are containers for storing data values.\n",
    "\n",
    "- No need to declare the type explicitly (Python is dynamically typed).\n",
    "\n",
    "### Common Data Types in Python:\n",
    "- `str`  → String (text)\n",
    "\n",
    "- `int`  → Integer (whole numbers)\n",
    "\n",
    "- `float` → Floating-point numbers (decimals)\n",
    "\n",
    "- `complex` → Complex numbers (real + imaginary)\n",
    "\n",
    "- `bool` → Boolean (True/False)\n",
    "\n",
    "- `None` → Represents the absence of a value (null-like)\n"
   ]
  },
  {
   "cell_type": "code",
   "execution_count": null,
   "id": "a7688ac1",
   "metadata": {},
   "outputs": [],
   "source": [
    "# String\n",
    "name = \"Alice\"\n",
    "print(name,type(name))\n",
    "\n",
    "# Integer\n",
    "age = 25\n",
    "print(age,type(age))\n",
    "\n",
    "# Float\n",
    "height = 5.7\n",
    "print(height,type(height))\n",
    "\n",
    "# Complex\n",
    "z = 2 + 3j\n",
    "print(z,type(z))\n",
    "\n",
    "# Boolean\n",
    "is_student = True\n",
    "print(is_student,type(is_student))\n",
    "\n",
    "# None Type\n",
    "data = None\n",
    "print(data,type(data))"
   ]
  },
  {
   "cell_type": "markdown",
   "id": "61be4175",
   "metadata": {},
   "source": [
    "## 🟢 2. Input and Output Functions"
   ]
  },
  {
   "cell_type": "markdown",
   "id": "a2e5d950",
   "metadata": {},
   "source": [
    "**Output: `print()`**\n",
    "- Used to display information to the console.\n",
    "\n",
    "**Input: `input()`**\n",
    "- Takes input from the user as a string.\n"
   ]
  },
  {
   "cell_type": "code",
   "execution_count": null,
   "id": "7634e868",
   "metadata": {},
   "outputs": [],
   "source": [
    "# Output\n",
    "print(\"Hello, World!\")\n",
    "\n",
    "# Input\n",
    "name = input(\"Enter your name: \")\n",
    "print(\"Welcome,\", name)"
   ]
  },
  {
   "cell_type": "markdown",
   "id": "08739b74",
   "metadata": {},
   "source": [
    "## 🟢 3. Working with format() Method, f-Strings, & Escape Sequences"
   ]
  },
  {
   "cell_type": "markdown",
   "id": "6d1a21a1",
   "metadata": {},
   "source": [
    "### String Formatting:\n",
    "- `format()` method inserts variables into strings.\n",
    "\n",
    "- `f-strings` (Python 3.6+) provide a concise way to embed expressions inside string literals.\n",
    "\n",
    "### Escape Sequences:\n",
    "- `\\n` → New line\n",
    "\n",
    "- `\\t` → Tab space\n",
    "\n",
    "- `\\\\` → Backslash\n",
    "\n",
    "- `\\\"` or `\\'` → Quotes\n"
   ]
  },
  {
   "cell_type": "code",
   "execution_count": null,
   "id": "05ca4fa9",
   "metadata": {},
   "outputs": [],
   "source": [
    "# Using format()\n",
    "name = \"Vini\"\n",
    "age = 23\n",
    "print(\"My name is {} and I am {} years old.\".format(name, age))\n",
    "\n",
    "# Using f-strings\n",
    "print(f\"My name is {name} and I am {age} years old.\")\n",
    "\n",
    "# Escape sequences\n",
    "print(\"Hello\\tWorld\")  # Tab\n",
    "print(\"Line 1\\nLine 2\")  # New line\n",
    "print(\"She said, \\\"Python is fun!\\\"\")"
   ]
  },
  {
   "cell_type": "markdown",
   "id": "0eccbf30",
   "metadata": {},
   "source": [
    "## 🟢 4. Basic Arithmetic & Operators"
   ]
  },
  {
   "cell_type": "markdown",
   "id": "70a6ae2e",
   "metadata": {},
   "source": [
    "**Arithmetic Operators:**\n",
    "- `+` → Addition\n",
    "\n",
    "- `-` → Subtraction\n",
    "\n",
    "- `*` → Multiplication\n",
    "\n",
    "- `/` → Division\n",
    "\n",
    "- `//` → Floor Division (discards remainder)\n",
    "\n",
    "- `%` → Modulus (remainder)\n",
    "\n",
    "- `**` → Exponent (power)\n"
   ]
  },
  {
   "cell_type": "code",
   "execution_count": null,
   "id": "25780a5c",
   "metadata": {},
   "outputs": [],
   "source": [
    "a = 10\n",
    "b = 3\n",
    "\n",
    "print(\"Addition:\", a + b)\n",
    "print(\"Subtraction:\", a - b)\n",
    "print(\"Multiplication:\", a * b)\n",
    "print(\"Division:\", a / b)\n",
    "print(\"Floor Division:\", a // b)\n",
    "print(\"Modulus:\", a % b)\n",
    "print(\"Exponent:\", a ** b)"
   ]
  },
  {
   "cell_type": "markdown",
   "id": "1a316c81",
   "metadata": {},
   "source": [
    "## 🟢 5. Type Casting, Type Checking, & Validation"
   ]
  },
  {
   "cell_type": "markdown",
   "id": "b93ba7df",
   "metadata": {},
   "source": [
    "### Type Casting:\n",
    "- Convert one data type to another using functions like `int()`, `float()`, `str()`, etc.\n",
    "\n",
    "### Type Checking:\n",
    "- Use `type()` function to check the data type.\n",
    "\n",
    "### Simple Validation Example:\n",
    "- Check if the input is numeric using `.isdigit()`.\n"
   ]
  },
  {
   "cell_type": "code",
   "execution_count": 19,
   "id": "b57ca062",
   "metadata": {},
   "outputs": [
    {
     "name": "stdout",
     "output_type": "stream",
     "text": [
      "7\n",
      "<class 'int'>\n",
      "Invalid input. Please enter a number.\n"
     ]
    }
   ],
   "source": [
    "# Type Casting\n",
    "x = \"5\"\n",
    "y = int(x)  # Convert string to integer\n",
    "print(y + 2)  # Output: 7\n",
    "\n",
    "# Type Checking\n",
    "print(type(y))  # Output: <class 'int'>\n",
    "\n",
    "# Validation Example\n",
    "user_input = input(\"Enter a number: \")\n",
    "if user_input.isdigit():\n",
    "    print(\"You entered:\", int(user_input))\n",
    "else:\n",
    "    print(\"Invalid input. Please enter a number.\")\n"
   ]
  },
  {
   "cell_type": "markdown",
   "id": "ddba0361",
   "metadata": {},
   "source": [
    "### Quick Recap"
   ]
  },
  {
   "cell_type": "markdown",
   "id": "b0c3e7da",
   "metadata": {},
   "source": [
    "✅ Python supports multiple data types (string, int, float, etc.)  \n",
    "\n",
    "✅ Variables store data values dynamically  \n",
    "\n",
    "✅ Use `print()` for output and `input()` for taking user input  \n",
    "\n",
    "✅ String formatting with `format()` and `f-strings`  \n",
    "\n",
    "✅ Arithmetic operations are straightforward  \n",
    "\n",
    "✅ Type casting, checking, and basic input validation enhance reliability  "
   ]
  },
  {
   "cell_type": "markdown",
   "id": "71357d17",
   "metadata": {},
   "source": [
    "### 📝 Practice Exercises"
   ]
  },
  {
   "cell_type": "markdown",
   "id": "ec2efb06",
   "metadata": {},
   "source": [
    "1. Declare variables for your name, age, and height. Print them using f-strings.\n",
    "\n",
    "2. Ask the user for two numbers and print their sum.\n",
    "\n",
    "3. Write a program to check if the user entered a valid number.\n",
    "\n",
    "4. Experiment with escape sequences to format output.\n"
   ]
  }
 ],
 "metadata": {
  "kernelspec": {
   "display_name": "Python 3",
   "language": "python",
   "name": "python3"
  },
  "language_info": {
   "codemirror_mode": {
    "name": "ipython",
    "version": 3
   },
   "file_extension": ".py",
   "mimetype": "text/x-python",
   "name": "python",
   "nbconvert_exporter": "python",
   "pygments_lexer": "ipython3",
   "version": "3.12.10"
  }
 },
 "nbformat": 4,
 "nbformat_minor": 5
}
