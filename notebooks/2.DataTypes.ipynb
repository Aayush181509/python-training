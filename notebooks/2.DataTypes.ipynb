{
 "cells": [
  {
   "cell_type": "markdown",
   "id": "4b35c601",
   "metadata": {},
   "source": [
    "---\n",
    "## 📓 Python Programming - Python Basics\n",
    "---"
   ]
  },
  {
   "cell_type": "markdown",
   "id": "e851fc79",
   "metadata": {
    "vscode": {
     "languageId": "plaintext"
    }
   },
   "source": [
    "###  1. Data Types & Variables"
   ]
  },
  {
   "cell_type": "markdown",
   "id": "2614c4f1",
   "metadata": {
    "vscode": {
     "languageId": "plaintext"
    }
   },
   "source": [
    "**What are Variables?**\n",
    "- Variables are containers for storing data values.\n",
    "\n",
    "- No need to declare the type explicitly (Python is dynamically typed).\n",
    "\n",
    "**Common Data Types in Python:**\n",
    "- `str`  → String (text)\n",
    "\n",
    "- `int`  → Integer (whole numbers)\n",
    "\n",
    "- `float` → Floating-point numbers (decimals)\n",
    "\n",
    "- `complex` → Complex numbers (real + imaginary)\n",
    "\n",
    "- `bool` → Boolean (True/False)\n",
    "\n",
    "- `None` → Represents the absence of a value (null-like)\n"
   ]
  },
  {
   "cell_type": "code",
   "execution_count": 1,
   "id": "a7688ac1",
   "metadata": {},
   "outputs": [
    {
     "name": "stdout",
     "output_type": "stream",
     "text": [
      "Alice <class 'str'>\n",
      "25 <class 'int'>\n",
      "5.7 <class 'float'>\n",
      "(2+3j) <class 'complex'>\n",
      "True <class 'bool'>\n",
      "None <class 'NoneType'>\n"
     ]
    }
   ],
   "source": [
    "# String\n",
    "name = \"Alice\"\n",
    "print(name,type(name))\n",
    "\n",
    "# Integer\n",
    "age = 25\n",
    "print(age,type(age))\n",
    "\n",
    "# Float\n",
    "height = 5.7\n",
    "print(height,type(height))\n",
    "\n",
    "# Complex\n",
    "z = 2 + 3j\n",
    "print(z,type(z))\n",
    "\n",
    "# Boolean\n",
    "is_student = True\n",
    "print(is_student,type(is_student))\n",
    "\n",
    "# None Type\n",
    "data = None\n",
    "print(data,type(data))"
   ]
  },
  {
   "cell_type": "markdown",
   "id": "c9fcaf94",
   "metadata": {},
   "source": [
    "**Variable Naming Rules:**\n",
    "- Must start with a letter or underscore (_)\n",
    "- Can contain letters, numbers, and underscores\n",
    "- Case-sensitive (`name` and `Name` are different)\n",
    "- Cannot use Python keywords (like `if`, `for`, `class`)\n",
    "\n",
    "**Naming Conventions:**\n",
    "- Use descriptive names: `user_age` instead of `a`\n",
    "- Use snake_case: `first_name` instead of `firstName`\n",
    "- Constants in UPPER_CASE: `MAX_SIZE = 100`"
   ]
  },
  {
   "cell_type": "code",
   "execution_count": 2,
   "id": "d4e69a13",
   "metadata": {},
   "outputs": [
    {
     "name": "stdout",
     "output_type": "stream",
     "text": [
      "x=1, y=2, z=3\n",
      "a=10, b=10, c=10\n"
     ]
    }
   ],
   "source": [
    "# Valid variable names\n",
    "user_name = \"Alice\"\n",
    "age_2024 = 25\n",
    "_private_var = \"hidden\"\n",
    "\n",
    "# Multiple assignment\n",
    "x, y, z = 1, 2, 3\n",
    "print(f\"x={x}, y={y}, z={z}\")\n",
    "\n",
    "# Same value to multiple variables\n",
    "a = b = c = 10\n",
    "print(f\"a={a}, b={b}, c={c}\")\n",
    "\n",
    "# Invalid examples (commented out to avoid errors)\n",
    "# 2name = \"Invalid\"      # Cannot start with number\n",
    "# my-name = \"Invalid\"    # Cannot contain hyphens\n",
    "# class = \"Invalid\"      # Cannot use Python keywords"
   ]
  },
  {
   "cell_type": "code",
   "execution_count": 3,
   "id": "249921b2",
   "metadata": {},
   "outputs": [
    {
     "name": "stdout",
     "output_type": "stream",
     "text": [
      "3\n",
      "hello world\n"
     ]
    }
   ],
   "source": [
    "one = 1\n",
    "two = 2\n",
    "three = one + two\n",
    "print(three)\n",
    "\n",
    "hello = \"hello\"\n",
    "world = \"world\"\n",
    "helloworld = hello + \" \" + world\n",
    "print(helloworld)"
   ]
  },
  {
   "cell_type": "markdown",
   "id": "61be4175",
   "metadata": {},
   "source": [
    "###  2. Input and Output Functions"
   ]
  },
  {
   "cell_type": "markdown",
   "id": "a2e5d950",
   "metadata": {},
   "source": [
    "**Output: `print()`**\n",
    "- Used to display information to the console.\n",
    "\n",
    "**Input: `input()`**\n",
    "- Takes input from the user as a string.\n"
   ]
  },
  {
   "cell_type": "code",
   "execution_count": 15,
   "id": "7634e868",
   "metadata": {},
   "outputs": [
    {
     "name": "stdout",
     "output_type": "stream",
     "text": [
      "Hello, World!\n",
      "Welcome, je\n",
      "Welcome, je\n"
     ]
    }
   ],
   "source": [
    "# Output\n",
    "print(\"Hello, World!\")\n",
    "\n",
    "# Input\n",
    "name = input(\"Enter your name: \")\n",
    "print(\"Welcome,\", name)"
   ]
  },
  {
   "cell_type": "markdown",
   "id": "bbe20082",
   "metadata": {},
   "source": [
    "**Important Note about input():**\n",
    "- `input()` always returns a string, even if the user enters a number\n",
    "- You need to convert it to the appropriate type if needed"
   ]
  },
  {
   "cell_type": "code",
   "execution_count": 5,
   "id": "9617e635",
   "metadata": {},
   "outputs": [
    {
     "name": "stdout",
     "output_type": "stream",
     "text": [
      "You entered: 9 (type: <class 'str'>)\n",
      "Double of your number: 18\n"
     ]
    }
   ],
   "source": [
    "# Input is always a string\n",
    "user_input = input(\"Enter a number: \")\n",
    "print(f\"You entered: {user_input} (type: {type(user_input)})\")\n",
    "\n",
    "# Convert to integer for calculations\n",
    "try:\n",
    "    number = int(user_input)\n",
    "    result = number * 2\n",
    "    print(f\"Double of your number: {result}\")\n",
    "except ValueError:\n",
    "    print(\"That's not a valid number!\")\n",
    "\n",
    "# Alternative: Convert directly (but handle errors)\n",
    "# age = int(input(\"Enter your age: \"))  # This can crash if not a number"
   ]
  },
  {
   "cell_type": "markdown",
   "id": "08739b74",
   "metadata": {},
   "source": [
    "###  3. Working with format() Method, f-Strings, & Escape Sequences"
   ]
  },
  {
   "cell_type": "markdown",
   "id": "6d1a21a1",
   "metadata": {},
   "source": [
    "** String Formatting:\n",
    "- `format()` method inserts variables into strings.\n",
    "\n",
    "- `f-strings` (Python 3.6+) provide a concise way to embed expressions inside string literals.\n",
    "\n",
    "** Escape Sequences:\n",
    "- `\\n` → New line\n",
    "\n",
    "- `\\t` → Tab space\n",
    "\n",
    "- `\\\\` → Backslash\n",
    "\n",
    "- `\\\"` or `\\'` → Quotes\n"
   ]
  },
  {
   "cell_type": "code",
   "execution_count": 6,
   "id": "05ca4fa9",
   "metadata": {},
   "outputs": [
    {
     "name": "stdout",
     "output_type": "stream",
     "text": [
      "My name is Vini and I am 23 years old.\n",
      "My name is Vini and I am 23 years old.\n",
      "Hello\tWorld\n",
      "Line 1\n",
      "Line 2\n",
      "She said, \"Python is fun!\"\n"
     ]
    }
   ],
   "source": [
    "# Using format()\n",
    "name = \"Vini\"\n",
    "age = 23\n",
    "print(\"My name is {} and I am {} years old.\".format(name, age))\n",
    "\n",
    "# Using f-strings\n",
    "print(f\"My name is {name} and I am {age} years old.\")\n",
    "\n",
    "# Escape sequences\n",
    "print(\"Hello\\tWorld\")  # Tab\n",
    "print(\"Line 1\\nLine 2\")  # New line\n",
    "print(\"She said, \\\"Python is fun!\\\"\")"
   ]
  },
  {
   "cell_type": "code",
   "execution_count": 7,
   "id": "d3f1e308",
   "metadata": {},
   "outputs": [
    {
     "name": "stdout",
     "output_type": "stream",
     "text": [
      "Hello, John!\n",
      "A list: [1, 2, 3]\n"
     ]
    }
   ],
   "source": [
    "name = \"John\"\n",
    "print(\"Hello, %s!\" % name)\n",
    "\n",
    "mylist = [1,2,3]\n",
    "print(\"A list: %s\" % mylist)"
   ]
  },
  {
   "cell_type": "markdown",
   "id": "adf89c85",
   "metadata": {},
   "source": [
    "`%s` - String (or any object with a string representation, like numbers)\n",
    "\n",
    "`%d` - Integers\n",
    "\n",
    "`%f` - Floating point numbers\n",
    "\n",
    "`%.<number of digits>f` - Floating point numbers with a fixed amount of digits to the right of the dot.\n",
    "\n",
    "`%x/%X` - Integers in hex representation (lowercase/uppercase)"
   ]
  },
  {
   "cell_type": "markdown",
   "id": "0eccbf30",
   "metadata": {},
   "source": [
    "###  4. Basic Arithmetic & Operators"
   ]
  },
  {
   "cell_type": "markdown",
   "id": "70a6ae2e",
   "metadata": {},
   "source": [
    "**Arithmetic Operators:**\n",
    "- `+` → Addition\n",
    "\n",
    "- `-` → Subtraction\n",
    "\n",
    "- `*` → Multiplication\n",
    "\n",
    "- `/` → Division\n",
    "\n",
    "- `//` → Floor Division (discards remainder)\n",
    "\n",
    "- `%` → Modulus (remainder)\n",
    "\n",
    "- `**` → Exponent (power)\n"
   ]
  },
  {
   "cell_type": "code",
   "execution_count": 8,
   "id": "25780a5c",
   "metadata": {},
   "outputs": [
    {
     "name": "stdout",
     "output_type": "stream",
     "text": [
      "Addition: 13\n",
      "Subtraction: 7\n",
      "Multiplication: 30\n",
      "Division: 3.3333333333333335\n",
      "Floor Division: 3\n",
      "Modulus: 1\n",
      "Exponent: 1000\n"
     ]
    }
   ],
   "source": [
    "a = 10\n",
    "b = 3\n",
    "\n",
    "print(\"Addition:\", a + b)\n",
    "print(\"Subtraction:\", a - b)\n",
    "print(\"Multiplication:\", a * b)\n",
    "print(\"Division:\", a / b)\n",
    "print(\"Floor Division:\", a // b)\n",
    "print(\"Modulus:\", a % b)\n",
    "print(\"Exponent:\", a ** b)"
   ]
  },
  {
   "cell_type": "markdown",
   "id": "bf15daf7",
   "metadata": {},
   "source": [
    "**Comparison Operators:**\n",
    "- `==` → Equal to\n",
    "- `!=` → Not equal to\n",
    "- `>` → Greater than\n",
    "- `<` → Less than\n",
    "- `>=` → Greater than or equal to\n",
    "- `<=` → Less than or equal to\n",
    "\n",
    "**Logical Operators:**\n",
    "- `and` → Both conditions must be True\n",
    "- `or` → At least one condition must be True\n",
    "- `not` → Reverses the result"
   ]
  },
  {
   "cell_type": "code",
   "execution_count": 9,
   "id": "7a667cc2",
   "metadata": {},
   "outputs": [
    {
     "name": "stdout",
     "output_type": "stream",
     "text": [
      "Comparison Results:\n",
      "x == y: False\n",
      "x != y: True\n",
      "x > y: True\n",
      "x < y: False\n",
      "x >= y: True\n",
      "x <= y: False\n",
      "\n",
      "Logical Operations:\n",
      "Can drive: True\n",
      "Student or senior: True\n",
      "Not a teenager: True\n"
     ]
    }
   ],
   "source": [
    "# Comparison operators\n",
    "x = 10\n",
    "y = 5\n",
    "\n",
    "print(\"Comparison Results:\")\n",
    "print(f\"x == y: {x == y}\")\n",
    "print(f\"x != y: {x != y}\")\n",
    "print(f\"x > y: {x > y}\")\n",
    "print(f\"x < y: {x < y}\")\n",
    "print(f\"x >= y: {x >= y}\")\n",
    "print(f\"x <= y: {x <= y}\")\n",
    "\n",
    "# Logical operators\n",
    "age = 20\n",
    "has_license = True\n",
    "\n",
    "print(\"\\nLogical Operations:\")\n",
    "print(f\"Can drive: {age >= 18 and has_license}\")\n",
    "print(f\"Student or senior: {age < 25 or age > 65}\")\n",
    "print(f\"Not a teenager: {not (13 <= age <= 19)}\")"
   ]
  },
  {
   "cell_type": "markdown",
   "id": "1a316c81",
   "metadata": {},
   "source": [
    "###  5. Type Casting, Type Checking, & Validation"
   ]
  },
  {
   "cell_type": "markdown",
   "id": "b93ba7df",
   "metadata": {},
   "source": [
    "**Type Casting:**\n",
    "- Convert one data type to another using functions like `int()`, `float()`, `str()`, etc.\n",
    "\n",
    "**Type Checking:**\n",
    "- Use `type()` function to check the data type.\n",
    "\n",
    "**Simple Validation Example:**\n",
    "- Check if the input is numeric using `.isdigit()`.\n"
   ]
  },
  {
   "cell_type": "code",
   "execution_count": 10,
   "id": "b57ca062",
   "metadata": {},
   "outputs": [
    {
     "name": "stdout",
     "output_type": "stream",
     "text": [
      "7\n",
      "<class 'int'>\n",
      "You entered: 9\n",
      "You entered: 9\n"
     ]
    }
   ],
   "source": [
    "# Type Casting\n",
    "x = \"5\"\n",
    "y = int(x)  # Convert string to integer\n",
    "print(y + 2)  # Output: 7\n",
    "\n",
    "# Type Checking\n",
    "print(type(y))  # Output: <class 'int'>\n",
    "\n",
    "# Validation Example\n",
    "user_input = input(\"Enter a number: \")\n",
    "if user_input.isdigit():\n",
    "    print(\"You entered:\", int(user_input))\n",
    "else:\n",
    "    print(\"Invalid input. Please enter a number.\")\n"
   ]
  },
  {
   "cell_type": "markdown",
   "id": "87abc893",
   "metadata": {},
   "source": [
    "**More Type Conversion Examples:**"
   ]
  },
  {
   "cell_type": "code",
   "execution_count": 11,
   "id": "fb5013b5",
   "metadata": {},
   "outputs": [
    {
     "name": "stdout",
     "output_type": "stream",
     "text": [
      "=== Type Conversions ===\n",
      "String to int: 42\n",
      "String to float: 3.14\n",
      "Int to string: '100'\n",
      "Float to string: '3.14159'\n",
      "Float to int: 3\n",
      "Bool to int: 1, 0\n",
      "Bool to string: 'True'\n",
      "bool(0): False\n",
      "bool(''): False\n",
      "bool('hello'): True\n",
      "bool(None): False\n"
     ]
    }
   ],
   "source": [
    "# Various type conversions\n",
    "print(\"=== Type Conversions ===\")\n",
    "\n",
    "# String to numbers\n",
    "str_int = \"42\"\n",
    "str_float = \"3.14\"\n",
    "print(f\"String to int: {int(str_int)}\")\n",
    "print(f\"String to float: {float(str_float)}\")\n",
    "\n",
    "# Numbers to string\n",
    "num = 100\n",
    "pi = 3.14159\n",
    "print(f\"Int to string: '{str(num)}'\")\n",
    "print(f\"Float to string: '{str(pi)}'\")\n",
    "\n",
    "# Float to int (truncates decimal)\n",
    "print(f\"Float to int: {int(pi)}\")\n",
    "\n",
    "# Boolean conversions\n",
    "print(f\"Bool to int: {int(True)}, {int(False)}\")\n",
    "print(f\"Bool to string: '{str(True)}'\")\n",
    "\n",
    "# Truthy and Falsy values\n",
    "print(f\"bool(0): {bool(0)}\")\n",
    "print(f\"bool(''): {bool('')}\")\n",
    "print(f\"bool('hello'): {bool('hello')}\")\n",
    "print(f\"bool(None): {bool(None)}\")\n",
    "\n",
    "# Common conversion errors (commented to avoid crashes)\n",
    "# int(\"hello\")  # ValueError\n",
    "# float(\"not_a_number\")  # ValueError"
   ]
  },
  {
   "cell_type": "markdown",
   "id": "e1c03b9b",
   "metadata": {},
   "source": [
    "### 6. Constants and Variable Scope\n",
    "\n",
    "**Constants:**\n",
    "- Python doesn't have true constants, but convention is to use ALL_CAPS\n",
    "- These are variables that shouldn't be changed after assignment"
   ]
  },
  {
   "cell_type": "code",
   "execution_count": 12,
   "id": "3a17eb85",
   "metadata": {},
   "outputs": [
    {
     "name": "stdout",
     "output_type": "stream",
     "text": [
      "Pi value: 3.14159\n",
      "Maximum users: 100\n",
      "App name: My Python App\n",
      "Area of circle with radius 5: 78.53975\n",
      "Inside function: I'm global\n",
      "Inside function: I'm local\n",
      "Outside function: I'm global\n"
     ]
    }
   ],
   "source": [
    "# Constants (by convention)\n",
    "PI = 3.14159\n",
    "MAX_USERS = 100\n",
    "APP_NAME = \"My Python App\"\n",
    "\n",
    "print(f\"Pi value: {PI}\")\n",
    "print(f\"Maximum users: {MAX_USERS}\")\n",
    "print(f\"App name: {APP_NAME}\")\n",
    "\n",
    "# Using constants in calculations\n",
    "radius = 5\n",
    "area = PI * radius ** 2\n",
    "print(f\"Area of circle with radius {radius}: {area}\")\n",
    "\n",
    "# Variable scope example\n",
    "global_var = \"I'm global\"\n",
    "\n",
    "def demo_function():\n",
    "    local_var = \"I'm local\"\n",
    "    print(f\"Inside function: {global_var}\")\n",
    "    print(f\"Inside function: {local_var}\")\n",
    "\n",
    "demo_function()\n",
    "print(f\"Outside function: {global_var}\")\n",
    "# print(local_var)  # This would cause an error - local_var not accessible"
   ]
  },
  {
   "cell_type": "markdown",
   "id": "ddba0361",
   "metadata": {},
   "source": [
    "**Quick Recap**"
   ]
  },
  {
   "cell_type": "markdown",
   "id": "b0c3e7da",
   "metadata": {},
   "source": [
    "✅ Python supports multiple data types (string, int, float, etc.)  \n",
    "\n",
    "✅ Variables store data values dynamically  \n",
    "\n",
    "✅ Use `print()` for output and `input()` for taking user input  \n",
    "\n",
    "✅ String formatting with `format()` and `f-strings`  \n",
    "\n",
    "✅ Arithmetic operations are straightforward  \n",
    "\n",
    "✅ Type casting, checking, and basic input validation enhance reliability  "
   ]
  },
  {
   "cell_type": "markdown",
   "id": "71357d17",
   "metadata": {},
   "source": [
    "### 📝 Practice Exercises"
   ]
  },
  {
   "cell_type": "markdown",
   "id": "99a1b56b",
   "metadata": {},
   "source": [
    "`Q. The target of this exercise is to create a string, an integer, and a floating point number. The string should be named mystring and should contain the word \"hello\". The floating point number should be named myfloat and should contain the number 10.0, and the integer should be named myint and should contain the number 20.`"
   ]
  },
  {
   "cell_type": "markdown",
   "id": "ec2efb06",
   "metadata": {},
   "source": [
    "1. Declare variables for your name, age, and height. Print them using f-strings.\n",
    "\n",
    "2. Ask the user for two numbers and print their sum.\n",
    "\n",
    "3. Write a program to check if the user entered a valid number.\n",
    "\n",
    "4. Experiment with escape sequences to format output.\n",
    "\n",
    "5. Use nested loops to print a pattern like:\n"
   ]
  },
  {
   "cell_type": "markdown",
   "id": "7cfb79e8",
   "metadata": {},
   "source": [
    "**Additional Practice Exercises:**\n",
    "\n",
    "6. **Calculator Program**: Create a simple calculator that takes two numbers and an operation (+, -, *, /) from the user.\n",
    "\n",
    "7. **Temperature Converter**: Write a program that converts temperature between Celsius and Fahrenheit.\n",
    "\n",
    "8. **Data Type Explorer**: Create variables of different types and use `type()` to display their types.\n",
    "\n",
    "9. **Boolean Logic**: Write a program that checks if a number is positive, negative, or zero using comparison operators.\n",
    "\n",
    "10. **String Manipulation**: Take a user's full name and display it in different formats (uppercase, lowercase, title case).\n",
    "\n",
    "11. **Age Calculator**: Calculate someone's age in years, months, and days given their birth year.\n",
    "\n",
    "12. **Input Validation**: Create a program that keeps asking for a number until the user provides a valid integer."
   ]
  },
  {
   "cell_type": "markdown",
   "id": "c991c3ad",
   "metadata": {},
   "source": [
    "```\n",
    "*\n",
    "**\n",
    "***\n",
    "****\n",
    "*****\n",
    "\n",
    "******\n",
    "*****\n",
    "****\n",
    "***\n",
    "**\n",
    "*\n",
    "\n",
    "     *\n",
    "    ***\n",
    "   *****\n",
    "  *******\n",
    " *********\n",
    "***********\n",
    "```"
   ]
  },
  {
   "cell_type": "markdown",
   "id": "c8e6fee2",
   "metadata": {},
   "source": [
    "** Solution"
   ]
  },
  {
   "cell_type": "code",
   "execution_count": 13,
   "id": "cbdbb88e",
   "metadata": {},
   "outputs": [
    {
     "name": "stdout",
     "output_type": "stream",
     "text": [
      "===============\n",
      "\n",
      "*\n",
      "**\n",
      "***\n",
      "****\n",
      "*****\n",
      "===============\n",
      "******\n",
      "*****\n",
      "****\n",
      "***\n",
      "**\n",
      "*\n",
      "===============\n",
      "     *\n",
      "    ***\n",
      "   *****\n",
      "  *******\n",
      " *********\n",
      "***********\n",
      "===============\n"
     ]
    }
   ],
   "source": [
    "max = 6\n",
    "print(\"=\"*15)\n",
    "for i in range(max):\n",
    "    print(f'{\"*\" * (i)}')\n",
    "\n",
    "print(\"=\"*15)\n",
    "for i in range(max):\n",
    "    print(f'{\"*\" * (max - i)}')\n",
    "\n",
    "print(\"=\"*15)\n",
    "for i in range(1,max+1):\n",
    "    print(\" \" * (max - i) + \"*\" * (2 * i - 1))\n",
    "print(\"=\"*15)\n"
   ]
  },
  {
   "cell_type": "markdown",
   "id": "eb6d8ece",
   "metadata": {},
   "source": [
    "Solution:\n",
    "```python\n",
    "# change this code\n",
    "mystring = \"hello\"\n",
    "myfloat = 10.0\n",
    "myint = 20\n",
    "\n",
    "# testing code\n",
    "if mystring == \"hello\":\n",
    "    print(\"String: %s\" % mystring)\n",
    "if isinstance(myfloat, float) and myfloat == 10.0:\n",
    "    print(\"Float: %f\" % myfloat)\n",
    "if isinstance(myint, int) and myint == 20:\n",
    "    print(\"Integer: %d\" % myint)\n",
    "\n",
    "```\n"
   ]
  }
 ],
 "metadata": {
  "kernelspec": {
   "display_name": "fellowship",
   "language": "python",
   "name": "python3"
  },
  "language_info": {
   "codemirror_mode": {
    "name": "ipython",
    "version": 3
   },
   "file_extension": ".py",
   "mimetype": "text/x-python",
   "name": "python",
   "nbconvert_exporter": "python",
   "pygments_lexer": "ipython3",
   "version": "3.11.12"
  }
 },
 "nbformat": 4,
 "nbformat_minor": 5
}
