{
 "cells": [
  {
   "cell_type": "markdown",
   "id": "dc94ff23",
   "metadata": {},
   "source": [
    "---\n",
    "# 📓 Python Programming - Advanced Python Concepts\n",
    "---"
   ]
  },
  {
   "cell_type": "markdown",
   "id": "1ad9c0cc",
   "metadata": {
    "vscode": {
     "languageId": "plaintext"
    }
   },
   "source": [
    "### 🟢 **1. Lambda Functions (Anonymous Functions)**\n",
    "\n",
    "- `lambda` creates small, one-line, anonymous functions.\n",
    "\n",
    "- Often used with `map()`, `filter()`, `sorted()`, etc.\n",
    "\n",
    "**➤ Example:**"
   ]
  },
  {
   "cell_type": "code",
   "execution_count": null,
   "id": "3dad4700",
   "metadata": {},
   "outputs": [],
   "source": [
    "# Regular function\n",
    "def square(x):\n",
    "    return x ** 2\n",
    "\n",
    "print(square(5))\n",
    "\n",
    "# Lambda function\n",
    "square_lambda = lambda x: x ** 2\n",
    "print(square_lambda(5))"
   ]
  },
  {
   "cell_type": "markdown",
   "id": "346e1006",
   "metadata": {},
   "source": [
    "## 🟢 2. Generators & Iterators\n",
    "\n",
    "**Generators:**\n",
    "- Use `yield` to produce a sequence of values lazily (one at a time).\n",
    "\n",
    "- Saves memory compared to lists.\n",
    "\n",
    "**Iterators:**\n",
    "- Any object with `__iter__()` and `__next__()` methods.\n",
    "\n",
    "\n",
    "**➤ Generator Example:**"
   ]
  },
  {
   "cell_type": "code",
   "execution_count": null,
   "id": "831ff7ad",
   "metadata": {},
   "outputs": [],
   "source": [
    "def count_up_to(n):\n",
    "    count = 1\n",
    "    while count <= n:\n",
    "        yield count\n",
    "        count += 1\n",
    "print(count_up_to(5))  # This will print a generator object\n",
    "print(list(count_up_to(5)))\n",
    "for num in count_up_to(5):\n",
    "    print(num)"
   ]
  },
  {
   "cell_type": "markdown",
   "id": "6e0365e1",
   "metadata": {},
   "source": [
    "**➤ Iterator Example:**"
   ]
  },
  {
   "cell_type": "code",
   "execution_count": null,
   "id": "a1e26ac2",
   "metadata": {},
   "outputs": [],
   "source": [
    "nums = [1, 2, 3]\n",
    "it = iter(nums)\n",
    "\n",
    "print(next(it))\n",
    "print(next(it))\n",
    "print(next(it))"
   ]
  },
  {
   "cell_type": "markdown",
   "id": "dd8eada3",
   "metadata": {},
   "source": [
    "## 🟢 3. List Comprehensions\n",
    "\n",
    "```A concise way to create lists in a single line.```\n",
    "\n",
    "**➤ Example:**"
   ]
  },
  {
   "cell_type": "code",
   "execution_count": null,
   "id": "64672437",
   "metadata": {},
   "outputs": [],
   "source": [
    "# Without list comprehension\n",
    "squares = []\n",
    "for i in range(5):\n",
    "    squares.append(i ** 2)\n",
    "print(squares)\n",
    "\n",
    "# With list comprehension\n",
    "squares = [i ** 2 for i in range(5)]\n",
    "print(squares)\n",
    "\n",
    "# With condition\n",
    "evens = [i for i in range(10) if i % 2 == 0]\n",
    "print(evens)\n"
   ]
  },
  {
   "cell_type": "markdown",
   "id": "a8254d4b",
   "metadata": {},
   "source": [
    "## 🟢 4. Working with *args and **kwargs\n",
    "\n",
    "- `*args`: Allows variable number of positional arguments.\n",
    "\n",
    "- `**kwargs`: Allows variable number of keyword arguments.\n",
    "\n",
    "**➤ Example with \\*args:**"
   ]
  },
  {
   "cell_type": "code",
   "execution_count": null,
   "metadata": {},
   "outputs": [],
   "source": [
    "def add(*numbers):\n",
    "    total = sum(numbers)\n",
    "    print(\"Sum:\", total)\n",
    "\n",
    "add(1, 2, 3)\n",
    "add(4, 5)"
   ]
  },
  {
   "cell_type": "markdown",
   "id": "d0b5e416",
   "metadata": {},
   "source": [
    "**➤ Example with \\*\\*kwargs:**"
   ]
  },
  {
   "cell_type": "code",
   "execution_count": null,
   "id": "cdc90297",
   "metadata": {},
   "outputs": [],
   "source": [
    "def student_info(**kwargs):\n",
    "    for key, value in kwargs.items():\n",
    "        print(f\"{key}: {value}\")\n",
    "\n",
    "student_info(name=\"Alice\", age=21, grade=\"A\")"
   ]
  },
  {
   "cell_type": "markdown",
   "id": "50ef89d5",
   "metadata": {},
   "source": [
    "**➤ Using map() Function:**"
   ]
  },
  {
   "cell_type": "code",
   "execution_count": null,
   "id": "a41f3add",
   "metadata": {},
   "outputs": [],
   "source": [
    "nums = [1, 2, 3, 4]\n",
    "squared = list(map(lambda x: x ** 2, nums))\n",
    "print(squared)"
   ]
  },
  {
   "cell_type": "markdown",
   "id": "84846998",
   "metadata": {},
   "source": [
    "**➤ Using filter() Function:**"
   ]
  },
  {
   "cell_type": "code",
   "execution_count": null,
   "id": "06d4356b",
   "metadata": {},
   "outputs": [],
   "source": [
    "nums = [1, 2, 3, 4, 5, 6]\n",
    "evens = list(filter(lambda x: x % 2 == 0, nums))\n",
    "print(evens)"
   ]
  },
  {
   "cell_type": "markdown",
   "id": "c942433c",
   "metadata": {},
   "source": [
    "**➤ Using reduce() Function**\n",
    "- `reduce()` applies a function cumulatively to the items of a sequence.\n",
    "\n",
    "- It is part of the `functools` module."
   ]
  },
  {
   "cell_type": "code",
   "execution_count": null,
   "id": "76842bc4",
   "metadata": {},
   "outputs": [],
   "source": [
    "from functools import reduce\n",
    "\n",
    "# Multiply all numbers in a list\n",
    "nums = [1, 2, 3, 4]\n",
    "\n",
    "product = reduce(lambda x, y: x * y, nums)\n",
    "print(product)\n"
   ]
  },
  {
   "cell_type": "code",
   "execution_count": null,
   "id": "45574094",
   "metadata": {},
   "outputs": [],
   "source": [
    "nums = [5, 10, 15]\n",
    "\n",
    "total_sum = reduce(lambda x, y: x + y, nums)\n",
    "print(total_sum)"
   ]
  },
  {
   "cell_type": "markdown",
   "id": "253ad847",
   "metadata": {},
   "source": [
    "**➤ Using enumerate():**"
   ]
  },
  {
   "cell_type": "code",
   "execution_count": null,
   "id": "949ff0b2",
   "metadata": {},
   "outputs": [],
   "source": [
    "fruits = [\"apple\", \"banana\", \"cherry\"]\n",
    "for index, fruit in enumerate(fruits, start=1):\n",
    "    print(index, fruit)"
   ]
  },
  {
   "cell_type": "markdown",
   "id": "cb940061",
   "metadata": {},
   "source": [
    "### **🎯 Quick Recap**"
   ]
  },
  {
   "cell_type": "markdown",
   "id": "772c9474",
   "metadata": {},
   "source": [
    "✅ `map()`: Apply function to all items  \n",
    "\n",
    "✅ `filter()`: Filter items based on condition  \n",
    "\n",
    "✅ `reduce()`: Cumulatively apply function to reduce a sequence to a single value  \n",
    "\n",
    "✅ Lambda: One-line anonymous functions  \n",
    "\n",
    "✅ Generators: Produce values lazily with `yield`  \n",
    "\n",
    "✅ Iterators: Objects used to iterate over sequences  \n",
    "\n",
    "✅ List comprehensions: Compact way to build lists  \n",
    "\n",
    "✅ *args, **kwargs: Flexible argument handling  "
   ]
  },
  {
   "cell_type": "markdown",
   "id": "258344b1",
   "metadata": {},
   "source": [
    "### **📝 Practice Exercises**\n",
    "\n",
    "1. Write a lambda function to multiply two numbers.\n",
    "\n",
    "2. Create a generator that yields even numbers from 1 to 10.\n",
    "\n",
    "3. Use list comprehension to create a list of squares for numbers 1 to 5.\n",
    "\n",
    "4. Write a function that accepts any number of arguments and prints their sum using *args.\n",
    "\n",
    "5. Write a function that accepts student details as keyword arguments and prints them.\n",
    "\n",
    "6. Use `map()` and `filter()` to square numbers and filter odd numbers from a list."
   ]
  }
 ],
 "metadata": {
  "kernelspec": {
   "display_name": "Python 3",
   "language": "python",
   "name": "python3"
  },
  "language_info": {
   "codemirror_mode": {
    "name": "ipython",
    "version": 3
   },
   "file_extension": ".py",
   "mimetype": "text/x-python",
   "name": "python",
   "nbconvert_exporter": "python",
   "pygments_lexer": "ipython3",
   "version": "3.12.10"
  }
 },
 "nbformat": 4,
 "nbformat_minor": 5
}
