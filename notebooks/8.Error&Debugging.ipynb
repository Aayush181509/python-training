{
 "cells": [
  {
   "cell_type": "markdown",
   "id": "fe6dd229",
   "metadata": {},
   "source": [
    "---\n",
    "# 📓 Python Programming - Error Handling and Debugging\n",
    "---"
   ]
  },
  {
   "cell_type": "markdown",
   "id": "445a9b8e",
   "metadata": {
    "vscode": {
     "languageId": "plaintext"
    }
   },
   "source": [
    "## 🟢 1. Try-Except Blocks"
   ]
  },
  {
   "cell_type": "markdown",
   "id": "304dc5d6",
   "metadata": {
    "vscode": {
     "languageId": "plaintext"
    }
   },
   "source": [
    "**Error handling prevents programs from crashing due to unexpected issues.**\n",
    "\n",
    "The basic structure:\n",
    "\n",
    "```python\n",
    "try:\n",
    "    # Code that might raise an error\n",
    "except:\n",
    "    # Code to handle the error\n"
   ]
  },
  {
   "cell_type": "markdown",
   "id": "cbd5522b",
   "metadata": {
    "vscode": {
     "languageId": "plaintext"
    }
   },
   "source": [
    "➤ **Example:**\n"
   ]
  },
  {
   "cell_type": "code",
   "execution_count": null,
   "id": "982645a7",
   "metadata": {},
   "outputs": [],
   "source": [
    "try:\n",
    "    num = int(input(\"Enter a number: \"))\n",
    "    print(f\"Square: {num**2}\")\n",
    "except Exception as e:\n",
    "    print(\"Invalid input! Please enter a number.\\nException:\", e)"
   ]
  },
  {
   "cell_type": "markdown",
   "id": "f2f90335",
   "metadata": {},
   "source": [
    "## 🟢 2. Catching Specific Exceptions\n",
    "\n",
    "```It's better to catch specific exceptions to handle different errors appropriately.```\n"
   ]
  },
  {
   "cell_type": "code",
   "execution_count": null,
   "id": "adc630be",
   "metadata": {},
   "outputs": [],
   "source": [
    "try:\n",
    "    num = int(input(\"Enter a number: \"))\n",
    "    result = 10 / num\n",
    "except ValueError:\n",
    "    print(\"Please enter a valid number.\")\n",
    "except ZeroDivisionError:\n",
    "    print(\"Division by zero is not allowed.\")\n",
    "except Exception as e:\n",
    "    print(\"An unexpected error occurred:\", e)"
   ]
  },
  {
   "cell_type": "markdown",
   "id": "d8a3bdc3",
   "metadata": {},
   "source": [
    "## 🟢 3. Using else & finally\n",
    "\n",
    "- **else:** Runs if no exceptions occur.  \n",
    "\n",
    "- **finally:** Runs no matter what (cleanup code).\n"
   ]
  },
  {
   "cell_type": "code",
   "execution_count": null,
   "id": "867759e9",
   "metadata": {},
   "outputs": [],
   "source": [
    "try:\n",
    "    num = int(input(\"Enter a positive number: \"))\n",
    "except ValueError:\n",
    "    print(\"Invalid input.\")\n",
    "else:\n",
    "    print(f\"You entered: {num}\")\n",
    "finally:\n",
    "    print(\"This always runs.\")"
   ]
  },
  {
   "cell_type": "markdown",
   "id": "41001c8c",
   "metadata": {},
   "source": [
    "## 🟢 4. Generating and Creating Custom Exceptions\n",
    "\n",
    "- You can use `raise` to generate exceptions.\n",
    "\n",
    "- Custom exceptions are created by defining a new class that inherits from `Exception`.\n"
   ]
  },
  {
   "cell_type": "markdown",
   "id": "d456e854",
   "metadata": {},
   "source": [
    "**➤ Raising Exceptions Example:**"
   ]
  },
  {
   "cell_type": "code",
   "execution_count": null,
   "id": "37c264f6",
   "metadata": {},
   "outputs": [],
   "source": [
    "age = -5\n",
    "\n",
    "if age < 0:\n",
    "    raise ValueError(\"Age cannot be negative.\")"
   ]
  },
  {
   "cell_type": "markdown",
   "id": "82ae4561",
   "metadata": {},
   "source": [
    "**➤ Custom Exception Example:**"
   ]
  },
  {
   "cell_type": "code",
   "execution_count": null,
   "id": "dc8b907b",
   "metadata": {},
   "outputs": [
    {
     "name": "stdout",
     "output_type": "stream",
     "text": [
      "Age cannot be negative.\n"
     ]
    }
   ],
   "source": [
    "class NegativeAgeError(Exception):\n",
    "    pass\n",
    "\n",
    "age = -5\n",
    "\n",
    "try:\n",
    "    if age < 0:\n",
    "        raise NegativeAgeError(\"Age cannot be negative.\")\n",
    "except NegativeAgeError as e:\n",
    "    print(e)\n"
   ]
  },
  {
   "cell_type": "markdown",
   "id": "b30434c3",
   "metadata": {},
   "source": [
    "## 🟢 5. Problem-Solving Strategies"
   ]
  },
  {
   "cell_type": "markdown",
   "id": "36f30e2d",
   "metadata": {},
   "source": [
    "✅ Understand the error message.  \n",
    "\n",
    "✅ Use print statements or debugging tools to trace the problem.  \n",
    "\n",
    "✅ Break the code into smaller parts.  \n",
    "\n",
    "✅ Handle exceptions gracefully using try-except blocks.  \n",
    "\n",
    "✅ Anticipate common errors (e.g., invalid input, division by zero).  \n",
    "\n",
    "✅ Write custom exceptions for specific situations.  "
   ]
  },
  {
   "cell_type": "markdown",
   "id": "f3cfdf47",
   "metadata": {},
   "source": [
    "### **🎯 Quick Recap**\n",
    "✅ Use try-except to catch errors and prevent crashes.  \n",
    "\n",
    "✅ Catch specific exceptions for better error handling.  \n",
    "\n",
    "✅ else and finally provide structured error handling.  \n",
    "\n",
    "✅ Custom exceptions allow for clear, descriptive error messages.  \n",
    "\n",
    "✅ Debugging is an essential skill for reliable code.  "
   ]
  },
  {
   "cell_type": "markdown",
   "id": "1087ac42",
   "metadata": {},
   "source": [
    "### **📝 Practice Exercises**\n",
    "\n",
    "1. Write a program that asks for two numbers and divides them. Handle:\n",
    "   - ValueError for invalid inputs\n",
    "   \n",
    "   - ZeroDivisionError for division by zero\n",
    "\n",
    "2. Create a custom exception called `PasswordTooShortError` if the entered password is less than 8 characters.\n",
    "\n",
    "3. Demonstrate the use of `else` and `finally` in a simple program that reads a file.\n",
    "\n",
    "4. Intentionally raise an exception if a negative number is entered for age.\n"
   ]
  }
 ],
 "metadata": {
  "kernelspec": {
   "display_name": "Python 3",
   "language": "python",
   "name": "python3"
  },
  "language_info": {
   "codemirror_mode": {
    "name": "ipython",
    "version": 3
   },
   "file_extension": ".py",
   "mimetype": "text/x-python",
   "name": "python",
   "nbconvert_exporter": "python",
   "pygments_lexer": "ipython3",
   "version": "3.12.10"
  }
 },
 "nbformat": 4,
 "nbformat_minor": 5
}
