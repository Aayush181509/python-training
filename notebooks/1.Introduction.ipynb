{
 "cells": [
  {
   "cell_type": "markdown",
   "id": "2998bc08",
   "metadata": {
    "vscode": {
     "languageId": "plaintext"
    }
   },
   "source": [
    "---\n",
    "## 📓 Python Programming - Introduction to Python\n",
    "---"
   ]
  },
  {
   "cell_type": "markdown",
   "id": "b9c5c921",
   "metadata": {
    "vscode": {
     "languageId": "plaintext"
    }
   },
   "source": [
    "### 1. What exactly is Python?"
   ]
  },
  {
   "cell_type": "markdown",
   "id": "ae2d48dc",
   "metadata": {
    "vscode": {
     "languageId": "plaintext"
    }
   },
   "source": [
    "Python is a high-level, interpreted, general-purpose programming language known for its simplicity and readability. \n",
    "\n",
    "It is widely used for:\n",
    "\n",
    "- Web Development\n",
    "\n",
    "- Data Science\n",
    "\n",
    "- Machine Learning & AI\n",
    "\n",
    "- Automation & Scripting\n",
    "\n",
    "- Software Development\n",
    "\n",
    "- Game Development\n",
    "\n",
    "**Key Features:**\n",
    "\n",
    "- Easy to learn & use  \n",
    "\n",
    "- Open-source & community-driven  \n",
    "\n",
    "- Extensive libraries & frameworks  \n",
    "\n",
    "- Cross-platform  \n",
    "\n",
    "- Supports multiple programming paradigms (procedural, object-oriented, functional)  \n"
   ]
  },
  {
   "cell_type": "markdown",
   "id": "45d19c8b",
   "metadata": {},
   "source": [
    "###  2. Python's Root and Ecosystem"
   ]
  },
  {
   "cell_type": "markdown",
   "id": "cc987859",
   "metadata": {
    "vscode": {
     "languageId": "plaintext"
    }
   },
   "source": [
    "**🐍 Origin:**\n",
    "\n",
    "- Created by **Guido van Rossum** in the late 1980s.\n",
    "\n",
    "- First released in **1991**.\n",
    "\n",
    "- Name inspired by the British comedy group **Monty Python**, not the snake.\n",
    "\n",
    "**🌍 Ecosystem:**\n",
    "\n",
    "- Rich set of libraries (e.g., NumPy, Pandas, Matplotlib)\n",
    "\n",
    "- Package management through **pip**\n",
    "\n",
    "- Large developer community\n",
    "\n",
    "- Popular frameworks: Django, Flask, FastAPI for web; TensorFlow, PyTorch for AI/ML\n"
   ]
  },
  {
   "cell_type": "markdown",
   "id": "bc8e78f1",
   "metadata": {
    "vscode": {
     "languageId": "plaintext"
    }
   },
   "source": [
    "###  3. Python Installation & IDEs Setting Up"
   ]
  },
  {
   "cell_type": "markdown",
   "id": "08bdbfd7",
   "metadata": {
    "vscode": {
     "languageId": "plaintext"
    }
   },
   "source": [
    "**⚙️ Installation:**\n",
    "- Recommended: Install latest version from [https://www.python.org](https://www.python.org)\n",
    "\n",
    "**💻 Popular IDEs for Python:**\n",
    "\n",
    "- **Google Colab** (cloud-based, no installation needed)\n",
    "\n",
    "- **Jupyter Notebook** (ideal for data science, interactive coding)\n",
    "\n",
    "- **VS Code** (lightweight, customizable)\n",
    "\n",
    "- **PyCharm** (feature-rich, professional-grade)"
   ]
  },
  {
   "cell_type": "markdown",
   "id": "fd2fe1ad",
   "metadata": {
    "vscode": {
     "languageId": "plaintext"
    }
   },
   "source": [
    "**➤ Example: Running Python in Google Colab**\n",
    "1. Visit https://colab.research.google.com\n",
    "\n",
    "2. Click \"New Notebook\"\n",
    "\n",
    "3. Write your Python code and press Shift + Enter to run"
   ]
  },
  {
   "cell_type": "code",
   "execution_count": null,
   "id": "626afc2f",
   "metadata": {},
   "outputs": [],
   "source": [
    "# Simple Python code in Colab\n",
    "\n",
    "print(\"Step 1: Write code. Step 2: Debug. Step 3: Cry. Repeat.\")"
   ]
  },
  {
   "cell_type": "markdown",
   "id": "1ca3309a",
   "metadata": {},
   "source": [
    "###  4. Python Framework & Syntax"
   ]
  },
  {
   "cell_type": "markdown",
   "id": "307255a3",
   "metadata": {},
   "source": [
    "**Python Syntax Basics:**\n",
    "- Case-sensitive\n",
    "\n",
    "- Indentation defines blocks (no curly braces)\n",
    "\n",
    "- Easy to read and write"
   ]
  },
  {
   "cell_type": "code",
   "execution_count": null,
   "id": "a9902e28",
   "metadata": {},
   "outputs": [],
   "source": [
    "# Printing a message\n",
    "print(\"I thought Python was a snake... why am I coding?\")\n",
    "\n",
    "# Indentation defines code blocks\n",
    "x = 10\n",
    "if x > 5:\n",
    "    print(\"x is greater than 5\")\n"
   ]
  },
  {
   "cell_type": "code",
   "execution_count": null,
   "id": "a37d2c38",
   "metadata": {},
   "outputs": [],
   "source": [
    "# Variables and Data Types\n",
    "name = \"Chirag\"        # String\n",
    "age = 25               # Integer\n",
    "height = 5.6           # Float\n",
    "is_student = True      # Boolean\n",
    "\n",
    "print(f\"Name: {name}, Age: {age}, Height: {height}, Student: {is_student}\")\n",
    "\n",
    "# Comments in Python\n",
    "# This is a single-line comment\n",
    "\n",
    "\"\"\"\n",
    "This is a multi-line comment\n",
    "or docstring\n",
    "\"\"\"\n",
    "\n",
    "# Python's dynamic typing\n",
    "x = 10        # x is an integer\n",
    "x = \"hello\"   # now x is a string\n",
    "x = [1, 2, 3] # now x is a list\n",
    "print(\"Dynamic typing demo:\", x)"
   ]
  },
  {
   "cell_type": "code",
   "execution_count": null,
   "id": "8958822b",
   "metadata": {},
   "outputs": [],
   "source": [
    "import cowsay\n",
    "\n",
    "cowsay.kitty(\"I am a kitty! not a snake!\")"
   ]
  },
  {
   "cell_type": "markdown",
   "id": "923f063b",
   "metadata": {},
   "source": [
    "**Let's try basic operations:**\n",
    "\n",
    "- Printing messages\n",
    "\n",
    "- Simple arithmetic\n",
    "\n",
    "- Using variables"
   ]
  },
  {
   "cell_type": "code",
   "execution_count": null,
   "id": "81ea20d0",
   "metadata": {},
   "outputs": [],
   "source": [
    "# Print statement\n",
    "print(\"Python: Less hiss, more code.\")\n",
    "\n",
    "# Arithmetic operations\n",
    "a = 5\n",
    "b = 3\n",
    "print(\"Sum:\", a + b)\n",
    "print(\"Difference:\", a - b)\n",
    "print(\"Product:\", a * b)\n",
    "print(\"Division:\", a / b)"
   ]
  },
  {
   "cell_type": "code",
   "execution_count": null,
   "id": "a6f90b4e",
   "metadata": {},
   "outputs": [],
   "source": [
    "# Getting user input\n",
    "# name = input(\"What's your name? \")\n",
    "# age = input(\"How old are you? \")\n",
    "# print(f\"Hello {name}! You are {age} years old.\")\n",
    "\n",
    "# Note: Uncomment the above lines to try interactive input\n",
    "\n",
    "# String operations\n",
    "message = \"Python Programming\"\n",
    "print(\"Original:\", message)\n",
    "print(\"Uppercase:\", message.upper())\n",
    "print(\"Lowercase:\", message.lower())\n",
    "print(\"Length:\", len(message))\n",
    "print(\"Replace:\", message.replace(\"Python\", \"Amazing Python\"))"
   ]
  },
  {
   "cell_type": "markdown",
   "id": "49b10c67",
   "metadata": {},
   "source": [
    "* Python is simple, versatile, and powerful  \n",
    "\n",
    "* Created by Guido van Rossum  \n",
    "\n",
    "* Strong ecosystem with packages & frameworks  \n",
    "\n",
    "* Available in multiple IDEs (Colab, Jupyter, VS Code)  \n",
    "\n",
    "* Indentation is critical in Python  \n",
    "\n",
    "* Hands-on coding encouraged  "
   ]
  },
  {
   "cell_type": "markdown",
   "id": "18fe6d74",
   "metadata": {},
   "source": [
    "### 5. The Zen of Python & Best Practices\n",
    "\n",
    "**🧘 Python Philosophy:**\n",
    "Python follows the \"Zen of Python\" principles - try running `import this` in Python!"
   ]
  },
  {
   "cell_type": "code",
   "execution_count": null,
   "id": "3a9fafa6",
   "metadata": {},
   "outputs": [],
   "source": [
    "# The Zen of Python\n",
    "import this"
   ]
  },
  {
   "cell_type": "markdown",
   "id": "05d3ae02",
   "metadata": {},
   "source": [
    "**📋 Python Naming Conventions:**\n",
    "\n",
    "- Variables: `snake_case` (e.g., `user_name`, `total_count`)\n",
    "\n",
    "- Functions: `snake_case` (e.g., `calculate_area()`, `get_user_input()`)\n",
    "\n",
    "- Classes: `PascalCase` (e.g., `UserAccount`, `DataProcessor`)\n",
    "\n",
    "- Constants: `UPPER_CASE` (e.g., `MAX_SIZE`, `DEFAULT_TIMEOUT`)"
   ]
  },
  {
   "cell_type": "code",
   "execution_count": null,
   "id": "783c74e3",
   "metadata": {},
   "outputs": [],
   "source": [
    "# Basic Error Handling\n",
    "try:\n",
    "    number = int(\"not_a_number\")\n",
    "except ValueError as e:\n",
    "    print(f\"Oops! That's not a valid number: {e}\")\n",
    "\n",
    "# Better approach\n",
    "try:\n",
    "    user_input = \"42\"  # This would normally be input()\n",
    "    number = int(user_input)\n",
    "    result = 100 / number\n",
    "    print(f\"Result: {result}\")\n",
    "except ValueError:\n",
    "    print(\"Please enter a valid number!\")\n",
    "except ZeroDivisionError:\n",
    "    print(\"Cannot divide by zero!\")\n",
    "except Exception as e:\n",
    "    print(f\"Something went wrong: {e}\")"
   ]
  },
  {
   "cell_type": "markdown",
   "id": "f27b78b9",
   "metadata": {},
   "source": [
    "### 📝 Practice Exercises"
   ]
  },
  {
   "cell_type": "markdown",
   "id": "0500bc41",
   "metadata": {},
   "source": [
    "**Basic Exercises:**\n",
    "\n",
    "1. Print your name using Python.\n",
    "\n",
    "2. Try basic arithmetic operations (addition, subtraction, multiplication, division).\n",
    "\n",
    "3. Explore Google Colab or Jupyter Notebook and run your first Python code.\n",
    "\n",
    "**Intermediate Exercises:**\n",
    "\n",
    "4. Create variables for your name, age, and favorite color, then print them in a formatted sentence.\n",
    "\n",
    "5. Write a program that calculates the area of a rectangle (length × width).\n",
    "\n",
    "6. Try the `import this` command and read through the Zen of Python.\n",
    "\n",
    "**Challenge Exercises:**\n",
    "\n",
    "7. Create a simple calculator that adds two numbers (use variables, not input for now).\n",
    "\n",
    "8. Write a program that converts temperature from Celsius to Fahrenheit using the formula: F = (C × 9/5) + 32.\n",
    "\n",
    "9. Practice string operations: take a sentence and print it in uppercase, lowercase, and count its characters."
   ]
  }
 ],
 "metadata": {
  "kernelspec": {
   "display_name": "fellowship",
   "language": "python",
   "name": "python3"
  },
  "language_info": {
   "codemirror_mode": {
    "name": "ipython",
    "version": 3
   },
   "file_extension": ".py",
   "mimetype": "text/x-python",
   "name": "python",
   "nbconvert_exporter": "python",
   "pygments_lexer": "ipython3",
   "version": "3.11.12"
  }
 },
 "nbformat": 4,
 "nbformat_minor": 5
}
