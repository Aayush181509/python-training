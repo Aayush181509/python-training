{
 "cells": [
  {
   "cell_type": "markdown",
   "id": "2998bc08",
   "metadata": {
    "vscode": {
     "languageId": "plaintext"
    }
   },
   "source": [
    "---\n",
    "## 📓 Python Programming - Introduction to Python\n",
    "---"
   ]
  },
  {
   "cell_type": "markdown",
   "id": "b9c5c921",
   "metadata": {
    "vscode": {
     "languageId": "plaintext"
    }
   },
   "source": [
    "### 1. What exactly is Python?"
   ]
  },
  {
   "cell_type": "markdown",
   "id": "ae2d48dc",
   "metadata": {
    "vscode": {
     "languageId": "plaintext"
    }
   },
   "source": [
    "Python is a high-level, interpreted, general-purpose programming language known for its simplicity and readability. \n",
    "\n",
    "It is widely used for:\n",
    "\n",
    "- Web Development\n",
    "\n",
    "- Data Science\n",
    "\n",
    "- Machine Learning & AI\n",
    "\n",
    "- Automation & Scripting\n",
    "\n",
    "- Software Development\n",
    "\n",
    "- Game Development\n",
    "\n",
    "**Key Features:**\n",
    "\n",
    "- Easy to learn & use  \n",
    "\n",
    "- Open-source & community-driven  \n",
    "\n",
    "- Extensive libraries & frameworks  \n",
    "\n",
    "- Cross-platform  \n",
    "\n",
    "- Supports multiple programming paradigms (procedural, object-oriented, functional)  \n"
   ]
  },
  {
   "cell_type": "markdown",
   "id": "45d19c8b",
   "metadata": {},
   "source": [
    "###  2. Python's Root and Ecosystem"
   ]
  },
  {
   "cell_type": "markdown",
   "id": "cc987859",
   "metadata": {
    "vscode": {
     "languageId": "plaintext"
    }
   },
   "source": [
    "**🐍 Origin:**\n",
    "\n",
    "- Created by **Guido van Rossum** in the late 1980s.\n",
    "\n",
    "- First released in **1991**.\n",
    "\n",
    "- Name inspired by the British comedy group **Monty Python**, not the snake.\n",
    "\n",
    "**🌍 Ecosystem:**\n",
    "\n",
    "- Rich set of libraries (e.g., NumPy, Pandas, Matplotlib)\n",
    "\n",
    "- Package management through **pip**\n",
    "\n",
    "- Large developer community\n",
    "\n",
    "- Popular frameworks: Django, Flask, FastAPI for web; TensorFlow, PyTorch for AI/ML\n"
   ]
  },
  {
   "cell_type": "markdown",
   "id": "bc8e78f1",
   "metadata": {
    "vscode": {
     "languageId": "plaintext"
    }
   },
   "source": [
    "###  3. Python Installation & IDEs Setting Up"
   ]
  },
  {
   "cell_type": "markdown",
   "id": "08bdbfd7",
   "metadata": {
    "vscode": {
     "languageId": "plaintext"
    }
   },
   "source": [
    "**⚙️ Installation:**\n",
    "- Recommended: Install latest version from [https://www.python.org](https://www.python.org)\n",
    "\n",
    "**💻 Popular IDEs for Python:**\n",
    "\n",
    "- **Google Colab** (cloud-based, no installation needed)\n",
    "\n",
    "- **Jupyter Notebook** (ideal for data science, interactive coding)\n",
    "\n",
    "- **VS Code** (lightweight, customizable)\n",
    "\n",
    "- **PyCharm** (feature-rich, professional-grade)"
   ]
  },
  {
   "cell_type": "markdown",
   "id": "fd2fe1ad",
   "metadata": {
    "vscode": {
     "languageId": "plaintext"
    }
   },
   "source": [
    "**➤ Example: Running Python in Google Colab**\n",
    "1. Visit https://colab.research.google.com\n",
    "\n",
    "2. Click \"New Notebook\"\n",
    "\n",
    "3. Write your Python code and press Shift + Enter to run"
   ]
  },
  {
   "cell_type": "code",
   "execution_count": null,
   "id": "626afc2f",
   "metadata": {},
   "outputs": [],
   "source": [
    "# Simple Python code in Colab\n",
    "\n",
    "print(\"Step 1: Write code. Step 2: Debug. Step 3: Cry. Repeat.\")"
   ]
  },
  {
   "cell_type": "markdown",
   "id": "1ca3309a",
   "metadata": {},
   "source": [
    "###  4. Python Framework & Syntax"
   ]
  },
  {
   "cell_type": "markdown",
   "id": "307255a3",
   "metadata": {},
   "source": [
    "**Python Syntax Basics:**\n",
    "- Case-sensitive\n",
    "\n",
    "- Indentation defines blocks (no curly braces)\n",
    "\n",
    "- Easy to read and write"
   ]
  },
  {
   "cell_type": "code",
   "execution_count": null,
   "id": "a9902e28",
   "metadata": {},
   "outputs": [],
   "source": [
    "# Printing a message\n",
    "print(\"I thought Python was a snake... why am I coding?\")\n",
    "\n",
    "# Indentation defines code blocks\n",
    "x = 10\n",
    "if x > 5:\n",
    "    print(\"x is greater than 5\")\n"
   ]
  },
  {
   "cell_type": "code",
   "execution_count": 12,
   "id": "8958822b",
   "metadata": {},
   "outputs": [
    {
     "name": "stdout",
     "output_type": "stream",
     "text": [
      "  __________________________\n",
      "| I am a kitty! not a snake! |\n",
      "  ==========================\n",
      "                             \\\n",
      "                              \\\n",
      "                               \\\n",
      "                                \\\n",
      "                                 (\"`-'  '-/\") .___..--' ' \"`-._\n",
      "                                  ` *_ *  )    `-.   (      ) .`-.__. `)\n",
      "                                   (_Y_.) ' ._   )   `._` ;  `` -. .-'\n",
      "                                _.. `--'_..-_/   /--' _ .' ,4\n",
      "                               ( i l ),-''  ( l i),'  ( ( ! .-'\n"
     ]
    }
   ],
   "source": [
    "import cowsay\n",
    "\n",
    "cowsay.kitty(\"I am a kitty! not a snake!\")"
   ]
  },
  {
   "cell_type": "markdown",
   "id": "923f063b",
   "metadata": {},
   "source": [
    "**Let's try basic operations:**\n",
    "\n",
    "- Printing messages\n",
    "\n",
    "- Simple arithmetic\n",
    "\n",
    "- Using variables"
   ]
  },
  {
   "cell_type": "code",
   "execution_count": null,
   "id": "81ea20d0",
   "metadata": {},
   "outputs": [],
   "source": [
    "# Print statement\n",
    "print(\"Python: Less hiss, more code.\")\n",
    "\n",
    "# Arithmetic operations\n",
    "a = 5\n",
    "b = 3\n",
    "print(\"Sum:\", a + b)\n",
    "print(\"Difference:\", a - b)\n",
    "print(\"Product:\", a * b)\n",
    "print(\"Division:\", a / b)"
   ]
  },
  {
   "cell_type": "markdown",
   "id": "49b10c67",
   "metadata": {},
   "source": [
    "* Python is simple, versatile, and powerful  \n",
    "\n",
    "* Created by Guido van Rossum  \n",
    "\n",
    "* Strong ecosystem with packages & frameworks  \n",
    "\n",
    "* Available in multiple IDEs (Colab, Jupyter, VS Code)  \n",
    "\n",
    "* Indentation is critical in Python  \n",
    "\n",
    "* Hands-on coding encouraged  "
   ]
  },
  {
   "cell_type": "markdown",
   "id": "f27b78b9",
   "metadata": {},
   "source": [
    "### 📝 Practice Exercises"
   ]
  },
  {
   "cell_type": "markdown",
   "id": "0500bc41",
   "metadata": {},
   "source": [
    "1. Print your name using Python.\n",
    "\n",
    "2. Try basic arithmetic operations (addition, subtraction, multiplication, division).\n",
    "\n",
    "3. Explore Google Colab or Jupyter Notebook and run your first Python code."
   ]
  }
 ],
 "metadata": {
  "kernelspec": {
   "display_name": "fellowship",
   "language": "python",
   "name": "python3"
  },
  "language_info": {
   "codemirror_mode": {
    "name": "ipython",
    "version": 3
   },
   "file_extension": ".py",
   "mimetype": "text/x-python",
   "name": "python",
   "nbconvert_exporter": "python",
   "pygments_lexer": "ipython3",
   "version": "3.11.12"
  }
 },
 "nbformat": 4,
 "nbformat_minor": 5
}
